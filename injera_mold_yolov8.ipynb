{
  "cells": [
    {
      "cell_type": "markdown",
      "metadata": {
        "id": "d0omghLaC-6u"
      },
      "source": [
        "# **Model with 640px images and medium weight**"
      ]
    },
    {
      "cell_type": "code",
      "execution_count": null,
      "metadata": {
        "colab": {
          "base_uri": "https://localhost:8080/"
        },
        "id": "zzl5Va7Gq56U",
        "outputId": "3eb23184-a76a-482c-e701-a9d7b7427d2b"
      },
      "outputs": [
        {
          "name": "stdout",
          "output_type": "stream",
          "text": [
            "Requirement already satisfied: ultralytics in /usr/local/lib/python3.10/dist-packages (8.1.8)\n",
            "Requirement already satisfied: matplotlib>=3.3.0 in /usr/local/lib/python3.10/dist-packages (from ultralytics) (3.7.1)\n",
            "Requirement already satisfied: numpy>=1.22.2 in /usr/local/lib/python3.10/dist-packages (from ultralytics) (1.23.5)\n",
            "Requirement already satisfied: opencv-python>=4.6.0 in /usr/local/lib/python3.10/dist-packages (from ultralytics) (4.8.0.76)\n",
            "Requirement already satisfied: pillow>=7.1.2 in /usr/local/lib/python3.10/dist-packages (from ultralytics) (9.4.0)\n",
            "Requirement already satisfied: pyyaml>=5.3.1 in /usr/local/lib/python3.10/dist-packages (from ultralytics) (6.0.1)\n",
            "Requirement already satisfied: requests>=2.23.0 in /usr/local/lib/python3.10/dist-packages (from ultralytics) (2.31.0)\n",
            "Requirement already satisfied: scipy>=1.4.1 in /usr/local/lib/python3.10/dist-packages (from ultralytics) (1.11.4)\n",
            "Requirement already satisfied: torch>=1.8.0 in /usr/local/lib/python3.10/dist-packages (from ultralytics) (2.1.0+cu121)\n",
            "Requirement already satisfied: torchvision>=0.9.0 in /usr/local/lib/python3.10/dist-packages (from ultralytics) (0.16.0+cu121)\n",
            "Requirement already satisfied: tqdm>=4.64.0 in /usr/local/lib/python3.10/dist-packages (from ultralytics) (4.66.1)\n",
            "Requirement already satisfied: psutil in /usr/local/lib/python3.10/dist-packages (from ultralytics) (5.9.5)\n",
            "Requirement already satisfied: py-cpuinfo in /usr/local/lib/python3.10/dist-packages (from ultralytics) (9.0.0)\n",
            "Requirement already satisfied: thop>=0.1.1 in /usr/local/lib/python3.10/dist-packages (from ultralytics) (0.1.1.post2209072238)\n",
            "Requirement already satisfied: pandas>=1.1.4 in /usr/local/lib/python3.10/dist-packages (from ultralytics) (1.5.3)\n",
            "Requirement already satisfied: seaborn>=0.11.0 in /usr/local/lib/python3.10/dist-packages (from ultralytics) (0.13.1)\n",
            "Requirement already satisfied: contourpy>=1.0.1 in /usr/local/lib/python3.10/dist-packages (from matplotlib>=3.3.0->ultralytics) (1.2.0)\n",
            "Requirement already satisfied: cycler>=0.10 in /usr/local/lib/python3.10/dist-packages (from matplotlib>=3.3.0->ultralytics) (0.10.0)\n",
            "Requirement already satisfied: fonttools>=4.22.0 in /usr/local/lib/python3.10/dist-packages (from matplotlib>=3.3.0->ultralytics) (4.47.2)\n",
            "Requirement already satisfied: kiwisolver>=1.0.1 in /usr/local/lib/python3.10/dist-packages (from matplotlib>=3.3.0->ultralytics) (1.4.5)\n",
            "Requirement already satisfied: packaging>=20.0 in /usr/local/lib/python3.10/dist-packages (from matplotlib>=3.3.0->ultralytics) (23.2)\n",
            "Requirement already satisfied: pyparsing>=2.3.1 in /usr/local/lib/python3.10/dist-packages (from matplotlib>=3.3.0->ultralytics) (3.1.1)\n",
            "Requirement already satisfied: python-dateutil>=2.7 in /usr/local/lib/python3.10/dist-packages (from matplotlib>=3.3.0->ultralytics) (2.8.2)\n",
            "Requirement already satisfied: pytz>=2020.1 in /usr/local/lib/python3.10/dist-packages (from pandas>=1.1.4->ultralytics) (2023.3.post1)\n",
            "Requirement already satisfied: charset-normalizer<4,>=2 in /usr/local/lib/python3.10/dist-packages (from requests>=2.23.0->ultralytics) (3.3.2)\n",
            "Requirement already satisfied: idna<4,>=2.5 in /usr/local/lib/python3.10/dist-packages (from requests>=2.23.0->ultralytics) (2.10)\n",
            "Requirement already satisfied: urllib3<3,>=1.21.1 in /usr/local/lib/python3.10/dist-packages (from requests>=2.23.0->ultralytics) (2.0.7)\n",
            "Requirement already satisfied: certifi>=2017.4.17 in /usr/local/lib/python3.10/dist-packages (from requests>=2.23.0->ultralytics) (2023.7.22)\n",
            "Requirement already satisfied: filelock in /usr/local/lib/python3.10/dist-packages (from torch>=1.8.0->ultralytics) (3.13.1)\n",
            "Requirement already satisfied: typing-extensions in /usr/local/lib/python3.10/dist-packages (from torch>=1.8.0->ultralytics) (4.5.0)\n",
            "Requirement already satisfied: sympy in /usr/local/lib/python3.10/dist-packages (from torch>=1.8.0->ultralytics) (1.12)\n",
            "Requirement already satisfied: networkx in /usr/local/lib/python3.10/dist-packages (from torch>=1.8.0->ultralytics) (3.2.1)\n",
            "Requirement already satisfied: jinja2 in /usr/local/lib/python3.10/dist-packages (from torch>=1.8.0->ultralytics) (3.1.3)\n",
            "Requirement already satisfied: fsspec in /usr/local/lib/python3.10/dist-packages (from torch>=1.8.0->ultralytics) (2023.6.0)\n",
            "Requirement already satisfied: triton==2.1.0 in /usr/local/lib/python3.10/dist-packages (from torch>=1.8.0->ultralytics) (2.1.0)\n",
            "Requirement already satisfied: six in /usr/local/lib/python3.10/dist-packages (from cycler>=0.10->matplotlib>=3.3.0->ultralytics) (1.16.0)\n",
            "Requirement already satisfied: MarkupSafe>=2.0 in /usr/local/lib/python3.10/dist-packages (from jinja2->torch>=1.8.0->ultralytics) (2.1.4)\n",
            "Requirement already satisfied: mpmath>=0.19 in /usr/local/lib/python3.10/dist-packages (from sympy->torch>=1.8.0->ultralytics) (1.3.0)\n"
          ]
        }
      ],
      "source": [
        "!pip install ultralytics"
      ]
    },
    {
      "cell_type": "code",
      "execution_count": null,
      "metadata": {
        "colab": {
          "base_uri": "https://localhost:8080/"
        },
        "id": "jHMGkL2lsWfh",
        "outputId": "fb0432c7-901b-40d6-e604-f1497988b444"
      },
      "outputs": [
        {
          "name": "stdout",
          "output_type": "stream",
          "text": [
            "Requirement already satisfied: roboflow in /usr/local/lib/python3.10/dist-packages (1.1.18)\n",
            "Requirement already satisfied: certifi==2023.7.22 in /usr/local/lib/python3.10/dist-packages (from roboflow) (2023.7.22)\n",
            "Requirement already satisfied: chardet==4.0.0 in /usr/local/lib/python3.10/dist-packages (from roboflow) (4.0.0)\n",
            "Requirement already satisfied: cycler==0.10.0 in /usr/local/lib/python3.10/dist-packages (from roboflow) (0.10.0)\n",
            "Requirement already satisfied: idna==2.10 in /usr/local/lib/python3.10/dist-packages (from roboflow) (2.10)\n",
            "Requirement already satisfied: kiwisolver>=1.3.1 in /usr/local/lib/python3.10/dist-packages (from roboflow) (1.4.5)\n",
            "Requirement already satisfied: matplotlib in /usr/local/lib/python3.10/dist-packages (from roboflow) (3.7.1)\n",
            "Requirement already satisfied: numpy>=1.18.5 in /usr/local/lib/python3.10/dist-packages (from roboflow) (1.23.5)\n",
            "Requirement already satisfied: opencv-python-headless==4.8.0.74 in /usr/local/lib/python3.10/dist-packages (from roboflow) (4.8.0.74)\n",
            "Requirement already satisfied: Pillow>=7.1.2 in /usr/local/lib/python3.10/dist-packages (from roboflow) (9.4.0)\n",
            "Requirement already satisfied: python-dateutil in /usr/local/lib/python3.10/dist-packages (from roboflow) (2.8.2)\n",
            "Requirement already satisfied: python-dotenv in /usr/local/lib/python3.10/dist-packages (from roboflow) (1.0.1)\n",
            "Requirement already satisfied: requests in /usr/local/lib/python3.10/dist-packages (from roboflow) (2.31.0)\n",
            "Requirement already satisfied: six in /usr/local/lib/python3.10/dist-packages (from roboflow) (1.16.0)\n",
            "Requirement already satisfied: supervision in /usr/local/lib/python3.10/dist-packages (from roboflow) (0.18.0)\n",
            "Requirement already satisfied: urllib3>=1.26.6 in /usr/local/lib/python3.10/dist-packages (from roboflow) (2.0.7)\n",
            "Requirement already satisfied: tqdm>=4.41.0 in /usr/local/lib/python3.10/dist-packages (from roboflow) (4.66.1)\n",
            "Requirement already satisfied: PyYAML>=5.3.1 in /usr/local/lib/python3.10/dist-packages (from roboflow) (6.0.1)\n",
            "Requirement already satisfied: requests-toolbelt in /usr/local/lib/python3.10/dist-packages (from roboflow) (1.0.0)\n",
            "Requirement already satisfied: python-magic in /usr/local/lib/python3.10/dist-packages (from roboflow) (0.4.27)\n",
            "Requirement already satisfied: contourpy>=1.0.1 in /usr/local/lib/python3.10/dist-packages (from matplotlib->roboflow) (1.2.0)\n",
            "Requirement already satisfied: fonttools>=4.22.0 in /usr/local/lib/python3.10/dist-packages (from matplotlib->roboflow) (4.47.2)\n",
            "Requirement already satisfied: packaging>=20.0 in /usr/local/lib/python3.10/dist-packages (from matplotlib->roboflow) (23.2)\n",
            "Requirement already satisfied: pyparsing>=2.3.1 in /usr/local/lib/python3.10/dist-packages (from matplotlib->roboflow) (3.1.1)\n",
            "Requirement already satisfied: charset-normalizer<4,>=2 in /usr/local/lib/python3.10/dist-packages (from requests->roboflow) (3.3.2)\n",
            "Requirement already satisfied: defusedxml<0.8.0,>=0.7.1 in /usr/local/lib/python3.10/dist-packages (from supervision->roboflow) (0.7.1)\n",
            "Requirement already satisfied: scipy<2.0.0,>=1.10.0 in /usr/local/lib/python3.10/dist-packages (from supervision->roboflow) (1.11.4)\n",
            "loading Roboflow workspace...\n",
            "loading Roboflow project...\n",
            "Dependency ultralytics==8.0.196 is required but found version=8.1.8, to fix: `pip install ultralytics==8.0.196`\n"
          ]
        }
      ],
      "source": [
        "!pip install roboflow\n",
        "\n",
        "from roboflow import Roboflow\n",
        "rf = Roboflow(api_key=\"ABoNAvhfRpqORadYbTvU\")\n",
        "project = rf.workspace(\"injera-mold-detection\").project(\"mold-5aw2h\")\n",
        "dataset = project.version(4).download(\"yolov8\")"
      ]
    },
    {
      "cell_type": "code",
      "execution_count": null,
      "metadata": {
        "id": "xIqbdgcdrjO-"
      },
      "outputs": [],
      "source": [
        "from ultralytics import YOLO"
      ]
    },
    {
      "cell_type": "code",
      "execution_count": null,
      "metadata": {
        "colab": {
          "base_uri": "https://localhost:8080/"
        },
        "id": "SL8moHgrrBWl",
        "outputId": "c4385726-dbb4-470e-9092-b175f16ec5ee"
      },
      "outputs": [
        {
          "name": "stdout",
          "output_type": "stream",
          "text": [
            "Transferred 319/581 items from pretrained weights\n"
          ]
        }
      ],
      "source": [
        "model = YOLO('yolov8m-p2.yaml').load('yolov8m.pt')"
      ]
    },
    {
      "cell_type": "code",
      "execution_count": null,
      "metadata": {
        "colab": {
          "base_uri": "https://localhost:8080/"
        },
        "id": "EjAOVcesw8gy",
        "outputId": "3f1c47ff-4fda-4258-caf8-590490aa0b51"
      },
      "outputs": [
        {
          "name": "stdout",
          "output_type": "stream",
          "text": [
            "Ultralytics YOLOv8.1.8 🚀 Python-3.10.12 torch-2.1.0+cu121 CUDA:0 (Tesla T4, 15102MiB)\n",
            "\u001b[34m\u001b[1mengine/trainer: \u001b[0mtask=detect, mode=train, model=yolov8m-p2.yaml, data=/content/mold-4/data.yaml, epochs=500, time=None, patience=50, batch=16, imgsz=640, save=True, save_period=-1, cache=False, device=0, workers=8, project=None, name=train3, exist_ok=False, pretrained=True, optimizer=auto, verbose=True, seed=0, deterministic=True, single_cls=False, rect=False, cos_lr=False, close_mosaic=10, resume=False, amp=True, fraction=1.0, profile=False, freeze=None, multi_scale=False, overlap_mask=True, mask_ratio=4, dropout=0.0, val=True, split=val, save_json=False, save_hybrid=False, conf=None, iou=0.7, max_det=300, half=False, dnn=False, plots=True, source=None, vid_stride=1, stream_buffer=False, visualize=False, augment=False, agnostic_nms=False, classes=None, retina_masks=False, embed=None, show=False, save_frames=False, save_txt=False, save_conf=False, save_crop=False, show_labels=True, show_conf=True, show_boxes=True, line_width=None, format=torchscript, keras=False, optimize=False, int8=False, dynamic=False, simplify=False, opset=None, workspace=4, nms=False, lr0=0.01, lrf=0.01, momentum=0.937, weight_decay=0.0005, warmup_epochs=3.0, warmup_momentum=0.8, warmup_bias_lr=0.1, box=7.5, cls=0.5, dfl=1.5, pose=12.0, kobj=1.0, label_smoothing=0.0, nbs=64, hsv_h=0.015, hsv_s=0.7, hsv_v=0.4, degrees=0.0, translate=0.1, scale=0.5, shear=0.0, perspective=0.0, flipud=0.0, fliplr=0.5, mosaic=1.0, mixup=0.0, copy_paste=0.0, auto_augment=randaugment, erasing=0.4, crop_fraction=1.0, cfg=None, tracker=botsort.yaml, save_dir=runs/detect/train3\n",
            "Downloading https://ultralytics.com/assets/Arial.ttf to '/root/.config/Ultralytics/Arial.ttf'...\n"
          ]
        },
        {
          "name": "stderr",
          "output_type": "stream",
          "text": [
            "100%|██████████| 755k/755k [00:00<00:00, 13.3MB/s]\n"
          ]
        },
        {
          "name": "stdout",
          "output_type": "stream",
          "text": [
            "Overriding model.yaml nc=80 with nc=1\n",
            "\n",
            "                   from  n    params  module                                       arguments                     \n",
            "  0                  -1  1      1392  ultralytics.nn.modules.conv.Conv             [3, 48, 3, 2]                 \n",
            "  1                  -1  1     41664  ultralytics.nn.modules.conv.Conv             [48, 96, 3, 2]                \n",
            "  2                  -1  2    111360  ultralytics.nn.modules.block.C2f             [96, 96, 2, True]             \n",
            "  3                  -1  1    166272  ultralytics.nn.modules.conv.Conv             [96, 192, 3, 2]               \n",
            "  4                  -1  4    813312  ultralytics.nn.modules.block.C2f             [192, 192, 4, True]           \n",
            "  5                  -1  1    664320  ultralytics.nn.modules.conv.Conv             [192, 384, 3, 2]              \n",
            "  6                  -1  4   3248640  ultralytics.nn.modules.block.C2f             [384, 384, 4, True]           \n",
            "  7                  -1  1   1991808  ultralytics.nn.modules.conv.Conv             [384, 576, 3, 2]              \n",
            "  8                  -1  2   3985920  ultralytics.nn.modules.block.C2f             [576, 576, 2, True]           \n",
            "  9                  -1  1    831168  ultralytics.nn.modules.block.SPPF            [576, 576, 5]                 \n",
            " 10                  -1  1         0  torch.nn.modules.upsampling.Upsample         [None, 2, 'nearest']          \n",
            " 11             [-1, 6]  1         0  ultralytics.nn.modules.conv.Concat           [1]                           \n",
            " 12                  -1  2   1993728  ultralytics.nn.modules.block.C2f             [960, 384, 2]                 \n",
            " 13                  -1  1         0  torch.nn.modules.upsampling.Upsample         [None, 2, 'nearest']          \n",
            " 14             [-1, 4]  1         0  ultralytics.nn.modules.conv.Concat           [1]                           \n",
            " 15                  -1  2    517632  ultralytics.nn.modules.block.C2f             [576, 192, 2]                 \n",
            " 16                  -1  1         0  torch.nn.modules.upsampling.Upsample         [None, 2, 'nearest']          \n",
            " 17             [-1, 2]  1         0  ultralytics.nn.modules.conv.Concat           [1]                           \n",
            " 18                  -1  2    129792  ultralytics.nn.modules.block.C2f             [288, 96, 2]                  \n",
            " 19                  -1  1     83136  ultralytics.nn.modules.conv.Conv             [96, 96, 3, 2]                \n",
            " 20            [-1, 15]  1         0  ultralytics.nn.modules.conv.Concat           [1]                           \n",
            " 21                  -1  2    462336  ultralytics.nn.modules.block.C2f             [288, 192, 2]                 \n",
            " 22                  -1  1    332160  ultralytics.nn.modules.conv.Conv             [192, 192, 3, 2]              \n",
            " 23            [-1, 12]  1         0  ultralytics.nn.modules.conv.Concat           [1]                           \n",
            " 24                  -1  2   1846272  ultralytics.nn.modules.block.C2f             [576, 384, 2]                 \n",
            " 25                  -1  1   1327872  ultralytics.nn.modules.conv.Conv             [384, 384, 3, 2]              \n",
            " 26             [-1, 9]  1         0  ultralytics.nn.modules.conv.Concat           [1]                           \n",
            " 27                  -1  2   4207104  ultralytics.nn.modules.block.C2f             [960, 576, 2]                 \n",
            " 28    [18, 21, 24, 27]  1   2295956  ultralytics.nn.modules.head.Detect           [1, [96, 192, 384, 576]]      \n",
            "YOLOv8m-p2 summary: 361 layers, 25051844 parameters, 25051828 gradients, 98.5 GFLOPs\n",
            "\n",
            "Transferred 573/581 items from pretrained weights\n",
            "\u001b[34m\u001b[1mTensorBoard: \u001b[0mStart with 'tensorboard --logdir runs/detect/train3', view at http://localhost:6006/\n",
            "Freezing layer 'model.28.dfl.conv.weight'\n",
            "\u001b[34m\u001b[1mAMP: \u001b[0mrunning Automatic Mixed Precision (AMP) checks with YOLOv8n...\n",
            "Downloading https://github.com/ultralytics/assets/releases/download/v8.1.0/yolov8n.pt to 'yolov8n.pt'...\n"
          ]
        },
        {
          "name": "stderr",
          "output_type": "stream",
          "text": [
            "100%|██████████| 6.23M/6.23M [00:00<00:00, 85.5MB/s]\n"
          ]
        },
        {
          "name": "stdout",
          "output_type": "stream",
          "text": [
            "\u001b[34m\u001b[1mAMP: \u001b[0mchecks passed ✅\n"
          ]
        },
        {
          "name": "stderr",
          "output_type": "stream",
          "text": [
            "\u001b[34m\u001b[1mtrain: \u001b[0mScanning /content/mold-4/train/labels... 693 images, 3 backgrounds, 0 corrupt: 100%|██████████| 693/693 [00:00<00:00, 1751.85it/s]\n"
          ]
        },
        {
          "name": "stdout",
          "output_type": "stream",
          "text": [
            "\u001b[34m\u001b[1mtrain: \u001b[0mNew cache created: /content/mold-4/train/labels.cache\n",
            "\u001b[34m\u001b[1malbumentations: \u001b[0mBlur(p=0.01, blur_limit=(3, 7)), MedianBlur(p=0.01, blur_limit=(3, 7)), ToGray(p=0.01), CLAHE(p=0.01, clip_limit=(1, 4.0), tile_grid_size=(8, 8))\n"
          ]
        },
        {
          "name": "stderr",
          "output_type": "stream",
          "text": [
            "\u001b[34m\u001b[1mval: \u001b[0mScanning /content/mold-4/valid/labels... 77 images, 1 backgrounds, 0 corrupt: 100%|██████████| 77/77 [00:00<00:00, 699.83it/s]"
          ]
        },
        {
          "name": "stdout",
          "output_type": "stream",
          "text": [
            "\u001b[34m\u001b[1mval: \u001b[0mNew cache created: /content/mold-4/valid/labels.cache\n"
          ]
        },
        {
          "name": "stderr",
          "output_type": "stream",
          "text": [
            "\n"
          ]
        },
        {
          "name": "stdout",
          "output_type": "stream",
          "text": [
            "Plotting labels to runs/detect/train3/labels.jpg... \n",
            "\u001b[34m\u001b[1moptimizer:\u001b[0m 'optimizer=auto' found, ignoring 'lr0=0.01' and 'momentum=0.937' and determining best 'optimizer', 'lr0' and 'momentum' automatically... \n",
            "\u001b[34m\u001b[1moptimizer:\u001b[0m AdamW(lr=0.002, momentum=0.9) with parameter groups 94 weight(decay=0.0), 103 weight(decay=0.0005), 102 bias(decay=0.0)\n",
            "\u001b[34m\u001b[1mTensorBoard: \u001b[0mmodel graph visualization added ✅\n",
            "Image sizes 640 train, 640 val\n",
            "Using 2 dataloader workers\n",
            "Logging results to \u001b[1mruns/detect/train3\u001b[0m\n",
            "Starting training for 500 epochs...\n",
            "\n",
            "      Epoch    GPU_mem   box_loss   cls_loss   dfl_loss  Instances       Size\n"
          ]
        },
        {
          "name": "stderr",
          "output_type": "stream",
          "text": [
            "      1/500      15.3G      5.169       5.39      3.732        155        640: 100%|██████████| 44/44 [00:45<00:00,  1.03s/it]\n",
            "                 Class     Images  Instances      Box(P          R      mAP50  mAP50-95): 100%|██████████| 3/3 [00:03<00:00,  1.16s/it]"
          ]
        },
        {
          "name": "stdout",
          "output_type": "stream",
          "text": [
            "                   all         77       2624          0          0          0          0\n"
          ]
        },
        {
          "name": "stderr",
          "output_type": "stream",
          "text": [
            "\n"
          ]
        },
        {
          "name": "stdout",
          "output_type": "stream",
          "text": [
            "\n",
            "      Epoch    GPU_mem   box_loss   cls_loss   dfl_loss  Instances       Size\n"
          ]
        },
        {
          "name": "stderr",
          "output_type": "stream",
          "text": [
            "      2/500      12.2G      3.456      2.555      2.347        193        640: 100%|██████████| 44/44 [00:33<00:00,  1.30it/s]\n",
            "                 Class     Images  Instances      Box(P          R      mAP50  mAP50-95): 100%|██████████| 3/3 [00:04<00:00,  1.53s/it]"
          ]
        },
        {
          "name": "stdout",
          "output_type": "stream",
          "text": [
            "                   all         77       2624          0          0          0          0\n"
          ]
        },
        {
          "name": "stderr",
          "output_type": "stream",
          "text": [
            "\n"
          ]
        },
        {
          "name": "stdout",
          "output_type": "stream",
          "text": [
            "\n",
            "      Epoch    GPU_mem   box_loss   cls_loss   dfl_loss  Instances       Size\n"
          ]
        },
        {
          "name": "stderr",
          "output_type": "stream",
          "text": [
            "      3/500      13.8G      3.139      2.231      1.898        104        640: 100%|██████████| 44/44 [00:34<00:00,  1.27it/s]\n",
            "                 Class     Images  Instances      Box(P          R      mAP50  mAP50-95): 100%|██████████| 3/3 [00:02<00:00,  1.28it/s]"
          ]
        },
        {
          "name": "stdout",
          "output_type": "stream",
          "text": [
            "                   all         77       2624   8.66e-05   0.000762   4.35e-05   8.69e-06\n"
          ]
        },
        {
          "name": "stderr",
          "output_type": "stream",
          "text": [
            "\n"
          ]
        },
        {
          "name": "stdout",
          "output_type": "stream",
          "text": [
            "\n",
            "      Epoch    GPU_mem   box_loss   cls_loss   dfl_loss  Instances       Size\n"
          ]
        },
        {
          "name": "stderr",
          "output_type": "stream",
          "text": [
            "      4/500      13.5G      2.946      2.155      1.674         89        640: 100%|██████████| 44/44 [00:35<00:00,  1.24it/s]\n",
            "                 Class     Images  Instances      Box(P          R      mAP50  mAP50-95): 100%|██████████| 3/3 [00:05<00:00,  1.84s/it]"
          ]
        },
        {
          "name": "stdout",
          "output_type": "stream",
          "text": [
            "                   all         77       2624    0.00284     0.0248    0.00145   0.000394\n"
          ]
        },
        {
          "name": "stderr",
          "output_type": "stream",
          "text": [
            "\n"
          ]
        },
        {
          "name": "stdout",
          "output_type": "stream",
          "text": [
            "\n",
            "      Epoch    GPU_mem   box_loss   cls_loss   dfl_loss  Instances       Size\n"
          ]
        },
        {
          "name": "stderr",
          "output_type": "stream",
          "text": [
            "      5/500      13.4G      2.842      2.014      1.603        176        640: 100%|██████████| 44/44 [00:34<00:00,  1.27it/s]\n",
            "                 Class     Images  Instances      Box(P          R      mAP50  mAP50-95): 100%|██████████| 3/3 [00:02<00:00,  1.32it/s]"
          ]
        },
        {
          "name": "stdout",
          "output_type": "stream",
          "text": [
            "                   all         77       2624      0.133      0.151     0.0447     0.0147\n"
          ]
        },
        {
          "name": "stderr",
          "output_type": "stream",
          "text": [
            "\n"
          ]
        },
        {
          "name": "stdout",
          "output_type": "stream",
          "text": [
            "\n",
            "      Epoch    GPU_mem   box_loss   cls_loss   dfl_loss  Instances       Size\n"
          ]
        },
        {
          "name": "stderr",
          "output_type": "stream",
          "text": [
            "      6/500      14.1G      2.839      2.012       1.53        259        640: 100%|██████████| 44/44 [00:35<00:00,  1.24it/s]\n",
            "                 Class     Images  Instances      Box(P          R      mAP50  mAP50-95): 100%|██████████| 3/3 [00:02<00:00,  1.25it/s]"
          ]
        },
        {
          "name": "stdout",
          "output_type": "stream",
          "text": [
            "                   all         77       2624       0.29      0.257       0.16     0.0489\n"
          ]
        },
        {
          "name": "stderr",
          "output_type": "stream",
          "text": [
            "\n"
          ]
        },
        {
          "name": "stdout",
          "output_type": "stream",
          "text": [
            "\n",
            "      Epoch    GPU_mem   box_loss   cls_loss   dfl_loss  Instances       Size\n"
          ]
        },
        {
          "name": "stderr",
          "output_type": "stream",
          "text": [
            "      7/500      14.6G      2.813      1.936      1.498        121        640: 100%|██████████| 44/44 [00:34<00:00,  1.26it/s]\n",
            "                 Class     Images  Instances      Box(P          R      mAP50  mAP50-95): 100%|██████████| 3/3 [00:02<00:00,  1.26it/s]"
          ]
        },
        {
          "name": "stdout",
          "output_type": "stream",
          "text": [
            "                   all         77       2624      0.368      0.253      0.212     0.0749\n"
          ]
        },
        {
          "name": "stderr",
          "output_type": "stream",
          "text": [
            "\n"
          ]
        },
        {
          "name": "stdout",
          "output_type": "stream",
          "text": [
            "\n",
            "      Epoch    GPU_mem   box_loss   cls_loss   dfl_loss  Instances       Size\n"
          ]
        },
        {
          "name": "stderr",
          "output_type": "stream",
          "text": [
            "      8/500      14.3G      2.732      1.931      1.492        145        640: 100%|██████████| 44/44 [00:35<00:00,  1.25it/s]\n",
            "                 Class     Images  Instances      Box(P          R      mAP50  mAP50-95): 100%|██████████| 3/3 [00:02<00:00,  1.30it/s]"
          ]
        },
        {
          "name": "stdout",
          "output_type": "stream",
          "text": [
            "                   all         77       2624      0.427      0.278      0.254     0.0834\n"
          ]
        },
        {
          "name": "stderr",
          "output_type": "stream",
          "text": [
            "\n"
          ]
        },
        {
          "name": "stdout",
          "output_type": "stream",
          "text": [
            "\n",
            "      Epoch    GPU_mem   box_loss   cls_loss   dfl_loss  Instances       Size\n"
          ]
        },
        {
          "name": "stderr",
          "output_type": "stream",
          "text": [
            "      9/500      14.6G      2.727      1.879      1.444        177        640: 100%|██████████| 44/44 [00:34<00:00,  1.26it/s]\n",
            "                 Class     Images  Instances      Box(P          R      mAP50  mAP50-95): 100%|██████████| 3/3 [00:02<00:00,  1.16it/s]"
          ]
        },
        {
          "name": "stdout",
          "output_type": "stream",
          "text": [
            "                   all         77       2624      0.348      0.252      0.194     0.0621\n"
          ]
        },
        {
          "name": "stderr",
          "output_type": "stream",
          "text": [
            "\n"
          ]
        },
        {
          "name": "stdout",
          "output_type": "stream",
          "text": [
            "\n",
            "      Epoch    GPU_mem   box_loss   cls_loss   dfl_loss  Instances       Size\n"
          ]
        },
        {
          "name": "stderr",
          "output_type": "stream",
          "text": [
            "     10/500      13.5G      2.711      1.902      1.419        122        640: 100%|██████████| 44/44 [00:35<00:00,  1.26it/s]\n",
            "                 Class     Images  Instances      Box(P          R      mAP50  mAP50-95): 100%|██████████| 3/3 [00:02<00:00,  1.28it/s]"
          ]
        },
        {
          "name": "stdout",
          "output_type": "stream",
          "text": [
            "                   all         77       2624      0.461      0.301      0.248     0.0791\n"
          ]
        },
        {
          "name": "stderr",
          "output_type": "stream",
          "text": [
            "\n"
          ]
        },
        {
          "name": "stdout",
          "output_type": "stream",
          "text": [
            "\n",
            "      Epoch    GPU_mem   box_loss   cls_loss   dfl_loss  Instances       Size\n"
          ]
        },
        {
          "name": "stderr",
          "output_type": "stream",
          "text": [
            "     11/500      15.2G      2.678      1.838      1.413        229        640: 100%|██████████| 44/44 [00:35<00:00,  1.25it/s]\n",
            "                 Class     Images  Instances      Box(P          R      mAP50  mAP50-95): 100%|██████████| 3/3 [00:02<00:00,  1.25it/s]"
          ]
        },
        {
          "name": "stdout",
          "output_type": "stream",
          "text": [
            "                   all         77       2624      0.416      0.303      0.256     0.0845\n"
          ]
        },
        {
          "name": "stderr",
          "output_type": "stream",
          "text": [
            "\n"
          ]
        },
        {
          "name": "stdout",
          "output_type": "stream",
          "text": [
            "\n",
            "      Epoch    GPU_mem   box_loss   cls_loss   dfl_loss  Instances       Size\n"
          ]
        },
        {
          "name": "stderr",
          "output_type": "stream",
          "text": [
            "     12/500      13.9G      2.655      1.859      1.408        178        640: 100%|██████████| 44/44 [00:34<00:00,  1.26it/s]\n",
            "                 Class     Images  Instances      Box(P          R      mAP50  mAP50-95): 100%|██████████| 3/3 [00:02<00:00,  1.22it/s]"
          ]
        },
        {
          "name": "stdout",
          "output_type": "stream",
          "text": [
            "                   all         77       2624      0.508      0.311       0.29     0.0967\n"
          ]
        },
        {
          "name": "stderr",
          "output_type": "stream",
          "text": [
            "\n"
          ]
        },
        {
          "name": "stdout",
          "output_type": "stream",
          "text": [
            "\n",
            "      Epoch    GPU_mem   box_loss   cls_loss   dfl_loss  Instances       Size\n"
          ]
        },
        {
          "name": "stderr",
          "output_type": "stream",
          "text": [
            "     13/500      12.7G      2.644      1.827      1.396        100        640: 100%|██████████| 44/44 [00:34<00:00,  1.26it/s]\n",
            "                 Class     Images  Instances      Box(P          R      mAP50  mAP50-95): 100%|██████████| 3/3 [00:02<00:00,  1.23it/s]"
          ]
        },
        {
          "name": "stdout",
          "output_type": "stream",
          "text": [
            "                   all         77       2624       0.29      0.313      0.156     0.0542\n"
          ]
        },
        {
          "name": "stderr",
          "output_type": "stream",
          "text": [
            "\n"
          ]
        },
        {
          "name": "stdout",
          "output_type": "stream",
          "text": [
            "\n",
            "      Epoch    GPU_mem   box_loss   cls_loss   dfl_loss  Instances       Size\n"
          ]
        },
        {
          "name": "stderr",
          "output_type": "stream",
          "text": [
            "     14/500      13.2G      2.647      1.836      1.396        133        640: 100%|██████████| 44/44 [00:34<00:00,  1.27it/s]\n",
            "                 Class     Images  Instances      Box(P          R      mAP50  mAP50-95): 100%|██████████| 3/3 [00:02<00:00,  1.32it/s]"
          ]
        },
        {
          "name": "stdout",
          "output_type": "stream",
          "text": [
            "                   all         77       2624      0.459      0.325      0.307      0.105\n"
          ]
        },
        {
          "name": "stderr",
          "output_type": "stream",
          "text": [
            "\n"
          ]
        },
        {
          "name": "stdout",
          "output_type": "stream",
          "text": [
            "\n",
            "      Epoch    GPU_mem   box_loss   cls_loss   dfl_loss  Instances       Size\n"
          ]
        },
        {
          "name": "stderr",
          "output_type": "stream",
          "text": [
            "     15/500      14.4G      2.626      1.822      1.366        281        640: 100%|██████████| 44/44 [00:35<00:00,  1.26it/s]\n",
            "                 Class     Images  Instances      Box(P          R      mAP50  mAP50-95): 100%|██████████| 3/3 [00:02<00:00,  1.33it/s]"
          ]
        },
        {
          "name": "stdout",
          "output_type": "stream",
          "text": [
            "                   all         77       2624      0.441       0.33      0.304      0.101\n"
          ]
        },
        {
          "name": "stderr",
          "output_type": "stream",
          "text": [
            "\n"
          ]
        },
        {
          "name": "stdout",
          "output_type": "stream",
          "text": [
            "\n",
            "      Epoch    GPU_mem   box_loss   cls_loss   dfl_loss  Instances       Size\n"
          ]
        },
        {
          "name": "stderr",
          "output_type": "stream",
          "text": [
            "     16/500      12.4G      2.617       1.82      1.367        193        640: 100%|██████████| 44/44 [00:34<00:00,  1.27it/s]\n",
            "                 Class     Images  Instances      Box(P          R      mAP50  mAP50-95): 100%|██████████| 3/3 [00:02<00:00,  1.28it/s]"
          ]
        },
        {
          "name": "stdout",
          "output_type": "stream",
          "text": [
            "                   all         77       2624      0.461      0.329      0.298      0.101\n"
          ]
        },
        {
          "name": "stderr",
          "output_type": "stream",
          "text": [
            "\n"
          ]
        },
        {
          "name": "stdout",
          "output_type": "stream",
          "text": [
            "\n",
            "      Epoch    GPU_mem   box_loss   cls_loss   dfl_loss  Instances       Size\n"
          ]
        },
        {
          "name": "stderr",
          "output_type": "stream",
          "text": [
            "     17/500      13.3G      2.563      1.781      1.356        195        640: 100%|██████████| 44/44 [00:34<00:00,  1.27it/s]\n",
            "                 Class     Images  Instances      Box(P          R      mAP50  mAP50-95): 100%|██████████| 3/3 [00:02<00:00,  1.34it/s]"
          ]
        },
        {
          "name": "stdout",
          "output_type": "stream",
          "text": [
            "                   all         77       2624      0.455      0.329      0.305      0.108\n"
          ]
        },
        {
          "name": "stderr",
          "output_type": "stream",
          "text": [
            "\n"
          ]
        },
        {
          "name": "stdout",
          "output_type": "stream",
          "text": [
            "\n",
            "      Epoch    GPU_mem   box_loss   cls_loss   dfl_loss  Instances       Size\n"
          ]
        },
        {
          "name": "stderr",
          "output_type": "stream",
          "text": [
            "     18/500      14.3G      2.601      1.807      1.333        194        640: 100%|██████████| 44/44 [00:35<00:00,  1.24it/s]\n",
            "                 Class     Images  Instances      Box(P          R      mAP50  mAP50-95): 100%|██████████| 3/3 [00:02<00:00,  1.29it/s]"
          ]
        },
        {
          "name": "stdout",
          "output_type": "stream",
          "text": [
            "                   all         77       2624      0.522      0.324      0.325      0.111\n"
          ]
        },
        {
          "name": "stderr",
          "output_type": "stream",
          "text": [
            "\n"
          ]
        },
        {
          "name": "stdout",
          "output_type": "stream",
          "text": [
            "\n",
            "      Epoch    GPU_mem   box_loss   cls_loss   dfl_loss  Instances       Size\n"
          ]
        },
        {
          "name": "stderr",
          "output_type": "stream",
          "text": [
            "     19/500      12.2G      2.584      1.778       1.34        171        640: 100%|██████████| 44/44 [00:34<00:00,  1.26it/s]\n",
            "                 Class     Images  Instances      Box(P          R      mAP50  mAP50-95): 100%|██████████| 3/3 [00:02<00:00,  1.27it/s]"
          ]
        },
        {
          "name": "stdout",
          "output_type": "stream",
          "text": [
            "                   all         77       2624      0.517      0.331      0.341      0.119\n"
          ]
        },
        {
          "name": "stderr",
          "output_type": "stream",
          "text": [
            "\n"
          ]
        },
        {
          "name": "stdout",
          "output_type": "stream",
          "text": [
            "\n",
            "      Epoch    GPU_mem   box_loss   cls_loss   dfl_loss  Instances       Size\n"
          ]
        },
        {
          "name": "stderr",
          "output_type": "stream",
          "text": [
            "     20/500      13.9G      2.588      1.793      1.315        232        640: 100%|██████████| 44/44 [00:34<00:00,  1.26it/s]\n",
            "                 Class     Images  Instances      Box(P          R      mAP50  mAP50-95): 100%|██████████| 3/3 [00:02<00:00,  1.27it/s]"
          ]
        },
        {
          "name": "stdout",
          "output_type": "stream",
          "text": [
            "                   all         77       2624      0.437      0.317      0.274     0.0968\n"
          ]
        },
        {
          "name": "stderr",
          "output_type": "stream",
          "text": [
            "\n"
          ]
        },
        {
          "name": "stdout",
          "output_type": "stream",
          "text": [
            "\n",
            "      Epoch    GPU_mem   box_loss   cls_loss   dfl_loss  Instances       Size\n"
          ]
        },
        {
          "name": "stderr",
          "output_type": "stream",
          "text": [
            "     21/500      12.4G      2.559      1.764      1.313         76        640: 100%|██████████| 44/44 [00:35<00:00,  1.24it/s]\n",
            "                 Class     Images  Instances      Box(P          R      mAP50  mAP50-95): 100%|██████████| 3/3 [00:02<00:00,  1.31it/s]"
          ]
        },
        {
          "name": "stdout",
          "output_type": "stream",
          "text": [
            "                   all         77       2624      0.501      0.317      0.299      0.104\n"
          ]
        },
        {
          "name": "stderr",
          "output_type": "stream",
          "text": [
            "\n"
          ]
        },
        {
          "name": "stdout",
          "output_type": "stream",
          "text": [
            "\n",
            "      Epoch    GPU_mem   box_loss   cls_loss   dfl_loss  Instances       Size\n"
          ]
        },
        {
          "name": "stderr",
          "output_type": "stream",
          "text": [
            "     22/500      14.4G      2.556      1.766      1.309        109        640: 100%|██████████| 44/44 [00:35<00:00,  1.26it/s]\n",
            "                 Class     Images  Instances      Box(P          R      mAP50  mAP50-95): 100%|██████████| 3/3 [00:02<00:00,  1.32it/s]"
          ]
        },
        {
          "name": "stdout",
          "output_type": "stream",
          "text": [
            "                   all         77       2624      0.498      0.328       0.31      0.102\n"
          ]
        },
        {
          "name": "stderr",
          "output_type": "stream",
          "text": [
            "\n"
          ]
        },
        {
          "name": "stdout",
          "output_type": "stream",
          "text": [
            "\n",
            "      Epoch    GPU_mem   box_loss   cls_loss   dfl_loss  Instances       Size\n"
          ]
        },
        {
          "name": "stderr",
          "output_type": "stream",
          "text": [
            "     23/500      12.9G      2.534      1.713      1.293        225        640: 100%|██████████| 44/44 [00:35<00:00,  1.25it/s]\n",
            "                 Class     Images  Instances      Box(P          R      mAP50  mAP50-95): 100%|██████████| 3/3 [00:02<00:00,  1.31it/s]"
          ]
        },
        {
          "name": "stdout",
          "output_type": "stream",
          "text": [
            "                   all         77       2624       0.45      0.335      0.319      0.114\n"
          ]
        },
        {
          "name": "stderr",
          "output_type": "stream",
          "text": [
            "\n"
          ]
        },
        {
          "name": "stdout",
          "output_type": "stream",
          "text": [
            "\n",
            "      Epoch    GPU_mem   box_loss   cls_loss   dfl_loss  Instances       Size\n"
          ]
        },
        {
          "name": "stderr",
          "output_type": "stream",
          "text": [
            "     24/500      15.4G      2.544      1.739      1.311        110        640: 100%|██████████| 44/44 [00:35<00:00,  1.25it/s]\n",
            "                 Class     Images  Instances      Box(P          R      mAP50  mAP50-95): 100%|██████████| 3/3 [00:02<00:00,  1.31it/s]"
          ]
        },
        {
          "name": "stdout",
          "output_type": "stream",
          "text": [
            "                   all         77       2624      0.517       0.35      0.331      0.112\n"
          ]
        },
        {
          "name": "stderr",
          "output_type": "stream",
          "text": [
            "\n"
          ]
        },
        {
          "name": "stdout",
          "output_type": "stream",
          "text": [
            "\n",
            "      Epoch    GPU_mem   box_loss   cls_loss   dfl_loss  Instances       Size\n"
          ]
        },
        {
          "name": "stderr",
          "output_type": "stream",
          "text": [
            "     25/500      11.9G       2.48      1.683      1.271        290        640: 100%|██████████| 44/44 [00:35<00:00,  1.26it/s]\n",
            "                 Class     Images  Instances      Box(P          R      mAP50  mAP50-95): 100%|██████████| 3/3 [00:02<00:00,  1.30it/s]"
          ]
        },
        {
          "name": "stdout",
          "output_type": "stream",
          "text": [
            "                   all         77       2624      0.533      0.339       0.35      0.121\n"
          ]
        },
        {
          "name": "stderr",
          "output_type": "stream",
          "text": [
            "\n"
          ]
        },
        {
          "name": "stdout",
          "output_type": "stream",
          "text": [
            "\n",
            "      Epoch    GPU_mem   box_loss   cls_loss   dfl_loss  Instances       Size\n"
          ]
        },
        {
          "name": "stderr",
          "output_type": "stream",
          "text": [
            "     26/500      11.8G      2.523      1.696      1.293        202        640: 100%|██████████| 44/44 [00:35<00:00,  1.25it/s]\n",
            "                 Class     Images  Instances      Box(P          R      mAP50  mAP50-95): 100%|██████████| 3/3 [00:02<00:00,  1.47it/s]"
          ]
        },
        {
          "name": "stdout",
          "output_type": "stream",
          "text": [
            "                   all         77       2624      0.528      0.335      0.331      0.111\n"
          ]
        },
        {
          "name": "stderr",
          "output_type": "stream",
          "text": [
            "\n"
          ]
        },
        {
          "name": "stdout",
          "output_type": "stream",
          "text": [
            "\n",
            "      Epoch    GPU_mem   box_loss   cls_loss   dfl_loss  Instances       Size\n"
          ]
        },
        {
          "name": "stderr",
          "output_type": "stream",
          "text": [
            "     27/500      15.4G      2.504      1.664      1.274        209        640: 100%|██████████| 44/44 [00:35<00:00,  1.25it/s]\n",
            "                 Class     Images  Instances      Box(P          R      mAP50  mAP50-95): 100%|██████████| 3/3 [00:02<00:00,  1.31it/s]"
          ]
        },
        {
          "name": "stdout",
          "output_type": "stream",
          "text": [
            "                   all         77       2624       0.54      0.352      0.356      0.123\n"
          ]
        },
        {
          "name": "stderr",
          "output_type": "stream",
          "text": [
            "\n"
          ]
        },
        {
          "name": "stdout",
          "output_type": "stream",
          "text": [
            "\n",
            "      Epoch    GPU_mem   box_loss   cls_loss   dfl_loss  Instances       Size\n"
          ]
        },
        {
          "name": "stderr",
          "output_type": "stream",
          "text": [
            "     28/500      14.3G      2.494      1.675      1.279        170        640: 100%|██████████| 44/44 [00:35<00:00,  1.26it/s]\n",
            "                 Class     Images  Instances      Box(P          R      mAP50  mAP50-95): 100%|██████████| 3/3 [00:02<00:00,  1.28it/s]"
          ]
        },
        {
          "name": "stdout",
          "output_type": "stream",
          "text": [
            "                   all         77       2624      0.528      0.344       0.35      0.121\n"
          ]
        },
        {
          "name": "stderr",
          "output_type": "stream",
          "text": [
            "\n"
          ]
        },
        {
          "name": "stdout",
          "output_type": "stream",
          "text": [
            "\n",
            "      Epoch    GPU_mem   box_loss   cls_loss   dfl_loss  Instances       Size\n"
          ]
        },
        {
          "name": "stderr",
          "output_type": "stream",
          "text": [
            "     29/500        12G      2.492      1.682      1.278        165        640: 100%|██████████| 44/44 [00:34<00:00,  1.26it/s]\n",
            "                 Class     Images  Instances      Box(P          R      mAP50  mAP50-95): 100%|██████████| 3/3 [00:02<00:00,  1.50it/s]"
          ]
        },
        {
          "name": "stdout",
          "output_type": "stream",
          "text": [
            "                   all         77       2624      0.561      0.366      0.367      0.124\n"
          ]
        },
        {
          "name": "stderr",
          "output_type": "stream",
          "text": [
            "\n"
          ]
        },
        {
          "name": "stdout",
          "output_type": "stream",
          "text": [
            "\n",
            "      Epoch    GPU_mem   box_loss   cls_loss   dfl_loss  Instances       Size\n"
          ]
        },
        {
          "name": "stderr",
          "output_type": "stream",
          "text": [
            "     30/500      13.9G      2.504      1.665      1.285        282        640: 100%|██████████| 44/44 [00:34<00:00,  1.26it/s]\n",
            "                 Class     Images  Instances      Box(P          R      mAP50  mAP50-95): 100%|██████████| 3/3 [00:02<00:00,  1.32it/s]"
          ]
        },
        {
          "name": "stdout",
          "output_type": "stream",
          "text": [
            "                   all         77       2624      0.548      0.353      0.356      0.121\n"
          ]
        },
        {
          "name": "stderr",
          "output_type": "stream",
          "text": [
            "\n"
          ]
        },
        {
          "name": "stdout",
          "output_type": "stream",
          "text": [
            "\n",
            "      Epoch    GPU_mem   box_loss   cls_loss   dfl_loss  Instances       Size\n"
          ]
        },
        {
          "name": "stderr",
          "output_type": "stream",
          "text": [
            "     31/500      13.4G      2.503      1.665      1.285        201        640: 100%|██████████| 44/44 [00:34<00:00,  1.26it/s]\n",
            "                 Class     Images  Instances      Box(P          R      mAP50  mAP50-95): 100%|██████████| 3/3 [00:02<00:00,  1.32it/s]"
          ]
        },
        {
          "name": "stdout",
          "output_type": "stream",
          "text": [
            "                   all         77       2624      0.536      0.335      0.348      0.126\n"
          ]
        },
        {
          "name": "stderr",
          "output_type": "stream",
          "text": [
            "\n"
          ]
        },
        {
          "name": "stdout",
          "output_type": "stream",
          "text": [
            "\n",
            "      Epoch    GPU_mem   box_loss   cls_loss   dfl_loss  Instances       Size\n"
          ]
        },
        {
          "name": "stderr",
          "output_type": "stream",
          "text": [
            "     32/500      14.4G       2.48      1.647      1.274        219        640: 100%|██████████| 44/44 [00:35<00:00,  1.26it/s]\n",
            "                 Class     Images  Instances      Box(P          R      mAP50  mAP50-95): 100%|██████████| 3/3 [00:02<00:00,  1.29it/s]"
          ]
        },
        {
          "name": "stdout",
          "output_type": "stream",
          "text": [
            "                   all         77       2624      0.521      0.344      0.349      0.123\n"
          ]
        },
        {
          "name": "stderr",
          "output_type": "stream",
          "text": [
            "\n"
          ]
        },
        {
          "name": "stdout",
          "output_type": "stream",
          "text": [
            "\n",
            "      Epoch    GPU_mem   box_loss   cls_loss   dfl_loss  Instances       Size\n"
          ]
        },
        {
          "name": "stderr",
          "output_type": "stream",
          "text": [
            "     33/500        14G      2.462      1.641      1.275        144        640: 100%|██████████| 44/44 [00:34<00:00,  1.26it/s]\n",
            "                 Class     Images  Instances      Box(P          R      mAP50  mAP50-95): 100%|██████████| 3/3 [00:02<00:00,  1.20it/s]"
          ]
        },
        {
          "name": "stdout",
          "output_type": "stream",
          "text": [
            "                   all         77       2624       0.59      0.368      0.369      0.125\n"
          ]
        },
        {
          "name": "stderr",
          "output_type": "stream",
          "text": [
            "\n"
          ]
        },
        {
          "name": "stdout",
          "output_type": "stream",
          "text": [
            "\n",
            "      Epoch    GPU_mem   box_loss   cls_loss   dfl_loss  Instances       Size\n"
          ]
        },
        {
          "name": "stderr",
          "output_type": "stream",
          "text": [
            "     34/500      14.6G      2.462      1.612      1.263        176        640: 100%|██████████| 44/44 [00:34<00:00,  1.26it/s]\n",
            "                 Class     Images  Instances      Box(P          R      mAP50  mAP50-95): 100%|██████████| 3/3 [00:02<00:00,  1.31it/s]"
          ]
        },
        {
          "name": "stdout",
          "output_type": "stream",
          "text": [
            "                   all         77       2624      0.547      0.353      0.363      0.126\n"
          ]
        },
        {
          "name": "stderr",
          "output_type": "stream",
          "text": [
            "\n"
          ]
        },
        {
          "name": "stdout",
          "output_type": "stream",
          "text": [
            "\n",
            "      Epoch    GPU_mem   box_loss   cls_loss   dfl_loss  Instances       Size\n"
          ]
        },
        {
          "name": "stderr",
          "output_type": "stream",
          "text": [
            "     35/500      12.3G      2.429      1.579      1.246        279        640: 100%|██████████| 44/44 [00:34<00:00,  1.27it/s]\n",
            "                 Class     Images  Instances      Box(P          R      mAP50  mAP50-95): 100%|██████████| 3/3 [00:02<00:00,  1.27it/s]"
          ]
        },
        {
          "name": "stdout",
          "output_type": "stream",
          "text": [
            "                   all         77       2624      0.569      0.359      0.375      0.131\n"
          ]
        },
        {
          "name": "stderr",
          "output_type": "stream",
          "text": [
            "\n"
          ]
        },
        {
          "name": "stdout",
          "output_type": "stream",
          "text": [
            "\n",
            "      Epoch    GPU_mem   box_loss   cls_loss   dfl_loss  Instances       Size\n"
          ]
        },
        {
          "name": "stderr",
          "output_type": "stream",
          "text": [
            "     36/500      14.8G      2.417      1.579      1.251        144        640: 100%|██████████| 44/44 [00:34<00:00,  1.26it/s]\n",
            "                 Class     Images  Instances      Box(P          R      mAP50  mAP50-95): 100%|██████████| 3/3 [00:02<00:00,  1.22it/s]"
          ]
        },
        {
          "name": "stdout",
          "output_type": "stream",
          "text": [
            "                   all         77       2624      0.608      0.357      0.375      0.132\n"
          ]
        },
        {
          "name": "stderr",
          "output_type": "stream",
          "text": [
            "\n"
          ]
        },
        {
          "name": "stdout",
          "output_type": "stream",
          "text": [
            "\n",
            "      Epoch    GPU_mem   box_loss   cls_loss   dfl_loss  Instances       Size\n"
          ]
        },
        {
          "name": "stderr",
          "output_type": "stream",
          "text": [
            "     37/500      12.6G      2.441      1.603      1.262        169        640: 100%|██████████| 44/44 [00:34<00:00,  1.26it/s]\n",
            "                 Class     Images  Instances      Box(P          R      mAP50  mAP50-95): 100%|██████████| 3/3 [00:02<00:00,  1.30it/s]"
          ]
        },
        {
          "name": "stdout",
          "output_type": "stream",
          "text": [
            "                   all         77       2624        0.6      0.354      0.377      0.131\n"
          ]
        },
        {
          "name": "stderr",
          "output_type": "stream",
          "text": [
            "\n"
          ]
        },
        {
          "name": "stdout",
          "output_type": "stream",
          "text": [
            "\n",
            "      Epoch    GPU_mem   box_loss   cls_loss   dfl_loss  Instances       Size\n"
          ]
        },
        {
          "name": "stderr",
          "output_type": "stream",
          "text": [
            "     38/500      14.9G       2.43      1.557      1.249        208        640: 100%|██████████| 44/44 [00:34<00:00,  1.27it/s]\n",
            "                 Class     Images  Instances      Box(P          R      mAP50  mAP50-95): 100%|██████████| 3/3 [00:02<00:00,  1.23it/s]"
          ]
        },
        {
          "name": "stdout",
          "output_type": "stream",
          "text": [
            "                   all         77       2624      0.572      0.371      0.387      0.131\n"
          ]
        },
        {
          "name": "stderr",
          "output_type": "stream",
          "text": [
            "\n"
          ]
        },
        {
          "name": "stdout",
          "output_type": "stream",
          "text": [
            "\n",
            "      Epoch    GPU_mem   box_loss   cls_loss   dfl_loss  Instances       Size\n"
          ]
        },
        {
          "name": "stderr",
          "output_type": "stream",
          "text": [
            "     39/500      13.2G      2.399      1.521      1.244        236        640: 100%|██████████| 44/44 [00:34<00:00,  1.26it/s]\n",
            "                 Class     Images  Instances      Box(P          R      mAP50  mAP50-95): 100%|██████████| 3/3 [00:01<00:00,  1.50it/s]"
          ]
        },
        {
          "name": "stdout",
          "output_type": "stream",
          "text": [
            "                   all         77       2624      0.598      0.349      0.376       0.13\n"
          ]
        },
        {
          "name": "stderr",
          "output_type": "stream",
          "text": [
            "\n"
          ]
        },
        {
          "name": "stdout",
          "output_type": "stream",
          "text": [
            "\n",
            "      Epoch    GPU_mem   box_loss   cls_loss   dfl_loss  Instances       Size\n"
          ]
        },
        {
          "name": "stderr",
          "output_type": "stream",
          "text": [
            "     40/500      15.1G      2.399       1.52      1.248        147        640: 100%|██████████| 44/44 [00:35<00:00,  1.25it/s]\n",
            "                 Class     Images  Instances      Box(P          R      mAP50  mAP50-95): 100%|██████████| 3/3 [00:02<00:00,  1.30it/s]"
          ]
        },
        {
          "name": "stdout",
          "output_type": "stream",
          "text": [
            "                   all         77       2624      0.571       0.36      0.356      0.124\n"
          ]
        },
        {
          "name": "stderr",
          "output_type": "stream",
          "text": [
            "\n"
          ]
        },
        {
          "name": "stdout",
          "output_type": "stream",
          "text": [
            "\n",
            "      Epoch    GPU_mem   box_loss   cls_loss   dfl_loss  Instances       Size\n"
          ]
        },
        {
          "name": "stderr",
          "output_type": "stream",
          "text": [
            "     41/500      13.4G      2.391      1.529      1.244        192        640: 100%|██████████| 44/44 [00:34<00:00,  1.26it/s]\n",
            "                 Class     Images  Instances      Box(P          R      mAP50  mAP50-95): 100%|██████████| 3/3 [00:02<00:00,  1.34it/s]"
          ]
        },
        {
          "name": "stdout",
          "output_type": "stream",
          "text": [
            "                   all         77       2624      0.593      0.352      0.367       0.13\n"
          ]
        },
        {
          "name": "stderr",
          "output_type": "stream",
          "text": [
            "\n"
          ]
        },
        {
          "name": "stdout",
          "output_type": "stream",
          "text": [
            "\n",
            "      Epoch    GPU_mem   box_loss   cls_loss   dfl_loss  Instances       Size\n"
          ]
        },
        {
          "name": "stderr",
          "output_type": "stream",
          "text": [
            "     42/500      14.6G      2.392      1.552      1.243         75        640: 100%|██████████| 44/44 [00:34<00:00,  1.27it/s]\n",
            "                 Class     Images  Instances      Box(P          R      mAP50  mAP50-95): 100%|██████████| 3/3 [00:02<00:00,  1.22it/s]"
          ]
        },
        {
          "name": "stdout",
          "output_type": "stream",
          "text": [
            "                   all         77       2624      0.601      0.368      0.398      0.141\n"
          ]
        },
        {
          "name": "stderr",
          "output_type": "stream",
          "text": [
            "\n"
          ]
        },
        {
          "name": "stdout",
          "output_type": "stream",
          "text": [
            "\n",
            "      Epoch    GPU_mem   box_loss   cls_loss   dfl_loss  Instances       Size\n"
          ]
        },
        {
          "name": "stderr",
          "output_type": "stream",
          "text": [
            "     43/500      13.1G      2.364      1.485      1.233        129        640: 100%|██████████| 44/44 [00:34<00:00,  1.26it/s]\n",
            "                 Class     Images  Instances      Box(P          R      mAP50  mAP50-95): 100%|██████████| 3/3 [00:02<00:00,  1.24it/s]"
          ]
        },
        {
          "name": "stdout",
          "output_type": "stream",
          "text": [
            "                   all         77       2624      0.626      0.373       0.39      0.141\n"
          ]
        },
        {
          "name": "stderr",
          "output_type": "stream",
          "text": [
            "\n"
          ]
        },
        {
          "name": "stdout",
          "output_type": "stream",
          "text": [
            "\n",
            "      Epoch    GPU_mem   box_loss   cls_loss   dfl_loss  Instances       Size\n"
          ]
        },
        {
          "name": "stderr",
          "output_type": "stream",
          "text": [
            "     44/500      14.9G      2.377      1.495      1.239         97        640: 100%|██████████| 44/44 [00:34<00:00,  1.26it/s]\n",
            "                 Class     Images  Instances      Box(P          R      mAP50  mAP50-95): 100%|██████████| 3/3 [00:02<00:00,  1.31it/s]"
          ]
        },
        {
          "name": "stdout",
          "output_type": "stream",
          "text": [
            "                   all         77       2624      0.595      0.362      0.389      0.139\n"
          ]
        },
        {
          "name": "stderr",
          "output_type": "stream",
          "text": [
            "\n"
          ]
        },
        {
          "name": "stdout",
          "output_type": "stream",
          "text": [
            "\n",
            "      Epoch    GPU_mem   box_loss   cls_loss   dfl_loss  Instances       Size\n"
          ]
        },
        {
          "name": "stderr",
          "output_type": "stream",
          "text": [
            "     45/500        15G      2.355      1.502      1.225        211        640: 100%|██████████| 44/44 [00:34<00:00,  1.27it/s]\n",
            "                 Class     Images  Instances      Box(P          R      mAP50  mAP50-95): 100%|██████████| 3/3 [00:02<00:00,  1.31it/s]"
          ]
        },
        {
          "name": "stdout",
          "output_type": "stream",
          "text": [
            "                   all         77       2624      0.617      0.373      0.398      0.144\n"
          ]
        },
        {
          "name": "stderr",
          "output_type": "stream",
          "text": [
            "\n"
          ]
        },
        {
          "name": "stdout",
          "output_type": "stream",
          "text": [
            "\n",
            "      Epoch    GPU_mem   box_loss   cls_loss   dfl_loss  Instances       Size\n"
          ]
        },
        {
          "name": "stderr",
          "output_type": "stream",
          "text": [
            "     46/500      14.2G      2.355      1.492      1.227        222        640: 100%|██████████| 44/44 [00:35<00:00,  1.25it/s]\n",
            "                 Class     Images  Instances      Box(P          R      mAP50  mAP50-95): 100%|██████████| 3/3 [00:02<00:00,  1.30it/s]"
          ]
        },
        {
          "name": "stdout",
          "output_type": "stream",
          "text": [
            "                   all         77       2624      0.618      0.372      0.401      0.143\n"
          ]
        },
        {
          "name": "stderr",
          "output_type": "stream",
          "text": [
            "\n"
          ]
        },
        {
          "name": "stdout",
          "output_type": "stream",
          "text": [
            "\n",
            "      Epoch    GPU_mem   box_loss   cls_loss   dfl_loss  Instances       Size\n"
          ]
        },
        {
          "name": "stderr",
          "output_type": "stream",
          "text": [
            "     47/500      13.1G      2.373      1.501      1.227        169        640: 100%|██████████| 44/44 [00:34<00:00,  1.26it/s]\n",
            "                 Class     Images  Instances      Box(P          R      mAP50  mAP50-95): 100%|██████████| 3/3 [00:02<00:00,  1.31it/s]"
          ]
        },
        {
          "name": "stdout",
          "output_type": "stream",
          "text": [
            "                   all         77       2624      0.604      0.368      0.395       0.14\n"
          ]
        },
        {
          "name": "stderr",
          "output_type": "stream",
          "text": [
            "\n"
          ]
        },
        {
          "name": "stdout",
          "output_type": "stream",
          "text": [
            "\n",
            "      Epoch    GPU_mem   box_loss   cls_loss   dfl_loss  Instances       Size\n"
          ]
        },
        {
          "name": "stderr",
          "output_type": "stream",
          "text": [
            "     48/500      11.9G      2.385      1.507      1.227        112        640: 100%|██████████| 44/44 [00:34<00:00,  1.26it/s]\n",
            "                 Class     Images  Instances      Box(P          R      mAP50  mAP50-95): 100%|██████████| 3/3 [00:02<00:00,  1.33it/s]"
          ]
        },
        {
          "name": "stdout",
          "output_type": "stream",
          "text": [
            "                   all         77       2624      0.622      0.375        0.4      0.143\n"
          ]
        },
        {
          "name": "stderr",
          "output_type": "stream",
          "text": [
            "\n"
          ]
        },
        {
          "name": "stdout",
          "output_type": "stream",
          "text": [
            "\n",
            "      Epoch    GPU_mem   box_loss   cls_loss   dfl_loss  Instances       Size\n"
          ]
        },
        {
          "name": "stderr",
          "output_type": "stream",
          "text": [
            "     49/500        15G      2.354      1.463       1.22        220        640: 100%|██████████| 44/44 [00:35<00:00,  1.25it/s]\n",
            "                 Class     Images  Instances      Box(P          R      mAP50  mAP50-95): 100%|██████████| 3/3 [00:02<00:00,  1.33it/s]"
          ]
        },
        {
          "name": "stdout",
          "output_type": "stream",
          "text": [
            "                   all         77       2624      0.644       0.37      0.399      0.138\n"
          ]
        },
        {
          "name": "stderr",
          "output_type": "stream",
          "text": [
            "\n"
          ]
        },
        {
          "name": "stdout",
          "output_type": "stream",
          "text": [
            "\n",
            "      Epoch    GPU_mem   box_loss   cls_loss   dfl_loss  Instances       Size\n"
          ]
        },
        {
          "name": "stderr",
          "output_type": "stream",
          "text": [
            "     50/500      15.3G      2.327      1.445      1.226        131        640: 100%|██████████| 44/44 [00:34<00:00,  1.27it/s]\n",
            "                 Class     Images  Instances      Box(P          R      mAP50  mAP50-95): 100%|██████████| 3/3 [00:02<00:00,  1.21it/s]"
          ]
        },
        {
          "name": "stdout",
          "output_type": "stream",
          "text": [
            "                   all         77       2624      0.626      0.367      0.393      0.139\n"
          ]
        },
        {
          "name": "stderr",
          "output_type": "stream",
          "text": [
            "\n"
          ]
        },
        {
          "name": "stdout",
          "output_type": "stream",
          "text": [
            "\n",
            "      Epoch    GPU_mem   box_loss   cls_loss   dfl_loss  Instances       Size\n"
          ]
        },
        {
          "name": "stderr",
          "output_type": "stream",
          "text": [
            "     51/500        14G       2.32      1.422      1.207        242        640: 100%|██████████| 44/44 [00:34<00:00,  1.27it/s]\n",
            "                 Class     Images  Instances      Box(P          R      mAP50  mAP50-95): 100%|██████████| 3/3 [00:02<00:00,  1.25it/s]"
          ]
        },
        {
          "name": "stdout",
          "output_type": "stream",
          "text": [
            "                   all         77       2624      0.642      0.375        0.4      0.144\n"
          ]
        },
        {
          "name": "stderr",
          "output_type": "stream",
          "text": [
            "\n"
          ]
        },
        {
          "name": "stdout",
          "output_type": "stream",
          "text": [
            "\n",
            "      Epoch    GPU_mem   box_loss   cls_loss   dfl_loss  Instances       Size\n"
          ]
        },
        {
          "name": "stderr",
          "output_type": "stream",
          "text": [
            "     52/500      12.1G      2.333      1.455      1.221        188        640: 100%|██████████| 44/44 [00:35<00:00,  1.25it/s]\n",
            "                 Class     Images  Instances      Box(P          R      mAP50  mAP50-95): 100%|██████████| 3/3 [00:02<00:00,  1.26it/s]"
          ]
        },
        {
          "name": "stdout",
          "output_type": "stream",
          "text": [
            "                   all         77       2624      0.633      0.385      0.401      0.144\n"
          ]
        },
        {
          "name": "stderr",
          "output_type": "stream",
          "text": [
            "\n"
          ]
        },
        {
          "name": "stdout",
          "output_type": "stream",
          "text": [
            "\n",
            "      Epoch    GPU_mem   box_loss   cls_loss   dfl_loss  Instances       Size\n"
          ]
        },
        {
          "name": "stderr",
          "output_type": "stream",
          "text": [
            "     53/500      14.6G        2.3      1.414      1.219        275        640: 100%|██████████| 44/44 [00:35<00:00,  1.26it/s]\n",
            "                 Class     Images  Instances      Box(P          R      mAP50  mAP50-95): 100%|██████████| 3/3 [00:02<00:00,  1.27it/s]"
          ]
        },
        {
          "name": "stdout",
          "output_type": "stream",
          "text": [
            "                   all         77       2624      0.642       0.37      0.401      0.141\n"
          ]
        },
        {
          "name": "stderr",
          "output_type": "stream",
          "text": [
            "\n"
          ]
        },
        {
          "name": "stdout",
          "output_type": "stream",
          "text": [
            "\n",
            "      Epoch    GPU_mem   box_loss   cls_loss   dfl_loss  Instances       Size\n"
          ]
        },
        {
          "name": "stderr",
          "output_type": "stream",
          "text": [
            "     54/500      12.6G      2.313      1.426      1.196        232        640: 100%|██████████| 44/44 [00:34<00:00,  1.26it/s]\n",
            "                 Class     Images  Instances      Box(P          R      mAP50  mAP50-95): 100%|██████████| 3/3 [00:02<00:00,  1.35it/s]"
          ]
        },
        {
          "name": "stdout",
          "output_type": "stream",
          "text": [
            "                   all         77       2624       0.61      0.398      0.401      0.147\n"
          ]
        },
        {
          "name": "stderr",
          "output_type": "stream",
          "text": [
            "\n"
          ]
        },
        {
          "name": "stdout",
          "output_type": "stream",
          "text": [
            "\n",
            "      Epoch    GPU_mem   box_loss   cls_loss   dfl_loss  Instances       Size\n"
          ]
        },
        {
          "name": "stderr",
          "output_type": "stream",
          "text": [
            "     55/500      13.7G       2.28      1.386      1.207        266        640: 100%|██████████| 44/44 [00:35<00:00,  1.24it/s]\n",
            "                 Class     Images  Instances      Box(P          R      mAP50  mAP50-95): 100%|██████████| 3/3 [00:02<00:00,  1.34it/s]"
          ]
        },
        {
          "name": "stdout",
          "output_type": "stream",
          "text": [
            "                   all         77       2624      0.663      0.364      0.396       0.14\n"
          ]
        },
        {
          "name": "stderr",
          "output_type": "stream",
          "text": [
            "\n"
          ]
        },
        {
          "name": "stdout",
          "output_type": "stream",
          "text": [
            "\n",
            "      Epoch    GPU_mem   box_loss   cls_loss   dfl_loss  Instances       Size\n"
          ]
        },
        {
          "name": "stderr",
          "output_type": "stream",
          "text": [
            "     56/500      13.8G      2.314      1.402      1.201        177        640: 100%|██████████| 44/44 [00:35<00:00,  1.25it/s]\n",
            "                 Class     Images  Instances      Box(P          R      mAP50  mAP50-95): 100%|██████████| 3/3 [00:02<00:00,  1.34it/s]"
          ]
        },
        {
          "name": "stdout",
          "output_type": "stream",
          "text": [
            "                   all         77       2624      0.663      0.382      0.409      0.145\n"
          ]
        },
        {
          "name": "stderr",
          "output_type": "stream",
          "text": [
            "\n"
          ]
        },
        {
          "name": "stdout",
          "output_type": "stream",
          "text": [
            "\n",
            "      Epoch    GPU_mem   box_loss   cls_loss   dfl_loss  Instances       Size\n"
          ]
        },
        {
          "name": "stderr",
          "output_type": "stream",
          "text": [
            "     57/500      12.4G       2.28      1.386      1.197        184        640: 100%|██████████| 44/44 [00:34<00:00,  1.26it/s]\n",
            "                 Class     Images  Instances      Box(P          R      mAP50  mAP50-95): 100%|██████████| 3/3 [00:02<00:00,  1.33it/s]"
          ]
        },
        {
          "name": "stdout",
          "output_type": "stream",
          "text": [
            "                   all         77       2624      0.628       0.39      0.407      0.144\n"
          ]
        },
        {
          "name": "stderr",
          "output_type": "stream",
          "text": [
            "\n"
          ]
        },
        {
          "name": "stdout",
          "output_type": "stream",
          "text": [
            "\n",
            "      Epoch    GPU_mem   box_loss   cls_loss   dfl_loss  Instances       Size\n"
          ]
        },
        {
          "name": "stderr",
          "output_type": "stream",
          "text": [
            "     58/500      12.2G      2.279      1.368      1.189        200        640: 100%|██████████| 44/44 [00:35<00:00,  1.25it/s]\n",
            "                 Class     Images  Instances      Box(P          R      mAP50  mAP50-95): 100%|██████████| 3/3 [00:02<00:00,  1.35it/s]"
          ]
        },
        {
          "name": "stdout",
          "output_type": "stream",
          "text": [
            "                   all         77       2624      0.635      0.379      0.405      0.143\n"
          ]
        },
        {
          "name": "stderr",
          "output_type": "stream",
          "text": [
            "\n"
          ]
        },
        {
          "name": "stdout",
          "output_type": "stream",
          "text": [
            "\n",
            "      Epoch    GPU_mem   box_loss   cls_loss   dfl_loss  Instances       Size\n"
          ]
        },
        {
          "name": "stderr",
          "output_type": "stream",
          "text": [
            "     59/500        12G      2.283       1.37      1.187        230        640: 100%|██████████| 44/44 [00:35<00:00,  1.24it/s]\n",
            "                 Class     Images  Instances      Box(P          R      mAP50  mAP50-95): 100%|██████████| 3/3 [00:02<00:00,  1.32it/s]"
          ]
        },
        {
          "name": "stdout",
          "output_type": "stream",
          "text": [
            "                   all         77       2624      0.651      0.403      0.422      0.151\n"
          ]
        },
        {
          "name": "stderr",
          "output_type": "stream",
          "text": [
            "\n"
          ]
        },
        {
          "name": "stdout",
          "output_type": "stream",
          "text": [
            "\n",
            "      Epoch    GPU_mem   box_loss   cls_loss   dfl_loss  Instances       Size\n"
          ]
        },
        {
          "name": "stderr",
          "output_type": "stream",
          "text": [
            "     60/500      12.9G      2.288      1.388      1.195        277        640: 100%|██████████| 44/44 [00:35<00:00,  1.25it/s]\n",
            "                 Class     Images  Instances      Box(P          R      mAP50  mAP50-95): 100%|██████████| 3/3 [00:02<00:00,  1.33it/s]"
          ]
        },
        {
          "name": "stdout",
          "output_type": "stream",
          "text": [
            "                   all         77       2624      0.626      0.377        0.4      0.142\n"
          ]
        },
        {
          "name": "stderr",
          "output_type": "stream",
          "text": [
            "\n"
          ]
        },
        {
          "name": "stdout",
          "output_type": "stream",
          "text": [
            "\n",
            "      Epoch    GPU_mem   box_loss   cls_loss   dfl_loss  Instances       Size\n"
          ]
        },
        {
          "name": "stderr",
          "output_type": "stream",
          "text": [
            "     61/500      13.7G       2.28      1.379      1.187        256        640: 100%|██████████| 44/44 [00:34<00:00,  1.27it/s]\n",
            "                 Class     Images  Instances      Box(P          R      mAP50  mAP50-95): 100%|██████████| 3/3 [00:02<00:00,  1.31it/s]"
          ]
        },
        {
          "name": "stdout",
          "output_type": "stream",
          "text": [
            "                   all         77       2624      0.678      0.398      0.433      0.151\n"
          ]
        },
        {
          "name": "stderr",
          "output_type": "stream",
          "text": [
            "\n"
          ]
        },
        {
          "name": "stdout",
          "output_type": "stream",
          "text": [
            "\n",
            "      Epoch    GPU_mem   box_loss   cls_loss   dfl_loss  Instances       Size\n"
          ]
        },
        {
          "name": "stderr",
          "output_type": "stream",
          "text": [
            "     62/500      14.4G      2.265      1.344      1.199        114        640: 100%|██████████| 44/44 [00:35<00:00,  1.23it/s]\n",
            "                 Class     Images  Instances      Box(P          R      mAP50  mAP50-95): 100%|██████████| 3/3 [00:02<00:00,  1.33it/s]"
          ]
        },
        {
          "name": "stdout",
          "output_type": "stream",
          "text": [
            "                   all         77       2624      0.644      0.368      0.383      0.138\n"
          ]
        },
        {
          "name": "stderr",
          "output_type": "stream",
          "text": [
            "\n"
          ]
        },
        {
          "name": "stdout",
          "output_type": "stream",
          "text": [
            "\n",
            "      Epoch    GPU_mem   box_loss   cls_loss   dfl_loss  Instances       Size\n"
          ]
        },
        {
          "name": "stderr",
          "output_type": "stream",
          "text": [
            "     63/500      12.7G      2.251      1.372      1.208        178        640: 100%|██████████| 44/44 [00:34<00:00,  1.27it/s]\n",
            "                 Class     Images  Instances      Box(P          R      mAP50  mAP50-95): 100%|██████████| 3/3 [00:02<00:00,  1.22it/s]"
          ]
        },
        {
          "name": "stdout",
          "output_type": "stream",
          "text": [
            "                   all         77       2624       0.66      0.389      0.417       0.15\n"
          ]
        },
        {
          "name": "stderr",
          "output_type": "stream",
          "text": [
            "\n"
          ]
        },
        {
          "name": "stdout",
          "output_type": "stream",
          "text": [
            "\n",
            "      Epoch    GPU_mem   box_loss   cls_loss   dfl_loss  Instances       Size\n"
          ]
        },
        {
          "name": "stderr",
          "output_type": "stream",
          "text": [
            "     64/500      13.6G      2.286      1.375      1.191        156        640: 100%|██████████| 44/44 [00:35<00:00,  1.25it/s]\n",
            "                 Class     Images  Instances      Box(P          R      mAP50  mAP50-95): 100%|██████████| 3/3 [00:02<00:00,  1.34it/s]"
          ]
        },
        {
          "name": "stdout",
          "output_type": "stream",
          "text": [
            "                   all         77       2624      0.641      0.386      0.418       0.15\n"
          ]
        },
        {
          "name": "stderr",
          "output_type": "stream",
          "text": [
            "\n"
          ]
        },
        {
          "name": "stdout",
          "output_type": "stream",
          "text": [
            "\n",
            "      Epoch    GPU_mem   box_loss   cls_loss   dfl_loss  Instances       Size\n"
          ]
        },
        {
          "name": "stderr",
          "output_type": "stream",
          "text": [
            "     65/500      13.5G      2.279      1.381      1.215        151        640: 100%|██████████| 44/44 [00:34<00:00,  1.26it/s]\n",
            "                 Class     Images  Instances      Box(P          R      mAP50  mAP50-95): 100%|██████████| 3/3 [00:02<00:00,  1.34it/s]"
          ]
        },
        {
          "name": "stdout",
          "output_type": "stream",
          "text": [
            "                   all         77       2624      0.659      0.401      0.422      0.146\n"
          ]
        },
        {
          "name": "stderr",
          "output_type": "stream",
          "text": [
            "\n"
          ]
        },
        {
          "name": "stdout",
          "output_type": "stream",
          "text": [
            "\n",
            "      Epoch    GPU_mem   box_loss   cls_loss   dfl_loss  Instances       Size\n"
          ]
        },
        {
          "name": "stderr",
          "output_type": "stream",
          "text": [
            "     66/500      12.3G      2.223      1.329      1.178        240        640: 100%|██████████| 44/44 [00:35<00:00,  1.25it/s]\n",
            "                 Class     Images  Instances      Box(P          R      mAP50  mAP50-95): 100%|██████████| 3/3 [00:02<00:00,  1.34it/s]"
          ]
        },
        {
          "name": "stdout",
          "output_type": "stream",
          "text": [
            "                   all         77       2624      0.664      0.387      0.407      0.143\n"
          ]
        },
        {
          "name": "stderr",
          "output_type": "stream",
          "text": [
            "\n"
          ]
        },
        {
          "name": "stdout",
          "output_type": "stream",
          "text": [
            "\n",
            "      Epoch    GPU_mem   box_loss   cls_loss   dfl_loss  Instances       Size\n"
          ]
        },
        {
          "name": "stderr",
          "output_type": "stream",
          "text": [
            "     67/500        12G      2.198      1.305      1.189        127        640: 100%|██████████| 44/44 [00:34<00:00,  1.27it/s]\n",
            "                 Class     Images  Instances      Box(P          R      mAP50  mAP50-95): 100%|██████████| 3/3 [00:02<00:00,  1.32it/s]"
          ]
        },
        {
          "name": "stdout",
          "output_type": "stream",
          "text": [
            "                   all         77       2624      0.683      0.383      0.413      0.149\n"
          ]
        },
        {
          "name": "stderr",
          "output_type": "stream",
          "text": [
            "\n"
          ]
        },
        {
          "name": "stdout",
          "output_type": "stream",
          "text": [
            "\n",
            "      Epoch    GPU_mem   box_loss   cls_loss   dfl_loss  Instances       Size\n"
          ]
        },
        {
          "name": "stderr",
          "output_type": "stream",
          "text": [
            "     68/500      13.8G        2.2      1.295      1.169        283        640: 100%|██████████| 44/44 [00:35<00:00,  1.25it/s]\n",
            "                 Class     Images  Instances      Box(P          R      mAP50  mAP50-95): 100%|██████████| 3/3 [00:02<00:00,  1.31it/s]"
          ]
        },
        {
          "name": "stdout",
          "output_type": "stream",
          "text": [
            "                   all         77       2624      0.631      0.395      0.402      0.143\n"
          ]
        },
        {
          "name": "stderr",
          "output_type": "stream",
          "text": [
            "\n"
          ]
        },
        {
          "name": "stdout",
          "output_type": "stream",
          "text": [
            "\n",
            "      Epoch    GPU_mem   box_loss   cls_loss   dfl_loss  Instances       Size\n"
          ]
        },
        {
          "name": "stderr",
          "output_type": "stream",
          "text": [
            "     69/500      13.9G      2.195      1.291      1.177        117        640: 100%|██████████| 44/44 [00:35<00:00,  1.26it/s]\n",
            "                 Class     Images  Instances      Box(P          R      mAP50  mAP50-95): 100%|██████████| 3/3 [00:02<00:00,  1.38it/s]"
          ]
        },
        {
          "name": "stdout",
          "output_type": "stream",
          "text": [
            "                   all         77       2624       0.64      0.396      0.388      0.136\n"
          ]
        },
        {
          "name": "stderr",
          "output_type": "stream",
          "text": [
            "\n"
          ]
        },
        {
          "name": "stdout",
          "output_type": "stream",
          "text": [
            "\n",
            "      Epoch    GPU_mem   box_loss   cls_loss   dfl_loss  Instances       Size\n"
          ]
        },
        {
          "name": "stderr",
          "output_type": "stream",
          "text": [
            "     70/500      14.4G      2.226      1.314      1.177        172        640: 100%|██████████| 44/44 [00:35<00:00,  1.26it/s]\n",
            "                 Class     Images  Instances      Box(P          R      mAP50  mAP50-95): 100%|██████████| 3/3 [00:02<00:00,  1.22it/s]"
          ]
        },
        {
          "name": "stdout",
          "output_type": "stream",
          "text": [
            "                   all         77       2624      0.653      0.391      0.409       0.14\n"
          ]
        },
        {
          "name": "stderr",
          "output_type": "stream",
          "text": [
            "\n"
          ]
        },
        {
          "name": "stdout",
          "output_type": "stream",
          "text": [
            "\n",
            "      Epoch    GPU_mem   box_loss   cls_loss   dfl_loss  Instances       Size\n"
          ]
        },
        {
          "name": "stderr",
          "output_type": "stream",
          "text": [
            "     71/500      13.5G      2.201       1.31       1.17        214        640: 100%|██████████| 44/44 [00:34<00:00,  1.27it/s]\n",
            "                 Class     Images  Instances      Box(P          R      mAP50  mAP50-95): 100%|██████████| 3/3 [00:02<00:00,  1.19it/s]"
          ]
        },
        {
          "name": "stdout",
          "output_type": "stream",
          "text": [
            "                   all         77       2624       0.69      0.388      0.421      0.153\n"
          ]
        },
        {
          "name": "stderr",
          "output_type": "stream",
          "text": [
            "\n"
          ]
        },
        {
          "name": "stdout",
          "output_type": "stream",
          "text": [
            "\n",
            "      Epoch    GPU_mem   box_loss   cls_loss   dfl_loss  Instances       Size\n"
          ]
        },
        {
          "name": "stderr",
          "output_type": "stream",
          "text": [
            "     72/500      15.1G      2.187      1.294      1.163        196        640: 100%|██████████| 44/44 [00:35<00:00,  1.25it/s]\n",
            "                 Class     Images  Instances      Box(P          R      mAP50  mAP50-95): 100%|██████████| 3/3 [00:02<00:00,  1.28it/s]"
          ]
        },
        {
          "name": "stdout",
          "output_type": "stream",
          "text": [
            "                   all         77       2624       0.65      0.377        0.4       0.14\n"
          ]
        },
        {
          "name": "stderr",
          "output_type": "stream",
          "text": [
            "\n"
          ]
        },
        {
          "name": "stdout",
          "output_type": "stream",
          "text": [
            "\n",
            "      Epoch    GPU_mem   box_loss   cls_loss   dfl_loss  Instances       Size\n"
          ]
        },
        {
          "name": "stderr",
          "output_type": "stream",
          "text": [
            "     73/500      13.4G      2.157       1.25      1.155        216        640: 100%|██████████| 44/44 [00:35<00:00,  1.25it/s]\n",
            "                 Class     Images  Instances      Box(P          R      mAP50  mAP50-95): 100%|██████████| 3/3 [00:02<00:00,  1.33it/s]"
          ]
        },
        {
          "name": "stdout",
          "output_type": "stream",
          "text": [
            "                   all         77       2624      0.642      0.422      0.428      0.149\n"
          ]
        },
        {
          "name": "stderr",
          "output_type": "stream",
          "text": [
            "\n"
          ]
        },
        {
          "name": "stdout",
          "output_type": "stream",
          "text": [
            "\n",
            "      Epoch    GPU_mem   box_loss   cls_loss   dfl_loss  Instances       Size\n"
          ]
        },
        {
          "name": "stderr",
          "output_type": "stream",
          "text": [
            "     74/500        12G      2.191      1.289       1.16        288        640: 100%|██████████| 44/44 [00:35<00:00,  1.25it/s]\n",
            "                 Class     Images  Instances      Box(P          R      mAP50  mAP50-95): 100%|██████████| 3/3 [00:02<00:00,  1.50it/s]"
          ]
        },
        {
          "name": "stdout",
          "output_type": "stream",
          "text": [
            "                   all         77       2624      0.682      0.401      0.419      0.145\n"
          ]
        },
        {
          "name": "stderr",
          "output_type": "stream",
          "text": [
            "\n"
          ]
        },
        {
          "name": "stdout",
          "output_type": "stream",
          "text": [
            "\n",
            "      Epoch    GPU_mem   box_loss   cls_loss   dfl_loss  Instances       Size\n"
          ]
        },
        {
          "name": "stderr",
          "output_type": "stream",
          "text": [
            "     75/500      13.5G      2.164      1.264      1.178        130        640: 100%|██████████| 44/44 [00:34<00:00,  1.27it/s]\n",
            "                 Class     Images  Instances      Box(P          R      mAP50  mAP50-95): 100%|██████████| 3/3 [00:02<00:00,  1.31it/s]"
          ]
        },
        {
          "name": "stdout",
          "output_type": "stream",
          "text": [
            "                   all         77       2624      0.664      0.413       0.43      0.149\n"
          ]
        },
        {
          "name": "stderr",
          "output_type": "stream",
          "text": [
            "\n"
          ]
        },
        {
          "name": "stdout",
          "output_type": "stream",
          "text": [
            "\n",
            "      Epoch    GPU_mem   box_loss   cls_loss   dfl_loss  Instances       Size\n"
          ]
        },
        {
          "name": "stderr",
          "output_type": "stream",
          "text": [
            "     76/500      13.5G      2.185       1.27      1.159        204        640: 100%|██████████| 44/44 [00:35<00:00,  1.25it/s]\n",
            "                 Class     Images  Instances      Box(P          R      mAP50  mAP50-95): 100%|██████████| 3/3 [00:02<00:00,  1.31it/s]"
          ]
        },
        {
          "name": "stdout",
          "output_type": "stream",
          "text": [
            "                   all         77       2624      0.697      0.373      0.408      0.148\n"
          ]
        },
        {
          "name": "stderr",
          "output_type": "stream",
          "text": [
            "\n"
          ]
        },
        {
          "name": "stdout",
          "output_type": "stream",
          "text": [
            "\n",
            "      Epoch    GPU_mem   box_loss   cls_loss   dfl_loss  Instances       Size\n"
          ]
        },
        {
          "name": "stderr",
          "output_type": "stream",
          "text": [
            "     77/500      13.1G      2.185      1.266      1.163        149        640: 100%|██████████| 44/44 [00:35<00:00,  1.23it/s]\n",
            "                 Class     Images  Instances      Box(P          R      mAP50  mAP50-95): 100%|██████████| 3/3 [00:01<00:00,  1.50it/s]"
          ]
        },
        {
          "name": "stdout",
          "output_type": "stream",
          "text": [
            "                   all         77       2624      0.646      0.415       0.42      0.147\n"
          ]
        },
        {
          "name": "stderr",
          "output_type": "stream",
          "text": [
            "\n"
          ]
        },
        {
          "name": "stdout",
          "output_type": "stream",
          "text": [
            "\n",
            "      Epoch    GPU_mem   box_loss   cls_loss   dfl_loss  Instances       Size\n"
          ]
        },
        {
          "name": "stderr",
          "output_type": "stream",
          "text": [
            "     78/500      11.9G       2.16      1.241      1.153        229        640: 100%|██████████| 44/44 [00:34<00:00,  1.26it/s]\n",
            "                 Class     Images  Instances      Box(P          R      mAP50  mAP50-95): 100%|██████████| 3/3 [00:02<00:00,  1.32it/s]"
          ]
        },
        {
          "name": "stdout",
          "output_type": "stream",
          "text": [
            "                   all         77       2624      0.666      0.389      0.414      0.147\n"
          ]
        },
        {
          "name": "stderr",
          "output_type": "stream",
          "text": [
            "\n"
          ]
        },
        {
          "name": "stdout",
          "output_type": "stream",
          "text": [
            "\n",
            "      Epoch    GPU_mem   box_loss   cls_loss   dfl_loss  Instances       Size\n"
          ]
        },
        {
          "name": "stderr",
          "output_type": "stream",
          "text": [
            "     79/500        15G      2.174      1.253      1.157        188        640: 100%|██████████| 44/44 [00:35<00:00,  1.26it/s]\n",
            "                 Class     Images  Instances      Box(P          R      mAP50  mAP50-95): 100%|██████████| 3/3 [00:02<00:00,  1.23it/s]"
          ]
        },
        {
          "name": "stdout",
          "output_type": "stream",
          "text": [
            "                   all         77       2624      0.649      0.413       0.42      0.147\n"
          ]
        },
        {
          "name": "stderr",
          "output_type": "stream",
          "text": [
            "\n"
          ]
        },
        {
          "name": "stdout",
          "output_type": "stream",
          "text": [
            "\n",
            "      Epoch    GPU_mem   box_loss   cls_loss   dfl_loss  Instances       Size\n"
          ]
        },
        {
          "name": "stderr",
          "output_type": "stream",
          "text": [
            "     80/500        13G      2.179      1.252      1.147        161        640: 100%|██████████| 44/44 [00:35<00:00,  1.25it/s]\n",
            "                 Class     Images  Instances      Box(P          R      mAP50  mAP50-95): 100%|██████████| 3/3 [00:02<00:00,  1.22it/s]"
          ]
        },
        {
          "name": "stdout",
          "output_type": "stream",
          "text": [
            "                   all         77       2624      0.669      0.413      0.425      0.149\n"
          ]
        },
        {
          "name": "stderr",
          "output_type": "stream",
          "text": [
            "\n"
          ]
        },
        {
          "name": "stdout",
          "output_type": "stream",
          "text": [
            "\n",
            "      Epoch    GPU_mem   box_loss   cls_loss   dfl_loss  Instances       Size\n"
          ]
        },
        {
          "name": "stderr",
          "output_type": "stream",
          "text": [
            "     81/500      14.5G      2.147      1.245      1.153        112        640: 100%|██████████| 44/44 [00:35<00:00,  1.25it/s]\n",
            "                 Class     Images  Instances      Box(P          R      mAP50  mAP50-95): 100%|██████████| 3/3 [00:02<00:00,  1.30it/s]"
          ]
        },
        {
          "name": "stdout",
          "output_type": "stream",
          "text": [
            "                   all         77       2624      0.644      0.377      0.396      0.136\n"
          ]
        },
        {
          "name": "stderr",
          "output_type": "stream",
          "text": [
            "\n"
          ]
        },
        {
          "name": "stdout",
          "output_type": "stream",
          "text": [
            "\n",
            "      Epoch    GPU_mem   box_loss   cls_loss   dfl_loss  Instances       Size\n"
          ]
        },
        {
          "name": "stderr",
          "output_type": "stream",
          "text": [
            "     82/500      13.7G       2.14       1.23      1.143        183        640: 100%|██████████| 44/44 [00:34<00:00,  1.26it/s]\n",
            "                 Class     Images  Instances      Box(P          R      mAP50  mAP50-95): 100%|██████████| 3/3 [00:02<00:00,  1.32it/s]"
          ]
        },
        {
          "name": "stdout",
          "output_type": "stream",
          "text": [
            "                   all         77       2624      0.662       0.39      0.409      0.147\n"
          ]
        },
        {
          "name": "stderr",
          "output_type": "stream",
          "text": [
            "\n"
          ]
        },
        {
          "name": "stdout",
          "output_type": "stream",
          "text": [
            "\n",
            "      Epoch    GPU_mem   box_loss   cls_loss   dfl_loss  Instances       Size\n"
          ]
        },
        {
          "name": "stderr",
          "output_type": "stream",
          "text": [
            "     83/500      15.6G      2.118      1.213      1.147        293        640: 100%|██████████| 44/44 [00:34<00:00,  1.26it/s]\n",
            "                 Class     Images  Instances      Box(P          R      mAP50  mAP50-95): 100%|██████████| 3/3 [00:02<00:00,  1.25it/s]"
          ]
        },
        {
          "name": "stdout",
          "output_type": "stream",
          "text": [
            "                   all         77       2624      0.663      0.398      0.411      0.146\n"
          ]
        },
        {
          "name": "stderr",
          "output_type": "stream",
          "text": [
            "\n"
          ]
        },
        {
          "name": "stdout",
          "output_type": "stream",
          "text": [
            "\n",
            "      Epoch    GPU_mem   box_loss   cls_loss   dfl_loss  Instances       Size\n"
          ]
        },
        {
          "name": "stderr",
          "output_type": "stream",
          "text": [
            "     84/500      15.5G      2.144       1.22      1.134        224        640: 100%|██████████| 44/44 [00:35<00:00,  1.24it/s]\n",
            "                 Class     Images  Instances      Box(P          R      mAP50  mAP50-95): 100%|██████████| 3/3 [00:02<00:00,  1.25it/s]"
          ]
        },
        {
          "name": "stdout",
          "output_type": "stream",
          "text": [
            "                   all         77       2624      0.654       0.41       0.43      0.151\n"
          ]
        },
        {
          "name": "stderr",
          "output_type": "stream",
          "text": [
            "\n"
          ]
        },
        {
          "name": "stdout",
          "output_type": "stream",
          "text": [
            "\n",
            "      Epoch    GPU_mem   box_loss   cls_loss   dfl_loss  Instances       Size\n"
          ]
        },
        {
          "name": "stderr",
          "output_type": "stream",
          "text": [
            "     85/500      14.4G      2.119       1.23      1.145        118        640: 100%|██████████| 44/44 [00:34<00:00,  1.26it/s]\n",
            "                 Class     Images  Instances      Box(P          R      mAP50  mAP50-95): 100%|██████████| 3/3 [00:02<00:00,  1.32it/s]"
          ]
        },
        {
          "name": "stdout",
          "output_type": "stream",
          "text": [
            "                   all         77       2624      0.652      0.396      0.416      0.151\n"
          ]
        },
        {
          "name": "stderr",
          "output_type": "stream",
          "text": [
            "\n"
          ]
        },
        {
          "name": "stdout",
          "output_type": "stream",
          "text": [
            "\n",
            "      Epoch    GPU_mem   box_loss   cls_loss   dfl_loss  Instances       Size\n"
          ]
        },
        {
          "name": "stderr",
          "output_type": "stream",
          "text": [
            "     86/500        13G      2.136      1.224      1.149        129        640: 100%|██████████| 44/44 [00:35<00:00,  1.24it/s]\n",
            "                 Class     Images  Instances      Box(P          R      mAP50  mAP50-95): 100%|██████████| 3/3 [00:02<00:00,  1.35it/s]"
          ]
        },
        {
          "name": "stdout",
          "output_type": "stream",
          "text": [
            "                   all         77       2624      0.704      0.407      0.436      0.154\n"
          ]
        },
        {
          "name": "stderr",
          "output_type": "stream",
          "text": [
            "\n"
          ]
        },
        {
          "name": "stdout",
          "output_type": "stream",
          "text": [
            "\n",
            "      Epoch    GPU_mem   box_loss   cls_loss   dfl_loss  Instances       Size\n"
          ]
        },
        {
          "name": "stderr",
          "output_type": "stream",
          "text": [
            "     87/500      15.1G      2.095      1.192      1.127        241        640: 100%|██████████| 44/44 [00:35<00:00,  1.25it/s]\n",
            "                 Class     Images  Instances      Box(P          R      mAP50  mAP50-95): 100%|██████████| 3/3 [00:02<00:00,  1.29it/s]"
          ]
        },
        {
          "name": "stdout",
          "output_type": "stream",
          "text": [
            "                   all         77       2624      0.668      0.404      0.414      0.147\n"
          ]
        },
        {
          "name": "stderr",
          "output_type": "stream",
          "text": [
            "\n"
          ]
        },
        {
          "name": "stdout",
          "output_type": "stream",
          "text": [
            "\n",
            "      Epoch    GPU_mem   box_loss   cls_loss   dfl_loss  Instances       Size\n"
          ]
        },
        {
          "name": "stderr",
          "output_type": "stream",
          "text": [
            "     88/500      13.8G      2.118      1.207      1.144        228        640: 100%|██████████| 44/44 [00:35<00:00,  1.25it/s]\n",
            "                 Class     Images  Instances      Box(P          R      mAP50  mAP50-95): 100%|██████████| 3/3 [00:02<00:00,  1.26it/s]"
          ]
        },
        {
          "name": "stdout",
          "output_type": "stream",
          "text": [
            "                   all         77       2624      0.657      0.393      0.409      0.145\n"
          ]
        },
        {
          "name": "stderr",
          "output_type": "stream",
          "text": [
            "\n"
          ]
        },
        {
          "name": "stdout",
          "output_type": "stream",
          "text": [
            "\n",
            "      Epoch    GPU_mem   box_loss   cls_loss   dfl_loss  Instances       Size\n"
          ]
        },
        {
          "name": "stderr",
          "output_type": "stream",
          "text": [
            "     89/500      13.8G      2.061      1.163      1.134        114        640: 100%|██████████| 44/44 [00:34<00:00,  1.26it/s]\n",
            "                 Class     Images  Instances      Box(P          R      mAP50  mAP50-95): 100%|██████████| 3/3 [00:02<00:00,  1.17it/s]"
          ]
        },
        {
          "name": "stdout",
          "output_type": "stream",
          "text": [
            "                   all         77       2624      0.664      0.409      0.422      0.149\n"
          ]
        },
        {
          "name": "stderr",
          "output_type": "stream",
          "text": [
            "\n"
          ]
        },
        {
          "name": "stdout",
          "output_type": "stream",
          "text": [
            "\n",
            "      Epoch    GPU_mem   box_loss   cls_loss   dfl_loss  Instances       Size\n"
          ]
        },
        {
          "name": "stderr",
          "output_type": "stream",
          "text": [
            "     90/500      14.6G      2.083      1.175       1.13        133        640: 100%|██████████| 44/44 [00:35<00:00,  1.24it/s]\n",
            "                 Class     Images  Instances      Box(P          R      mAP50  mAP50-95): 100%|██████████| 3/3 [00:02<00:00,  1.31it/s]"
          ]
        },
        {
          "name": "stdout",
          "output_type": "stream",
          "text": [
            "                   all         77       2624      0.674      0.414      0.434      0.154\n"
          ]
        },
        {
          "name": "stderr",
          "output_type": "stream",
          "text": [
            "\n"
          ]
        },
        {
          "name": "stdout",
          "output_type": "stream",
          "text": [
            "\n",
            "      Epoch    GPU_mem   box_loss   cls_loss   dfl_loss  Instances       Size\n"
          ]
        },
        {
          "name": "stderr",
          "output_type": "stream",
          "text": [
            "     91/500      14.4G      2.094      1.167       1.13        198        640: 100%|██████████| 44/44 [00:35<00:00,  1.24it/s]\n",
            "                 Class     Images  Instances      Box(P          R      mAP50  mAP50-95): 100%|██████████| 3/3 [00:02<00:00,  1.31it/s]"
          ]
        },
        {
          "name": "stdout",
          "output_type": "stream",
          "text": [
            "                   all         77       2624      0.676       0.41       0.43      0.152\n"
          ]
        },
        {
          "name": "stderr",
          "output_type": "stream",
          "text": [
            "\n"
          ]
        },
        {
          "name": "stdout",
          "output_type": "stream",
          "text": [
            "\n",
            "      Epoch    GPU_mem   box_loss   cls_loss   dfl_loss  Instances       Size\n"
          ]
        },
        {
          "name": "stderr",
          "output_type": "stream",
          "text": [
            "     92/500      14.7G      2.061      1.165      1.126        256        640: 100%|██████████| 44/44 [00:35<00:00,  1.25it/s]\n",
            "                 Class     Images  Instances      Box(P          R      mAP50  mAP50-95): 100%|██████████| 3/3 [00:02<00:00,  1.27it/s]"
          ]
        },
        {
          "name": "stdout",
          "output_type": "stream",
          "text": [
            "                   all         77       2624      0.665      0.405      0.422      0.149\n"
          ]
        },
        {
          "name": "stderr",
          "output_type": "stream",
          "text": [
            "\n"
          ]
        },
        {
          "name": "stdout",
          "output_type": "stream",
          "text": [
            "\n",
            "      Epoch    GPU_mem   box_loss   cls_loss   dfl_loss  Instances       Size\n"
          ]
        },
        {
          "name": "stderr",
          "output_type": "stream",
          "text": [
            "     93/500      13.7G      2.053      1.155      1.125        133        640: 100%|██████████| 44/44 [00:34<00:00,  1.26it/s]\n",
            "                 Class     Images  Instances      Box(P          R      mAP50  mAP50-95): 100%|██████████| 3/3 [00:02<00:00,  1.20it/s]"
          ]
        },
        {
          "name": "stdout",
          "output_type": "stream",
          "text": [
            "                   all         77       2624      0.685       0.42      0.433      0.152\n"
          ]
        },
        {
          "name": "stderr",
          "output_type": "stream",
          "text": [
            "\n"
          ]
        },
        {
          "name": "stdout",
          "output_type": "stream",
          "text": [
            "\n",
            "      Epoch    GPU_mem   box_loss   cls_loss   dfl_loss  Instances       Size\n"
          ]
        },
        {
          "name": "stderr",
          "output_type": "stream",
          "text": [
            "     94/500      14.2G      2.062       1.17      1.116         96        640: 100%|██████████| 44/44 [00:35<00:00,  1.25it/s]\n",
            "                 Class     Images  Instances      Box(P          R      mAP50  mAP50-95): 100%|██████████| 3/3 [00:02<00:00,  1.29it/s]"
          ]
        },
        {
          "name": "stdout",
          "output_type": "stream",
          "text": [
            "                   all         77       2624      0.687      0.418      0.438      0.154\n"
          ]
        },
        {
          "name": "stderr",
          "output_type": "stream",
          "text": [
            "\n"
          ]
        },
        {
          "name": "stdout",
          "output_type": "stream",
          "text": [
            "\n",
            "      Epoch    GPU_mem   box_loss   cls_loss   dfl_loss  Instances       Size\n"
          ]
        },
        {
          "name": "stderr",
          "output_type": "stream",
          "text": [
            "     95/500      13.6G       2.04      1.141      1.121        221        640: 100%|██████████| 44/44 [00:35<00:00,  1.24it/s]\n",
            "                 Class     Images  Instances      Box(P          R      mAP50  mAP50-95): 100%|██████████| 3/3 [00:02<00:00,  1.17it/s]"
          ]
        },
        {
          "name": "stdout",
          "output_type": "stream",
          "text": [
            "                   all         77       2624      0.674      0.402      0.418      0.143\n"
          ]
        },
        {
          "name": "stderr",
          "output_type": "stream",
          "text": [
            "\n"
          ]
        },
        {
          "name": "stdout",
          "output_type": "stream",
          "text": [
            "\n",
            "      Epoch    GPU_mem   box_loss   cls_loss   dfl_loss  Instances       Size\n"
          ]
        },
        {
          "name": "stderr",
          "output_type": "stream",
          "text": [
            "     96/500        14G      2.067      1.182      1.129        337        640: 100%|██████████| 44/44 [00:35<00:00,  1.25it/s]\n",
            "                 Class     Images  Instances      Box(P          R      mAP50  mAP50-95): 100%|██████████| 3/3 [00:02<00:00,  1.30it/s]"
          ]
        },
        {
          "name": "stdout",
          "output_type": "stream",
          "text": [
            "                   all         77       2624      0.674      0.406      0.423      0.149\n"
          ]
        },
        {
          "name": "stderr",
          "output_type": "stream",
          "text": [
            "\n"
          ]
        },
        {
          "name": "stdout",
          "output_type": "stream",
          "text": [
            "\n",
            "      Epoch    GPU_mem   box_loss   cls_loss   dfl_loss  Instances       Size\n"
          ]
        },
        {
          "name": "stderr",
          "output_type": "stream",
          "text": [
            "     97/500      12.2G      2.032      1.147      1.108        278        640: 100%|██████████| 44/44 [00:35<00:00,  1.26it/s]\n",
            "                 Class     Images  Instances      Box(P          R      mAP50  mAP50-95): 100%|██████████| 3/3 [00:02<00:00,  1.26it/s]"
          ]
        },
        {
          "name": "stdout",
          "output_type": "stream",
          "text": [
            "                   all         77       2624      0.688      0.431      0.447      0.156\n"
          ]
        },
        {
          "name": "stderr",
          "output_type": "stream",
          "text": [
            "\n"
          ]
        },
        {
          "name": "stdout",
          "output_type": "stream",
          "text": [
            "\n",
            "      Epoch    GPU_mem   box_loss   cls_loss   dfl_loss  Instances       Size\n"
          ]
        },
        {
          "name": "stderr",
          "output_type": "stream",
          "text": [
            "     98/500      12.9G      2.031      1.141      1.109        157        640: 100%|██████████| 44/44 [00:35<00:00,  1.24it/s]\n",
            "                 Class     Images  Instances      Box(P          R      mAP50  mAP50-95): 100%|██████████| 3/3 [00:02<00:00,  1.23it/s]"
          ]
        },
        {
          "name": "stdout",
          "output_type": "stream",
          "text": [
            "                   all         77       2624      0.681      0.406      0.426      0.147\n"
          ]
        },
        {
          "name": "stderr",
          "output_type": "stream",
          "text": [
            "\n"
          ]
        },
        {
          "name": "stdout",
          "output_type": "stream",
          "text": [
            "\n",
            "      Epoch    GPU_mem   box_loss   cls_loss   dfl_loss  Instances       Size\n"
          ]
        },
        {
          "name": "stderr",
          "output_type": "stream",
          "text": [
            "     99/500      12.4G      2.026      1.122      1.087        179        640: 100%|██████████| 44/44 [00:35<00:00,  1.24it/s]\n",
            "                 Class     Images  Instances      Box(P          R      mAP50  mAP50-95): 100%|██████████| 3/3 [00:02<00:00,  1.31it/s]"
          ]
        },
        {
          "name": "stdout",
          "output_type": "stream",
          "text": [
            "                   all         77       2624      0.672      0.405      0.422      0.148\n"
          ]
        },
        {
          "name": "stderr",
          "output_type": "stream",
          "text": [
            "\n"
          ]
        },
        {
          "name": "stdout",
          "output_type": "stream",
          "text": [
            "\n",
            "      Epoch    GPU_mem   box_loss   cls_loss   dfl_loss  Instances       Size\n"
          ]
        },
        {
          "name": "stderr",
          "output_type": "stream",
          "text": [
            "    100/500      13.4G      2.021       1.14      1.121         99        640: 100%|██████████| 44/44 [00:35<00:00,  1.26it/s]\n",
            "                 Class     Images  Instances      Box(P          R      mAP50  mAP50-95): 100%|██████████| 3/3 [00:02<00:00,  1.30it/s]"
          ]
        },
        {
          "name": "stdout",
          "output_type": "stream",
          "text": [
            "                   all         77       2624      0.685       0.41      0.436      0.152\n"
          ]
        },
        {
          "name": "stderr",
          "output_type": "stream",
          "text": [
            "\n"
          ]
        },
        {
          "name": "stdout",
          "output_type": "stream",
          "text": [
            "\n",
            "      Epoch    GPU_mem   box_loss   cls_loss   dfl_loss  Instances       Size\n"
          ]
        },
        {
          "name": "stderr",
          "output_type": "stream",
          "text": [
            "    101/500      13.9G      1.995      1.099      1.098        145        640: 100%|██████████| 44/44 [00:35<00:00,  1.25it/s]\n",
            "                 Class     Images  Instances      Box(P          R      mAP50  mAP50-95): 100%|██████████| 3/3 [00:02<00:00,  1.30it/s]"
          ]
        },
        {
          "name": "stdout",
          "output_type": "stream",
          "text": [
            "                   all         77       2624      0.648      0.414      0.405      0.139\n"
          ]
        },
        {
          "name": "stderr",
          "output_type": "stream",
          "text": [
            "\n"
          ]
        },
        {
          "name": "stdout",
          "output_type": "stream",
          "text": [
            "\n",
            "      Epoch    GPU_mem   box_loss   cls_loss   dfl_loss  Instances       Size\n"
          ]
        },
        {
          "name": "stderr",
          "output_type": "stream",
          "text": [
            "    102/500      13.4G      2.021      1.113      1.108        190        640: 100%|██████████| 44/44 [00:35<00:00,  1.25it/s]\n",
            "                 Class     Images  Instances      Box(P          R      mAP50  mAP50-95): 100%|██████████| 3/3 [00:02<00:00,  1.31it/s]"
          ]
        },
        {
          "name": "stdout",
          "output_type": "stream",
          "text": [
            "                   all         77       2624      0.664      0.399      0.413      0.143\n"
          ]
        },
        {
          "name": "stderr",
          "output_type": "stream",
          "text": [
            "\n"
          ]
        },
        {
          "name": "stdout",
          "output_type": "stream",
          "text": [
            "\n",
            "      Epoch    GPU_mem   box_loss   cls_loss   dfl_loss  Instances       Size\n"
          ]
        },
        {
          "name": "stderr",
          "output_type": "stream",
          "text": [
            "    103/500      14.3G          2      1.104      1.093        235        640: 100%|██████████| 44/44 [00:35<00:00,  1.25it/s]\n",
            "                 Class     Images  Instances      Box(P          R      mAP50  mAP50-95): 100%|██████████| 3/3 [00:02<00:00,  1.30it/s]"
          ]
        },
        {
          "name": "stdout",
          "output_type": "stream",
          "text": [
            "                   all         77       2624      0.684      0.423      0.439      0.156\n"
          ]
        },
        {
          "name": "stderr",
          "output_type": "stream",
          "text": [
            "\n"
          ]
        },
        {
          "name": "stdout",
          "output_type": "stream",
          "text": [
            "\n",
            "      Epoch    GPU_mem   box_loss   cls_loss   dfl_loss  Instances       Size\n"
          ]
        },
        {
          "name": "stderr",
          "output_type": "stream",
          "text": [
            "    104/500      14.3G          2      1.104      1.105        172        640: 100%|██████████| 44/44 [00:35<00:00,  1.25it/s]\n",
            "                 Class     Images  Instances      Box(P          R      mAP50  mAP50-95): 100%|██████████| 3/3 [00:02<00:00,  1.34it/s]"
          ]
        },
        {
          "name": "stdout",
          "output_type": "stream",
          "text": [
            "                   all         77       2624      0.681      0.418       0.44      0.153\n"
          ]
        },
        {
          "name": "stderr",
          "output_type": "stream",
          "text": [
            "\n"
          ]
        },
        {
          "name": "stdout",
          "output_type": "stream",
          "text": [
            "\n",
            "      Epoch    GPU_mem   box_loss   cls_loss   dfl_loss  Instances       Size\n"
          ]
        },
        {
          "name": "stderr",
          "output_type": "stream",
          "text": [
            "    105/500      14.2G      2.042      1.124      1.121        266        640: 100%|██████████| 44/44 [00:35<00:00,  1.25it/s]\n",
            "                 Class     Images  Instances      Box(P          R      mAP50  mAP50-95): 100%|██████████| 3/3 [00:02<00:00,  1.22it/s]"
          ]
        },
        {
          "name": "stdout",
          "output_type": "stream",
          "text": [
            "                   all         77       2624      0.689      0.431      0.445      0.154\n"
          ]
        },
        {
          "name": "stderr",
          "output_type": "stream",
          "text": [
            "\n"
          ]
        },
        {
          "name": "stdout",
          "output_type": "stream",
          "text": [
            "\n",
            "      Epoch    GPU_mem   box_loss   cls_loss   dfl_loss  Instances       Size\n"
          ]
        },
        {
          "name": "stderr",
          "output_type": "stream",
          "text": [
            "    106/500        14G      1.986      1.096      1.102        195        640: 100%|██████████| 44/44 [00:34<00:00,  1.27it/s]\n",
            "                 Class     Images  Instances      Box(P          R      mAP50  mAP50-95): 100%|██████████| 3/3 [00:02<00:00,  1.20it/s]"
          ]
        },
        {
          "name": "stdout",
          "output_type": "stream",
          "text": [
            "                   all         77       2624      0.675      0.378       0.41      0.144\n"
          ]
        },
        {
          "name": "stderr",
          "output_type": "stream",
          "text": [
            "\n"
          ]
        },
        {
          "name": "stdout",
          "output_type": "stream",
          "text": [
            "\n",
            "      Epoch    GPU_mem   box_loss   cls_loss   dfl_loss  Instances       Size\n"
          ]
        },
        {
          "name": "stderr",
          "output_type": "stream",
          "text": [
            "    107/500      14.1G      1.982      1.097      1.103        149        640: 100%|██████████| 44/44 [00:35<00:00,  1.23it/s]\n",
            "                 Class     Images  Instances      Box(P          R      mAP50  mAP50-95): 100%|██████████| 3/3 [00:02<00:00,  1.27it/s]"
          ]
        },
        {
          "name": "stdout",
          "output_type": "stream",
          "text": [
            "                   all         77       2624      0.657      0.419      0.428      0.149\n"
          ]
        },
        {
          "name": "stderr",
          "output_type": "stream",
          "text": [
            "\n"
          ]
        },
        {
          "name": "stdout",
          "output_type": "stream",
          "text": [
            "\n",
            "      Epoch    GPU_mem   box_loss   cls_loss   dfl_loss  Instances       Size\n"
          ]
        },
        {
          "name": "stderr",
          "output_type": "stream",
          "text": [
            "    108/500      14.1G      2.006       1.11      1.105        171        640: 100%|██████████| 44/44 [00:34<00:00,  1.26it/s]\n",
            "                 Class     Images  Instances      Box(P          R      mAP50  mAP50-95): 100%|██████████| 3/3 [00:02<00:00,  1.33it/s]"
          ]
        },
        {
          "name": "stdout",
          "output_type": "stream",
          "text": [
            "                   all         77       2624      0.675      0.402      0.422      0.148\n"
          ]
        },
        {
          "name": "stderr",
          "output_type": "stream",
          "text": [
            "\n"
          ]
        },
        {
          "name": "stdout",
          "output_type": "stream",
          "text": [
            "\n",
            "      Epoch    GPU_mem   box_loss   cls_loss   dfl_loss  Instances       Size\n"
          ]
        },
        {
          "name": "stderr",
          "output_type": "stream",
          "text": [
            "    109/500      13.7G       1.95      1.078      1.089        172        640: 100%|██████████| 44/44 [00:35<00:00,  1.25it/s]\n",
            "                 Class     Images  Instances      Box(P          R      mAP50  mAP50-95): 100%|██████████| 3/3 [00:02<00:00,  1.30it/s]"
          ]
        },
        {
          "name": "stdout",
          "output_type": "stream",
          "text": [
            "                   all         77       2624      0.678      0.401      0.413      0.143\n"
          ]
        },
        {
          "name": "stderr",
          "output_type": "stream",
          "text": [
            "\n"
          ]
        },
        {
          "name": "stdout",
          "output_type": "stream",
          "text": [
            "\n",
            "      Epoch    GPU_mem   box_loss   cls_loss   dfl_loss  Instances       Size\n"
          ]
        },
        {
          "name": "stderr",
          "output_type": "stream",
          "text": [
            "    110/500      14.1G      1.973      1.078      1.091        142        640: 100%|██████████| 44/44 [00:35<00:00,  1.24it/s]\n",
            "                 Class     Images  Instances      Box(P          R      mAP50  mAP50-95): 100%|██████████| 3/3 [00:02<00:00,  1.28it/s]"
          ]
        },
        {
          "name": "stdout",
          "output_type": "stream",
          "text": [
            "                   all         77       2624      0.668      0.415      0.423      0.148\n"
          ]
        },
        {
          "name": "stderr",
          "output_type": "stream",
          "text": [
            "\n"
          ]
        },
        {
          "name": "stdout",
          "output_type": "stream",
          "text": [
            "\n",
            "      Epoch    GPU_mem   box_loss   cls_loss   dfl_loss  Instances       Size\n"
          ]
        },
        {
          "name": "stderr",
          "output_type": "stream",
          "text": [
            "    111/500      14.9G      1.952      1.065      1.085         58        640: 100%|██████████| 44/44 [00:34<00:00,  1.26it/s]\n",
            "                 Class     Images  Instances      Box(P          R      mAP50  mAP50-95): 100%|██████████| 3/3 [00:02<00:00,  1.31it/s]"
          ]
        },
        {
          "name": "stdout",
          "output_type": "stream",
          "text": [
            "                   all         77       2624      0.699      0.409      0.434      0.153\n"
          ]
        },
        {
          "name": "stderr",
          "output_type": "stream",
          "text": [
            "\n"
          ]
        },
        {
          "name": "stdout",
          "output_type": "stream",
          "text": [
            "\n",
            "      Epoch    GPU_mem   box_loss   cls_loss   dfl_loss  Instances       Size\n"
          ]
        },
        {
          "name": "stderr",
          "output_type": "stream",
          "text": [
            "    112/500      14.8G      1.981      1.075      1.082        274        640: 100%|██████████| 44/44 [00:35<00:00,  1.25it/s]\n",
            "                 Class     Images  Instances      Box(P          R      mAP50  mAP50-95): 100%|██████████| 3/3 [00:02<00:00,  1.32it/s]"
          ]
        },
        {
          "name": "stdout",
          "output_type": "stream",
          "text": [
            "                   all         77       2624      0.667      0.421      0.431       0.15\n"
          ]
        },
        {
          "name": "stderr",
          "output_type": "stream",
          "text": [
            "\n"
          ]
        },
        {
          "name": "stdout",
          "output_type": "stream",
          "text": [
            "\n",
            "      Epoch    GPU_mem   box_loss   cls_loss   dfl_loss  Instances       Size\n"
          ]
        },
        {
          "name": "stderr",
          "output_type": "stream",
          "text": [
            "    113/500      13.6G      1.961      1.079       1.09        132        640: 100%|██████████| 44/44 [00:35<00:00,  1.24it/s]\n",
            "                 Class     Images  Instances      Box(P          R      mAP50  mAP50-95): 100%|██████████| 3/3 [00:02<00:00,  1.31it/s]"
          ]
        },
        {
          "name": "stdout",
          "output_type": "stream",
          "text": [
            "                   all         77       2624      0.693      0.419      0.436      0.148\n"
          ]
        },
        {
          "name": "stderr",
          "output_type": "stream",
          "text": [
            "\n"
          ]
        },
        {
          "name": "stdout",
          "output_type": "stream",
          "text": [
            "\n",
            "      Epoch    GPU_mem   box_loss   cls_loss   dfl_loss  Instances       Size\n"
          ]
        },
        {
          "name": "stderr",
          "output_type": "stream",
          "text": [
            "    114/500      14.1G      1.984      1.083      1.082        173        640: 100%|██████████| 44/44 [00:34<00:00,  1.26it/s]\n",
            "                 Class     Images  Instances      Box(P          R      mAP50  mAP50-95): 100%|██████████| 3/3 [00:02<00:00,  1.29it/s]"
          ]
        },
        {
          "name": "stdout",
          "output_type": "stream",
          "text": [
            "                   all         77       2624       0.66      0.416      0.432      0.152\n"
          ]
        },
        {
          "name": "stderr",
          "output_type": "stream",
          "text": [
            "\n"
          ]
        },
        {
          "name": "stdout",
          "output_type": "stream",
          "text": [
            "\n",
            "      Epoch    GPU_mem   box_loss   cls_loss   dfl_loss  Instances       Size\n"
          ]
        },
        {
          "name": "stderr",
          "output_type": "stream",
          "text": [
            "    115/500      14.6G      2.012      1.104      1.094        220        640: 100%|██████████| 44/44 [00:35<00:00,  1.24it/s]\n",
            "                 Class     Images  Instances      Box(P          R      mAP50  mAP50-95): 100%|██████████| 3/3 [00:02<00:00,  1.33it/s]"
          ]
        },
        {
          "name": "stdout",
          "output_type": "stream",
          "text": [
            "                   all         77       2624       0.67      0.403       0.42      0.148\n"
          ]
        },
        {
          "name": "stderr",
          "output_type": "stream",
          "text": [
            "\n"
          ]
        },
        {
          "name": "stdout",
          "output_type": "stream",
          "text": [
            "\n",
            "      Epoch    GPU_mem   box_loss   cls_loss   dfl_loss  Instances       Size\n"
          ]
        },
        {
          "name": "stderr",
          "output_type": "stream",
          "text": [
            "    116/500      14.1G      1.968      1.098      1.092         84        640: 100%|██████████| 44/44 [00:35<00:00,  1.24it/s]\n",
            "                 Class     Images  Instances      Box(P          R      mAP50  mAP50-95): 100%|██████████| 3/3 [00:02<00:00,  1.35it/s]"
          ]
        },
        {
          "name": "stdout",
          "output_type": "stream",
          "text": [
            "                   all         77       2624      0.677      0.416      0.434      0.149\n"
          ]
        },
        {
          "name": "stderr",
          "output_type": "stream",
          "text": [
            "\n"
          ]
        },
        {
          "name": "stdout",
          "output_type": "stream",
          "text": [
            "\n",
            "      Epoch    GPU_mem   box_loss   cls_loss   dfl_loss  Instances       Size\n"
          ]
        },
        {
          "name": "stderr",
          "output_type": "stream",
          "text": [
            "    117/500      13.3G      1.968      1.082      1.105        116        640: 100%|██████████| 44/44 [00:35<00:00,  1.25it/s]\n",
            "                 Class     Images  Instances      Box(P          R      mAP50  mAP50-95): 100%|██████████| 3/3 [00:02<00:00,  1.32it/s]"
          ]
        },
        {
          "name": "stdout",
          "output_type": "stream",
          "text": [
            "                   all         77       2624      0.671      0.424      0.437      0.154\n"
          ]
        },
        {
          "name": "stderr",
          "output_type": "stream",
          "text": [
            "\n"
          ]
        },
        {
          "name": "stdout",
          "output_type": "stream",
          "text": [
            "\n",
            "      Epoch    GPU_mem   box_loss   cls_loss   dfl_loss  Instances       Size\n"
          ]
        },
        {
          "name": "stderr",
          "output_type": "stream",
          "text": [
            "    118/500      13.1G      1.947      1.061      1.079        198        640: 100%|██████████| 44/44 [00:34<00:00,  1.26it/s]\n",
            "                 Class     Images  Instances      Box(P          R      mAP50  mAP50-95): 100%|██████████| 3/3 [00:02<00:00,  1.24it/s]"
          ]
        },
        {
          "name": "stdout",
          "output_type": "stream",
          "text": [
            "                   all         77       2624      0.674      0.424      0.442      0.152\n"
          ]
        },
        {
          "name": "stderr",
          "output_type": "stream",
          "text": [
            "\n"
          ]
        },
        {
          "name": "stdout",
          "output_type": "stream",
          "text": [
            "\n",
            "      Epoch    GPU_mem   box_loss   cls_loss   dfl_loss  Instances       Size\n"
          ]
        },
        {
          "name": "stderr",
          "output_type": "stream",
          "text": [
            "    119/500        15G      1.936      1.047      1.075        191        640: 100%|██████████| 44/44 [00:35<00:00,  1.24it/s]\n",
            "                 Class     Images  Instances      Box(P          R      mAP50  mAP50-95): 100%|██████████| 3/3 [00:02<00:00,  1.25it/s]"
          ]
        },
        {
          "name": "stdout",
          "output_type": "stream",
          "text": [
            "                   all         77       2624      0.678       0.42       0.43      0.149\n"
          ]
        },
        {
          "name": "stderr",
          "output_type": "stream",
          "text": [
            "\n"
          ]
        },
        {
          "name": "stdout",
          "output_type": "stream",
          "text": [
            "\n",
            "      Epoch    GPU_mem   box_loss   cls_loss   dfl_loss  Instances       Size\n"
          ]
        },
        {
          "name": "stderr",
          "output_type": "stream",
          "text": [
            "    120/500      11.8G      1.924       1.05      1.076        273        640: 100%|██████████| 44/44 [00:34<00:00,  1.26it/s]\n",
            "                 Class     Images  Instances      Box(P          R      mAP50  mAP50-95): 100%|██████████| 3/3 [00:02<00:00,  1.33it/s]"
          ]
        },
        {
          "name": "stdout",
          "output_type": "stream",
          "text": [
            "                   all         77       2624      0.698      0.418      0.443      0.153\n"
          ]
        },
        {
          "name": "stderr",
          "output_type": "stream",
          "text": [
            "\n"
          ]
        },
        {
          "name": "stdout",
          "output_type": "stream",
          "text": [
            "\n",
            "      Epoch    GPU_mem   box_loss   cls_loss   dfl_loss  Instances       Size\n"
          ]
        },
        {
          "name": "stderr",
          "output_type": "stream",
          "text": [
            "    121/500      13.5G      1.929      1.064      1.077        212        640: 100%|██████████| 44/44 [00:34<00:00,  1.26it/s]\n",
            "                 Class     Images  Instances      Box(P          R      mAP50  mAP50-95): 100%|██████████| 3/3 [00:02<00:00,  1.23it/s]"
          ]
        },
        {
          "name": "stdout",
          "output_type": "stream",
          "text": [
            "                   all         77       2624      0.694      0.407      0.436      0.149\n"
          ]
        },
        {
          "name": "stderr",
          "output_type": "stream",
          "text": [
            "\n"
          ]
        },
        {
          "name": "stdout",
          "output_type": "stream",
          "text": [
            "\n",
            "      Epoch    GPU_mem   box_loss   cls_loss   dfl_loss  Instances       Size\n"
          ]
        },
        {
          "name": "stderr",
          "output_type": "stream",
          "text": [
            "    122/500      15.2G      1.889       1.02      1.067         97        640: 100%|██████████| 44/44 [00:35<00:00,  1.24it/s]\n",
            "                 Class     Images  Instances      Box(P          R      mAP50  mAP50-95): 100%|██████████| 3/3 [00:02<00:00,  1.21it/s]"
          ]
        },
        {
          "name": "stdout",
          "output_type": "stream",
          "text": [
            "                   all         77       2624      0.669      0.412      0.423       0.15\n"
          ]
        },
        {
          "name": "stderr",
          "output_type": "stream",
          "text": [
            "\n"
          ]
        },
        {
          "name": "stdout",
          "output_type": "stream",
          "text": [
            "\n",
            "      Epoch    GPU_mem   box_loss   cls_loss   dfl_loss  Instances       Size\n"
          ]
        },
        {
          "name": "stderr",
          "output_type": "stream",
          "text": [
            "    123/500      11.9G      1.949      1.059      1.086        286        640: 100%|██████████| 44/44 [00:35<00:00,  1.25it/s]\n",
            "                 Class     Images  Instances      Box(P          R      mAP50  mAP50-95): 100%|██████████| 3/3 [00:02<00:00,  1.32it/s]"
          ]
        },
        {
          "name": "stdout",
          "output_type": "stream",
          "text": [
            "                   all         77       2624      0.696      0.417       0.44      0.153\n"
          ]
        },
        {
          "name": "stderr",
          "output_type": "stream",
          "text": [
            "\n"
          ]
        },
        {
          "name": "stdout",
          "output_type": "stream",
          "text": [
            "\n",
            "      Epoch    GPU_mem   box_loss   cls_loss   dfl_loss  Instances       Size\n"
          ]
        },
        {
          "name": "stderr",
          "output_type": "stream",
          "text": [
            "    124/500      13.6G      1.923      1.052      1.092        171        640: 100%|██████████| 44/44 [00:34<00:00,  1.26it/s]\n",
            "                 Class     Images  Instances      Box(P          R      mAP50  mAP50-95): 100%|██████████| 3/3 [00:02<00:00,  1.29it/s]"
          ]
        },
        {
          "name": "stdout",
          "output_type": "stream",
          "text": [
            "                   all         77       2624      0.668      0.418      0.427      0.147\n"
          ]
        },
        {
          "name": "stderr",
          "output_type": "stream",
          "text": [
            "\n"
          ]
        },
        {
          "name": "stdout",
          "output_type": "stream",
          "text": [
            "\n",
            "      Epoch    GPU_mem   box_loss   cls_loss   dfl_loss  Instances       Size\n"
          ]
        },
        {
          "name": "stderr",
          "output_type": "stream",
          "text": [
            "    125/500        12G       1.92      1.049      1.091        118        640: 100%|██████████| 44/44 [00:35<00:00,  1.25it/s]\n",
            "                 Class     Images  Instances      Box(P          R      mAP50  mAP50-95): 100%|██████████| 3/3 [00:02<00:00,  1.33it/s]"
          ]
        },
        {
          "name": "stdout",
          "output_type": "stream",
          "text": [
            "                   all         77       2624      0.675       0.41      0.428      0.149\n"
          ]
        },
        {
          "name": "stderr",
          "output_type": "stream",
          "text": [
            "\n"
          ]
        },
        {
          "name": "stdout",
          "output_type": "stream",
          "text": [
            "\n",
            "      Epoch    GPU_mem   box_loss   cls_loss   dfl_loss  Instances       Size\n"
          ]
        },
        {
          "name": "stderr",
          "output_type": "stream",
          "text": [
            "    126/500        14G      1.942      1.045       1.08        194        640: 100%|██████████| 44/44 [00:35<00:00,  1.25it/s]\n",
            "                 Class     Images  Instances      Box(P          R      mAP50  mAP50-95): 100%|██████████| 3/3 [00:02<00:00,  1.29it/s]"
          ]
        },
        {
          "name": "stdout",
          "output_type": "stream",
          "text": [
            "                   all         77       2624      0.687       0.43      0.442      0.152\n"
          ]
        },
        {
          "name": "stderr",
          "output_type": "stream",
          "text": [
            "\n"
          ]
        },
        {
          "name": "stdout",
          "output_type": "stream",
          "text": [
            "\n",
            "      Epoch    GPU_mem   box_loss   cls_loss   dfl_loss  Instances       Size\n"
          ]
        },
        {
          "name": "stderr",
          "output_type": "stream",
          "text": [
            "    127/500      15.4G      1.904      1.031      1.076        301        640: 100%|██████████| 44/44 [00:34<00:00,  1.26it/s]\n",
            "                 Class     Images  Instances      Box(P          R      mAP50  mAP50-95): 100%|██████████| 3/3 [00:02<00:00,  1.23it/s]"
          ]
        },
        {
          "name": "stdout",
          "output_type": "stream",
          "text": [
            "                   all         77       2624      0.688      0.421      0.434      0.152\n"
          ]
        },
        {
          "name": "stderr",
          "output_type": "stream",
          "text": [
            "\n"
          ]
        },
        {
          "name": "stdout",
          "output_type": "stream",
          "text": [
            "\n",
            "      Epoch    GPU_mem   box_loss   cls_loss   dfl_loss  Instances       Size\n"
          ]
        },
        {
          "name": "stderr",
          "output_type": "stream",
          "text": [
            "    128/500      15.1G      1.909      1.044      1.083        179        640: 100%|██████████| 44/44 [00:35<00:00,  1.26it/s]\n",
            "                 Class     Images  Instances      Box(P          R      mAP50  mAP50-95): 100%|██████████| 3/3 [00:02<00:00,  1.31it/s]"
          ]
        },
        {
          "name": "stdout",
          "output_type": "stream",
          "text": [
            "                   all         77       2624      0.684      0.418      0.431      0.151\n"
          ]
        },
        {
          "name": "stderr",
          "output_type": "stream",
          "text": [
            "\n"
          ]
        },
        {
          "name": "stdout",
          "output_type": "stream",
          "text": [
            "\n",
            "      Epoch    GPU_mem   box_loss   cls_loss   dfl_loss  Instances       Size\n"
          ]
        },
        {
          "name": "stderr",
          "output_type": "stream",
          "text": [
            "    129/500      13.9G       1.89      1.033      1.069        147        640: 100%|██████████| 44/44 [00:35<00:00,  1.24it/s]\n",
            "                 Class     Images  Instances      Box(P          R      mAP50  mAP50-95): 100%|██████████| 3/3 [00:02<00:00,  1.32it/s]"
          ]
        },
        {
          "name": "stdout",
          "output_type": "stream",
          "text": [
            "                   all         77       2624      0.678      0.424      0.426      0.144\n"
          ]
        },
        {
          "name": "stderr",
          "output_type": "stream",
          "text": [
            "\n"
          ]
        },
        {
          "name": "stdout",
          "output_type": "stream",
          "text": [
            "\n",
            "      Epoch    GPU_mem   box_loss   cls_loss   dfl_loss  Instances       Size\n"
          ]
        },
        {
          "name": "stderr",
          "output_type": "stream",
          "text": [
            "    130/500      13.5G      1.904      1.033      1.073        158        640: 100%|██████████| 44/44 [00:34<00:00,  1.26it/s]\n",
            "                 Class     Images  Instances      Box(P          R      mAP50  mAP50-95): 100%|██████████| 3/3 [00:02<00:00,  1.29it/s]"
          ]
        },
        {
          "name": "stdout",
          "output_type": "stream",
          "text": [
            "                   all         77       2624      0.695      0.413      0.436      0.153\n"
          ]
        },
        {
          "name": "stderr",
          "output_type": "stream",
          "text": [
            "\n"
          ]
        },
        {
          "name": "stdout",
          "output_type": "stream",
          "text": [
            "\n",
            "      Epoch    GPU_mem   box_loss   cls_loss   dfl_loss  Instances       Size\n"
          ]
        },
        {
          "name": "stderr",
          "output_type": "stream",
          "text": [
            "    131/500        15G      1.895      1.017       1.06        214        640: 100%|██████████| 44/44 [00:35<00:00,  1.25it/s]\n",
            "                 Class     Images  Instances      Box(P          R      mAP50  mAP50-95): 100%|██████████| 3/3 [00:02<00:00,  1.25it/s]"
          ]
        },
        {
          "name": "stdout",
          "output_type": "stream",
          "text": [
            "                   all         77       2624      0.679      0.429      0.443      0.155\n"
          ]
        },
        {
          "name": "stderr",
          "output_type": "stream",
          "text": [
            "\n"
          ]
        },
        {
          "name": "stdout",
          "output_type": "stream",
          "text": [
            "\n",
            "      Epoch    GPU_mem   box_loss   cls_loss   dfl_loss  Instances       Size\n"
          ]
        },
        {
          "name": "stderr",
          "output_type": "stream",
          "text": [
            "    132/500      14.8G      1.933      1.034      1.079        222        640: 100%|██████████| 44/44 [00:35<00:00,  1.26it/s]\n",
            "                 Class     Images  Instances      Box(P          R      mAP50  mAP50-95): 100%|██████████| 3/3 [00:02<00:00,  1.32it/s]"
          ]
        },
        {
          "name": "stdout",
          "output_type": "stream",
          "text": [
            "                   all         77       2624      0.719      0.415      0.434      0.151\n"
          ]
        },
        {
          "name": "stderr",
          "output_type": "stream",
          "text": [
            "\n"
          ]
        },
        {
          "name": "stdout",
          "output_type": "stream",
          "text": [
            "\n",
            "      Epoch    GPU_mem   box_loss   cls_loss   dfl_loss  Instances       Size\n"
          ]
        },
        {
          "name": "stderr",
          "output_type": "stream",
          "text": [
            "    133/500      12.3G      1.892      1.002      1.076        172        640: 100%|██████████| 44/44 [00:35<00:00,  1.23it/s]\n",
            "                 Class     Images  Instances      Box(P          R      mAP50  mAP50-95): 100%|██████████| 3/3 [00:02<00:00,  1.33it/s]"
          ]
        },
        {
          "name": "stdout",
          "output_type": "stream",
          "text": [
            "                   all         77       2624      0.696       0.42      0.434      0.153\n"
          ]
        },
        {
          "name": "stderr",
          "output_type": "stream",
          "text": [
            "\n"
          ]
        },
        {
          "name": "stdout",
          "output_type": "stream",
          "text": [
            "\n",
            "      Epoch    GPU_mem   box_loss   cls_loss   dfl_loss  Instances       Size\n"
          ]
        },
        {
          "name": "stderr",
          "output_type": "stream",
          "text": [
            "    134/500      13.7G      1.863      1.012      1.065        145        640: 100%|██████████| 44/44 [00:35<00:00,  1.26it/s]\n",
            "                 Class     Images  Instances      Box(P          R      mAP50  mAP50-95): 100%|██████████| 3/3 [00:02<00:00,  1.33it/s]"
          ]
        },
        {
          "name": "stdout",
          "output_type": "stream",
          "text": [
            "                   all         77       2624      0.686      0.407      0.434      0.153\n"
          ]
        },
        {
          "name": "stderr",
          "output_type": "stream",
          "text": [
            "\n"
          ]
        },
        {
          "name": "stdout",
          "output_type": "stream",
          "text": [
            "\n",
            "      Epoch    GPU_mem   box_loss   cls_loss   dfl_loss  Instances       Size\n"
          ]
        },
        {
          "name": "stderr",
          "output_type": "stream",
          "text": [
            "    135/500      14.6G      1.893      1.002      1.066        308        640: 100%|██████████| 44/44 [00:35<00:00,  1.25it/s]\n",
            "                 Class     Images  Instances      Box(P          R      mAP50  mAP50-95): 100%|██████████| 3/3 [00:02<00:00,  1.14it/s]"
          ]
        },
        {
          "name": "stdout",
          "output_type": "stream",
          "text": [
            "                   all         77       2624       0.67      0.413      0.425      0.147\n"
          ]
        },
        {
          "name": "stderr",
          "output_type": "stream",
          "text": [
            "\n"
          ]
        },
        {
          "name": "stdout",
          "output_type": "stream",
          "text": [
            "\n",
            "      Epoch    GPU_mem   box_loss   cls_loss   dfl_loss  Instances       Size\n"
          ]
        },
        {
          "name": "stderr",
          "output_type": "stream",
          "text": [
            "    136/500      13.1G      1.893       1.02      1.058        181        640: 100%|██████████| 44/44 [00:35<00:00,  1.24it/s]\n",
            "                 Class     Images  Instances      Box(P          R      mAP50  mAP50-95): 100%|██████████| 3/3 [00:02<00:00,  1.32it/s]"
          ]
        },
        {
          "name": "stdout",
          "output_type": "stream",
          "text": [
            "                   all         77       2624      0.665      0.422      0.433      0.149\n"
          ]
        },
        {
          "name": "stderr",
          "output_type": "stream",
          "text": [
            "\n"
          ]
        },
        {
          "name": "stdout",
          "output_type": "stream",
          "text": [
            "\n",
            "      Epoch    GPU_mem   box_loss   cls_loss   dfl_loss  Instances       Size\n"
          ]
        },
        {
          "name": "stderr",
          "output_type": "stream",
          "text": [
            "    137/500      14.3G      1.877      1.008      1.066        144        640: 100%|██████████| 44/44 [00:34<00:00,  1.26it/s]\n",
            "                 Class     Images  Instances      Box(P          R      mAP50  mAP50-95): 100%|██████████| 3/3 [00:02<00:00,  1.33it/s]"
          ]
        },
        {
          "name": "stdout",
          "output_type": "stream",
          "text": [
            "                   all         77       2624      0.681      0.424       0.44       0.15\n"
          ]
        },
        {
          "name": "stderr",
          "output_type": "stream",
          "text": [
            "\n"
          ]
        },
        {
          "name": "stdout",
          "output_type": "stream",
          "text": [
            "\n",
            "      Epoch    GPU_mem   box_loss   cls_loss   dfl_loss  Instances       Size\n"
          ]
        },
        {
          "name": "stderr",
          "output_type": "stream",
          "text": [
            "    138/500      13.5G      1.878      1.015      1.082        100        640: 100%|██████████| 44/44 [00:35<00:00,  1.25it/s]\n",
            "                 Class     Images  Instances      Box(P          R      mAP50  mAP50-95): 100%|██████████| 3/3 [00:02<00:00,  1.31it/s]"
          ]
        },
        {
          "name": "stdout",
          "output_type": "stream",
          "text": [
            "                   all         77       2624      0.665      0.423      0.426      0.149\n"
          ]
        },
        {
          "name": "stderr",
          "output_type": "stream",
          "text": [
            "\n"
          ]
        },
        {
          "name": "stdout",
          "output_type": "stream",
          "text": [
            "\n",
            "      Epoch    GPU_mem   box_loss   cls_loss   dfl_loss  Instances       Size\n"
          ]
        },
        {
          "name": "stderr",
          "output_type": "stream",
          "text": [
            "    139/500      14.6G      1.847      1.005      1.068         87        640: 100%|██████████| 44/44 [00:35<00:00,  1.25it/s]\n",
            "                 Class     Images  Instances      Box(P          R      mAP50  mAP50-95): 100%|██████████| 3/3 [00:02<00:00,  1.33it/s]"
          ]
        },
        {
          "name": "stdout",
          "output_type": "stream",
          "text": [
            "                   all         77       2624       0.65      0.429      0.435      0.148\n"
          ]
        },
        {
          "name": "stderr",
          "output_type": "stream",
          "text": [
            "\n"
          ]
        },
        {
          "name": "stdout",
          "output_type": "stream",
          "text": [
            "\n",
            "      Epoch    GPU_mem   box_loss   cls_loss   dfl_loss  Instances       Size\n"
          ]
        },
        {
          "name": "stderr",
          "output_type": "stream",
          "text": [
            "    140/500      14.6G      1.848     0.9951      1.054        131        640: 100%|██████████| 44/44 [00:35<00:00,  1.25it/s]\n",
            "                 Class     Images  Instances      Box(P          R      mAP50  mAP50-95): 100%|██████████| 3/3 [00:02<00:00,  1.30it/s]"
          ]
        },
        {
          "name": "stdout",
          "output_type": "stream",
          "text": [
            "                   all         77       2624      0.683       0.41      0.429      0.148\n"
          ]
        },
        {
          "name": "stderr",
          "output_type": "stream",
          "text": [
            "\n"
          ]
        },
        {
          "name": "stdout",
          "output_type": "stream",
          "text": [
            "\n",
            "      Epoch    GPU_mem   box_loss   cls_loss   dfl_loss  Instances       Size\n"
          ]
        },
        {
          "name": "stderr",
          "output_type": "stream",
          "text": [
            "    141/500      14.2G      1.836     0.9794      1.059         70        640: 100%|██████████| 44/44 [00:34<00:00,  1.27it/s]\n",
            "                 Class     Images  Instances      Box(P          R      mAP50  mAP50-95): 100%|██████████| 3/3 [00:02<00:00,  1.20it/s]"
          ]
        },
        {
          "name": "stdout",
          "output_type": "stream",
          "text": [
            "                   all         77       2624      0.684      0.443      0.447      0.153\n"
          ]
        },
        {
          "name": "stderr",
          "output_type": "stream",
          "text": [
            "\n"
          ]
        },
        {
          "name": "stdout",
          "output_type": "stream",
          "text": [
            "\n",
            "      Epoch    GPU_mem   box_loss   cls_loss   dfl_loss  Instances       Size\n"
          ]
        },
        {
          "name": "stderr",
          "output_type": "stream",
          "text": [
            "    142/500        14G      1.839      0.982      1.057        214        640: 100%|██████████| 44/44 [00:35<00:00,  1.25it/s]\n",
            "                 Class     Images  Instances      Box(P          R      mAP50  mAP50-95): 100%|██████████| 3/3 [00:02<00:00,  1.19it/s]"
          ]
        },
        {
          "name": "stdout",
          "output_type": "stream",
          "text": [
            "                   all         77       2624      0.652      0.433       0.44      0.149\n"
          ]
        },
        {
          "name": "stderr",
          "output_type": "stream",
          "text": [
            "\n"
          ]
        },
        {
          "name": "stdout",
          "output_type": "stream",
          "text": [
            "\n",
            "      Epoch    GPU_mem   box_loss   cls_loss   dfl_loss  Instances       Size\n"
          ]
        },
        {
          "name": "stderr",
          "output_type": "stream",
          "text": [
            "    143/500      14.1G      1.831     0.9749      1.047        172        640: 100%|██████████| 44/44 [00:34<00:00,  1.27it/s]\n",
            "                 Class     Images  Instances      Box(P          R      mAP50  mAP50-95): 100%|██████████| 3/3 [00:02<00:00,  1.24it/s]"
          ]
        },
        {
          "name": "stdout",
          "output_type": "stream",
          "text": [
            "                   all         77       2624       0.69      0.427      0.439      0.148\n"
          ]
        },
        {
          "name": "stderr",
          "output_type": "stream",
          "text": [
            "\n"
          ]
        },
        {
          "name": "stdout",
          "output_type": "stream",
          "text": [
            "\n",
            "      Epoch    GPU_mem   box_loss   cls_loss   dfl_loss  Instances       Size\n"
          ]
        },
        {
          "name": "stderr",
          "output_type": "stream",
          "text": [
            "    144/500      14.8G      1.836     0.9813       1.05        184        640: 100%|██████████| 44/44 [00:35<00:00,  1.25it/s]\n",
            "                 Class     Images  Instances      Box(P          R      mAP50  mAP50-95): 100%|██████████| 3/3 [00:02<00:00,  1.31it/s]"
          ]
        },
        {
          "name": "stdout",
          "output_type": "stream",
          "text": [
            "                   all         77       2624      0.689      0.416      0.431      0.149\n"
          ]
        },
        {
          "name": "stderr",
          "output_type": "stream",
          "text": [
            "\n"
          ]
        },
        {
          "name": "stdout",
          "output_type": "stream",
          "text": [
            "\n",
            "      Epoch    GPU_mem   box_loss   cls_loss   dfl_loss  Instances       Size\n"
          ]
        },
        {
          "name": "stderr",
          "output_type": "stream",
          "text": [
            "    145/500      12.1G      1.814     0.9642      1.055        209        640: 100%|██████████| 44/44 [00:35<00:00,  1.23it/s]\n",
            "                 Class     Images  Instances      Box(P          R      mAP50  mAP50-95): 100%|██████████| 3/3 [00:02<00:00,  1.32it/s]"
          ]
        },
        {
          "name": "stdout",
          "output_type": "stream",
          "text": [
            "                   all         77       2624      0.688      0.425      0.438      0.151\n"
          ]
        },
        {
          "name": "stderr",
          "output_type": "stream",
          "text": [
            "\n"
          ]
        },
        {
          "name": "stdout",
          "output_type": "stream",
          "text": [
            "\n",
            "      Epoch    GPU_mem   box_loss   cls_loss   dfl_loss  Instances       Size\n"
          ]
        },
        {
          "name": "stderr",
          "output_type": "stream",
          "text": [
            "    146/500      12.3G      1.834     0.9754      1.057        116        640: 100%|██████████| 44/44 [00:34<00:00,  1.26it/s]\n",
            "                 Class     Images  Instances      Box(P          R      mAP50  mAP50-95): 100%|██████████| 3/3 [00:02<00:00,  1.33it/s]"
          ]
        },
        {
          "name": "stdout",
          "output_type": "stream",
          "text": [
            "                   all         77       2624      0.686      0.434      0.446      0.155\n"
          ]
        },
        {
          "name": "stderr",
          "output_type": "stream",
          "text": [
            "\n"
          ]
        },
        {
          "name": "stdout",
          "output_type": "stream",
          "text": [
            "\n",
            "      Epoch    GPU_mem   box_loss   cls_loss   dfl_loss  Instances       Size\n"
          ]
        },
        {
          "name": "stderr",
          "output_type": "stream",
          "text": [
            "    147/500      12.4G        1.8     0.9534      1.045        192        640: 100%|██████████| 44/44 [00:35<00:00,  1.25it/s]\n",
            "                 Class     Images  Instances      Box(P          R      mAP50  mAP50-95): 100%|██████████| 3/3 [00:02<00:00,  1.34it/s]"
          ]
        },
        {
          "name": "stdout",
          "output_type": "stream",
          "text": [
            "                   all         77       2624      0.711      0.423      0.447      0.153\n",
            "Stopping training early as no improvement observed in last 50 epochs. Best results observed at epoch 97, best model saved as best.pt.\n",
            "To update EarlyStopping(patience=50) pass a new patience value, i.e. `patience=300` or use `patience=0` to disable EarlyStopping.\n"
          ]
        },
        {
          "name": "stderr",
          "output_type": "stream",
          "text": [
            "\n"
          ]
        },
        {
          "name": "stdout",
          "output_type": "stream",
          "text": [
            "\n",
            "147 epochs completed in 1.659 hours.\n",
            "Optimizer stripped from runs/detect/train3/weights/last.pt, 50.7MB\n",
            "Optimizer stripped from runs/detect/train3/weights/best.pt, 50.6MB\n",
            "\n",
            "Validating runs/detect/train3/weights/best.pt...\n",
            "Ultralytics YOLOv8.1.8 🚀 Python-3.10.12 torch-2.1.0+cu121 CUDA:0 (Tesla T4, 15102MiB)\n",
            "YOLOv8m-p2 summary (fused): 267 layers, 25034292 parameters, 0 gradients, 97.9 GFLOPs\n"
          ]
        },
        {
          "name": "stderr",
          "output_type": "stream",
          "text": [
            "                 Class     Images  Instances      Box(P          R      mAP50  mAP50-95): 100%|██████████| 3/3 [00:03<00:00,  1.18s/it]\n"
          ]
        },
        {
          "name": "stdout",
          "output_type": "stream",
          "text": [
            "                   all         77       2624      0.687      0.432      0.447      0.156\n",
            "Speed: 0.3ms preprocess, 19.3ms inference, 0.0ms loss, 3.0ms postprocess per image\n",
            "Results saved to \u001b[1mruns/detect/train3\u001b[0m\n"
          ]
        },
        {
          "data": {
            "text/plain": [
              "ultralytics.utils.metrics.DetMetrics object with attributes:\n",
              "\n",
              "ap_class_index: array([0])\n",
              "box: ultralytics.utils.metrics.Metric object\n",
              "confusion_matrix: <ultralytics.utils.metrics.ConfusionMatrix object at 0x780c80181990>\n",
              "curves: ['Precision-Recall(B)', 'F1-Confidence(B)', 'Precision-Confidence(B)', 'Recall-Confidence(B)']\n",
              "curves_results: [[array([          0,    0.001001,    0.002002,    0.003003,    0.004004,    0.005005,    0.006006,    0.007007,    0.008008,    0.009009,     0.01001,    0.011011,    0.012012,    0.013013,    0.014014,    0.015015,    0.016016,    0.017017,    0.018018,    0.019019,     0.02002,    0.021021,    0.022022,    0.023023,\n",
              "          0.024024,    0.025025,    0.026026,    0.027027,    0.028028,    0.029029,     0.03003,    0.031031,    0.032032,    0.033033,    0.034034,    0.035035,    0.036036,    0.037037,    0.038038,    0.039039,     0.04004,    0.041041,    0.042042,    0.043043,    0.044044,    0.045045,    0.046046,    0.047047,\n",
              "          0.048048,    0.049049,     0.05005,    0.051051,    0.052052,    0.053053,    0.054054,    0.055055,    0.056056,    0.057057,    0.058058,    0.059059,     0.06006,    0.061061,    0.062062,    0.063063,    0.064064,    0.065065,    0.066066,    0.067067,    0.068068,    0.069069,     0.07007,    0.071071,\n",
              "          0.072072,    0.073073,    0.074074,    0.075075,    0.076076,    0.077077,    0.078078,    0.079079,     0.08008,    0.081081,    0.082082,    0.083083,    0.084084,    0.085085,    0.086086,    0.087087,    0.088088,    0.089089,     0.09009,    0.091091,    0.092092,    0.093093,    0.094094,    0.095095,\n",
              "          0.096096,    0.097097,    0.098098,    0.099099,      0.1001,      0.1011,      0.1021,      0.1031,      0.1041,     0.10511,     0.10611,     0.10711,     0.10811,     0.10911,     0.11011,     0.11111,     0.11211,     0.11311,     0.11411,     0.11512,     0.11612,     0.11712,     0.11812,     0.11912,\n",
              "           0.12012,     0.12112,     0.12212,     0.12312,     0.12412,     0.12513,     0.12613,     0.12713,     0.12813,     0.12913,     0.13013,     0.13113,     0.13213,     0.13313,     0.13413,     0.13514,     0.13614,     0.13714,     0.13814,     0.13914,     0.14014,     0.14114,     0.14214,     0.14314,\n",
              "           0.14414,     0.14515,     0.14615,     0.14715,     0.14815,     0.14915,     0.15015,     0.15115,     0.15215,     0.15315,     0.15415,     0.15516,     0.15616,     0.15716,     0.15816,     0.15916,     0.16016,     0.16116,     0.16216,     0.16316,     0.16416,     0.16517,     0.16617,     0.16717,\n",
              "           0.16817,     0.16917,     0.17017,     0.17117,     0.17217,     0.17317,     0.17417,     0.17518,     0.17618,     0.17718,     0.17818,     0.17918,     0.18018,     0.18118,     0.18218,     0.18318,     0.18418,     0.18519,     0.18619,     0.18719,     0.18819,     0.18919,     0.19019,     0.19119,\n",
              "           0.19219,     0.19319,     0.19419,      0.1952,      0.1962,      0.1972,      0.1982,      0.1992,      0.2002,      0.2012,      0.2022,      0.2032,      0.2042,     0.20521,     0.20621,     0.20721,     0.20821,     0.20921,     0.21021,     0.21121,     0.21221,     0.21321,     0.21421,     0.21522,\n",
              "           0.21622,     0.21722,     0.21822,     0.21922,     0.22022,     0.22122,     0.22222,     0.22322,     0.22422,     0.22523,     0.22623,     0.22723,     0.22823,     0.22923,     0.23023,     0.23123,     0.23223,     0.23323,     0.23423,     0.23524,     0.23624,     0.23724,     0.23824,     0.23924,\n",
              "           0.24024,     0.24124,     0.24224,     0.24324,     0.24424,     0.24525,     0.24625,     0.24725,     0.24825,     0.24925,     0.25025,     0.25125,     0.25225,     0.25325,     0.25425,     0.25526,     0.25626,     0.25726,     0.25826,     0.25926,     0.26026,     0.26126,     0.26226,     0.26326,\n",
              "           0.26426,     0.26527,     0.26627,     0.26727,     0.26827,     0.26927,     0.27027,     0.27127,     0.27227,     0.27327,     0.27427,     0.27528,     0.27628,     0.27728,     0.27828,     0.27928,     0.28028,     0.28128,     0.28228,     0.28328,     0.28428,     0.28529,     0.28629,     0.28729,\n",
              "           0.28829,     0.28929,     0.29029,     0.29129,     0.29229,     0.29329,     0.29429,      0.2953,      0.2963,      0.2973,      0.2983,      0.2993,      0.3003,      0.3013,      0.3023,      0.3033,      0.3043,     0.30531,     0.30631,     0.30731,     0.30831,     0.30931,     0.31031,     0.31131,\n",
              "           0.31231,     0.31331,     0.31431,     0.31532,     0.31632,     0.31732,     0.31832,     0.31932,     0.32032,     0.32132,     0.32232,     0.32332,     0.32432,     0.32533,     0.32633,     0.32733,     0.32833,     0.32933,     0.33033,     0.33133,     0.33233,     0.33333,     0.33433,     0.33534,\n",
              "           0.33634,     0.33734,     0.33834,     0.33934,     0.34034,     0.34134,     0.34234,     0.34334,     0.34434,     0.34535,     0.34635,     0.34735,     0.34835,     0.34935,     0.35035,     0.35135,     0.35235,     0.35335,     0.35435,     0.35536,     0.35636,     0.35736,     0.35836,     0.35936,\n",
              "           0.36036,     0.36136,     0.36236,     0.36336,     0.36436,     0.36537,     0.36637,     0.36737,     0.36837,     0.36937,     0.37037,     0.37137,     0.37237,     0.37337,     0.37437,     0.37538,     0.37638,     0.37738,     0.37838,     0.37938,     0.38038,     0.38138,     0.38238,     0.38338,\n",
              "           0.38438,     0.38539,     0.38639,     0.38739,     0.38839,     0.38939,     0.39039,     0.39139,     0.39239,     0.39339,     0.39439,      0.3954,      0.3964,      0.3974,      0.3984,      0.3994,      0.4004,      0.4014,      0.4024,      0.4034,      0.4044,     0.40541,     0.40641,     0.40741,\n",
              "           0.40841,     0.40941,     0.41041,     0.41141,     0.41241,     0.41341,     0.41441,     0.41542,     0.41642,     0.41742,     0.41842,     0.41942,     0.42042,     0.42142,     0.42242,     0.42342,     0.42442,     0.42543,     0.42643,     0.42743,     0.42843,     0.42943,     0.43043,     0.43143,\n",
              "           0.43243,     0.43343,     0.43443,     0.43544,     0.43644,     0.43744,     0.43844,     0.43944,     0.44044,     0.44144,     0.44244,     0.44344,     0.44444,     0.44545,     0.44645,     0.44745,     0.44845,     0.44945,     0.45045,     0.45145,     0.45245,     0.45345,     0.45445,     0.45546,\n",
              "           0.45646,     0.45746,     0.45846,     0.45946,     0.46046,     0.46146,     0.46246,     0.46346,     0.46446,     0.46547,     0.46647,     0.46747,     0.46847,     0.46947,     0.47047,     0.47147,     0.47247,     0.47347,     0.47447,     0.47548,     0.47648,     0.47748,     0.47848,     0.47948,\n",
              "           0.48048,     0.48148,     0.48248,     0.48348,     0.48448,     0.48549,     0.48649,     0.48749,     0.48849,     0.48949,     0.49049,     0.49149,     0.49249,     0.49349,     0.49449,      0.4955,      0.4965,      0.4975,      0.4985,      0.4995,      0.5005,      0.5015,      0.5025,      0.5035,\n",
              "            0.5045,     0.50551,     0.50651,     0.50751,     0.50851,     0.50951,     0.51051,     0.51151,     0.51251,     0.51351,     0.51451,     0.51552,     0.51652,     0.51752,     0.51852,     0.51952,     0.52052,     0.52152,     0.52252,     0.52352,     0.52452,     0.52553,     0.52653,     0.52753,\n",
              "           0.52853,     0.52953,     0.53053,     0.53153,     0.53253,     0.53353,     0.53453,     0.53554,     0.53654,     0.53754,     0.53854,     0.53954,     0.54054,     0.54154,     0.54254,     0.54354,     0.54454,     0.54555,     0.54655,     0.54755,     0.54855,     0.54955,     0.55055,     0.55155,\n",
              "           0.55255,     0.55355,     0.55455,     0.55556,     0.55656,     0.55756,     0.55856,     0.55956,     0.56056,     0.56156,     0.56256,     0.56356,     0.56456,     0.56557,     0.56657,     0.56757,     0.56857,     0.56957,     0.57057,     0.57157,     0.57257,     0.57357,     0.57457,     0.57558,\n",
              "           0.57658,     0.57758,     0.57858,     0.57958,     0.58058,     0.58158,     0.58258,     0.58358,     0.58458,     0.58559,     0.58659,     0.58759,     0.58859,     0.58959,     0.59059,     0.59159,     0.59259,     0.59359,     0.59459,      0.5956,      0.5966,      0.5976,      0.5986,      0.5996,\n",
              "            0.6006,      0.6016,      0.6026,      0.6036,      0.6046,     0.60561,     0.60661,     0.60761,     0.60861,     0.60961,     0.61061,     0.61161,     0.61261,     0.61361,     0.61461,     0.61562,     0.61662,     0.61762,     0.61862,     0.61962,     0.62062,     0.62162,     0.62262,     0.62362,\n",
              "           0.62462,     0.62563,     0.62663,     0.62763,     0.62863,     0.62963,     0.63063,     0.63163,     0.63263,     0.63363,     0.63463,     0.63564,     0.63664,     0.63764,     0.63864,     0.63964,     0.64064,     0.64164,     0.64264,     0.64364,     0.64464,     0.64565,     0.64665,     0.64765,\n",
              "           0.64865,     0.64965,     0.65065,     0.65165,     0.65265,     0.65365,     0.65465,     0.65566,     0.65666,     0.65766,     0.65866,     0.65966,     0.66066,     0.66166,     0.66266,     0.66366,     0.66466,     0.66567,     0.66667,     0.66767,     0.66867,     0.66967,     0.67067,     0.67167,\n",
              "           0.67267,     0.67367,     0.67467,     0.67568,     0.67668,     0.67768,     0.67868,     0.67968,     0.68068,     0.68168,     0.68268,     0.68368,     0.68468,     0.68569,     0.68669,     0.68769,     0.68869,     0.68969,     0.69069,     0.69169,     0.69269,     0.69369,     0.69469,      0.6957,\n",
              "            0.6967,      0.6977,      0.6987,      0.6997,      0.7007,      0.7017,      0.7027,      0.7037,      0.7047,     0.70571,     0.70671,     0.70771,     0.70871,     0.70971,     0.71071,     0.71171,     0.71271,     0.71371,     0.71471,     0.71572,     0.71672,     0.71772,     0.71872,     0.71972,\n",
              "           0.72072,     0.72172,     0.72272,     0.72372,     0.72472,     0.72573,     0.72673,     0.72773,     0.72873,     0.72973,     0.73073,     0.73173,     0.73273,     0.73373,     0.73473,     0.73574,     0.73674,     0.73774,     0.73874,     0.73974,     0.74074,     0.74174,     0.74274,     0.74374,\n",
              "           0.74474,     0.74575,     0.74675,     0.74775,     0.74875,     0.74975,     0.75075,     0.75175,     0.75275,     0.75375,     0.75475,     0.75576,     0.75676,     0.75776,     0.75876,     0.75976,     0.76076,     0.76176,     0.76276,     0.76376,     0.76476,     0.76577,     0.76677,     0.76777,\n",
              "           0.76877,     0.76977,     0.77077,     0.77177,     0.77277,     0.77377,     0.77477,     0.77578,     0.77678,     0.77778,     0.77878,     0.77978,     0.78078,     0.78178,     0.78278,     0.78378,     0.78478,     0.78579,     0.78679,     0.78779,     0.78879,     0.78979,     0.79079,     0.79179,\n",
              "           0.79279,     0.79379,     0.79479,      0.7958,      0.7968,      0.7978,      0.7988,      0.7998,      0.8008,      0.8018,      0.8028,      0.8038,      0.8048,     0.80581,     0.80681,     0.80781,     0.80881,     0.80981,     0.81081,     0.81181,     0.81281,     0.81381,     0.81481,     0.81582,\n",
              "           0.81682,     0.81782,     0.81882,     0.81982,     0.82082,     0.82182,     0.82282,     0.82382,     0.82482,     0.82583,     0.82683,     0.82783,     0.82883,     0.82983,     0.83083,     0.83183,     0.83283,     0.83383,     0.83483,     0.83584,     0.83684,     0.83784,     0.83884,     0.83984,\n",
              "           0.84084,     0.84184,     0.84284,     0.84384,     0.84484,     0.84585,     0.84685,     0.84785,     0.84885,     0.84985,     0.85085,     0.85185,     0.85285,     0.85385,     0.85485,     0.85586,     0.85686,     0.85786,     0.85886,     0.85986,     0.86086,     0.86186,     0.86286,     0.86386,\n",
              "           0.86486,     0.86587,     0.86687,     0.86787,     0.86887,     0.86987,     0.87087,     0.87187,     0.87287,     0.87387,     0.87487,     0.87588,     0.87688,     0.87788,     0.87888,     0.87988,     0.88088,     0.88188,     0.88288,     0.88388,     0.88488,     0.88589,     0.88689,     0.88789,\n",
              "           0.88889,     0.88989,     0.89089,     0.89189,     0.89289,     0.89389,     0.89489,      0.8959,      0.8969,      0.8979,      0.8989,      0.8999,      0.9009,      0.9019,      0.9029,      0.9039,      0.9049,     0.90591,     0.90691,     0.90791,     0.90891,     0.90991,     0.91091,     0.91191,\n",
              "           0.91291,     0.91391,     0.91491,     0.91592,     0.91692,     0.91792,     0.91892,     0.91992,     0.92092,     0.92192,     0.92292,     0.92392,     0.92492,     0.92593,     0.92693,     0.92793,     0.92893,     0.92993,     0.93093,     0.93193,     0.93293,     0.93393,     0.93493,     0.93594,\n",
              "           0.93694,     0.93794,     0.93894,     0.93994,     0.94094,     0.94194,     0.94294,     0.94394,     0.94494,     0.94595,     0.94695,     0.94795,     0.94895,     0.94995,     0.95095,     0.95195,     0.95295,     0.95395,     0.95495,     0.95596,     0.95696,     0.95796,     0.95896,     0.95996,\n",
              "           0.96096,     0.96196,     0.96296,     0.96396,     0.96496,     0.96597,     0.96697,     0.96797,     0.96897,     0.96997,     0.97097,     0.97197,     0.97297,     0.97397,     0.97497,     0.97598,     0.97698,     0.97798,     0.97898,     0.97998,     0.98098,     0.98198,     0.98298,     0.98398,\n",
              "           0.98498,     0.98599,     0.98699,     0.98799,     0.98899,     0.98999,     0.99099,     0.99199,     0.99299,     0.99399,     0.99499,       0.996,       0.997,       0.998,       0.999,           1]), array([[          1,     0.95238,     0.95238,     0.95238,     0.95238,     0.95238,     0.95238,     0.95238,     0.95238,     0.95238,     0.95238,     0.95238,     0.95238,     0.95238,     0.95238,     0.95238,     0.95238,     0.95238,     0.95238,     0.95238,     0.95238,     0.95238,     0.95238,\n",
              "            0.95238,     0.95238,     0.95238,     0.95238,     0.95238,     0.95238,     0.95238,     0.95238,     0.95238,     0.95238,     0.95238,     0.95238,     0.95238,     0.95238,     0.95238,     0.95238,     0.95238,     0.95238,     0.95238,     0.95238,     0.95238,     0.95238,     0.95238,\n",
              "            0.94853,     0.94853,     0.94853,     0.94853,     0.94483,     0.94483,     0.94483,     0.94194,     0.94194,     0.94194,     0.93671,     0.93452,     0.93452,     0.93452,     0.93182,     0.93182,     0.93182,     0.92857,     0.92857,      0.9267,      0.9267,      0.9267,     0.92574,\n",
              "            0.92574,     0.92574,     0.92574,     0.92308,     0.92308,     0.92241,     0.92241,     0.92241,     0.92241,     0.92241,     0.92241,     0.92241,     0.92241,     0.91603,     0.91603,     0.91603,     0.91603,     0.91603,     0.91603,     0.91603,     0.91603,     0.91603,     0.91603,\n",
              "            0.91603,     0.91603,     0.91603,     0.91603,     0.91603,     0.91603,     0.91603,     0.91603,     0.91603,     0.91603,     0.91603,     0.91603,     0.91603,     0.91603,     0.91603,     0.91603,     0.91603,     0.91603,     0.91603,     0.91603,     0.91603,     0.91603,     0.91603,\n",
              "            0.91603,     0.91603,     0.91603,     0.91603,     0.91603,     0.91603,     0.91603,     0.91603,     0.91603,     0.91603,     0.91603,     0.91603,     0.91603,     0.91603,     0.91603,     0.91603,     0.91603,     0.91603,     0.91603,     0.91603,     0.91603,     0.91603,     0.91603,\n",
              "            0.91176,     0.91176,     0.91176,     0.91176,     0.90976,     0.90824,     0.90824,     0.90824,     0.90824,     0.90783,     0.90783,     0.90783,     0.90783,     0.90402,     0.90402,     0.90402,     0.90402,      0.9033,      0.9033,     0.90022,     0.89871,     0.89855,     0.89855,\n",
              "            0.89855,     0.89855,     0.89855,     0.89855,     0.89855,     0.89592,     0.89592,     0.89537,     0.89537,     0.89442,     0.89328,     0.89328,     0.89147,     0.89147,     0.89147,     0.88652,     0.88652,     0.88652,     0.88652,     0.88652,     0.88652,     0.88652,     0.88652,\n",
              "            0.88652,     0.88652,     0.88652,     0.88652,     0.88652,     0.88652,     0.88652,     0.88542,     0.88542,     0.88542,     0.88542,     0.88196,     0.88196,     0.88196,     0.88196,     0.88196,     0.87854,     0.87854,     0.87829,     0.87829,     0.87797,     0.87797,     0.87797,\n",
              "            0.87797,     0.87797,     0.87797,     0.87797,     0.87559,     0.87461,     0.87195,     0.87195,     0.87195,     0.87195,     0.87195,      0.8716,      0.8716,     0.87068,     0.87015,     0.86924,     0.86834,      0.8651,     0.86475,     0.86475,     0.86475,     0.86475,     0.86266,\n",
              "            0.86217,     0.86217,     0.86217,     0.86217,     0.86207,     0.86207,     0.86207,     0.86207,     0.86126,     0.86024,     0.86024,     0.86024,     0.85881,     0.85881,     0.85881,     0.85881,     0.85881,     0.85881,     0.85881,     0.85881,     0.85881,     0.85881,     0.85881,\n",
              "            0.85806,     0.85787,     0.85787,     0.85498,     0.85498,     0.85498,     0.85181,     0.85181,     0.85012,     0.85012,     0.85012,     0.84756,     0.84661,     0.84661,     0.84661,     0.84661,     0.84661,     0.84661,     0.84661,     0.84642,     0.84642,     0.84642,     0.84615,\n",
              "            0.84615,     0.84553,     0.84447,     0.84447,     0.84361,     0.84361,     0.84205,     0.83951,     0.83951,     0.83911,      0.8385,      0.8385,      0.8385,     0.83673,     0.83673,     0.83673,     0.83673,     0.83673,     0.83673,     0.83673,     0.83673,     0.83529,     0.83387,\n",
              "            0.83369,     0.83246,     0.83193,     0.83072,     0.82917,     0.82784,     0.82784,     0.82716,      0.8264,      0.8264,      0.8264,     0.82573,      0.8256,      0.8243,     0.82271,     0.82271,     0.82242,     0.82213,      0.8215,     0.81961,     0.81871,     0.81809,     0.81809,\n",
              "            0.81809,     0.81809,      0.8174,      0.8174,     0.81654,     0.81654,     0.81527,     0.81527,     0.81408,     0.81395,     0.81395,     0.81395,      0.8129,      0.8129,     0.81279,     0.81279,     0.81279,     0.80905,     0.80905,     0.80866,     0.80588,     0.80588,     0.80588,\n",
              "            0.80551,     0.80442,     0.80423,     0.80298,     0.80298,     0.79948,     0.79896,     0.79741,     0.79606,     0.79555,     0.79202,     0.79072,      0.7904,     0.78978,     0.78978,     0.78833,     0.78625,      0.7842,      0.7842,      0.7842,      0.7842,      0.7842,     0.78282,\n",
              "            0.78236,     0.78055,     0.77902,      0.7776,      0.7776,     0.77751,     0.77585,     0.77376,     0.77326,     0.77138,     0.77096,     0.76911,     0.76823,     0.76823,     0.76817,     0.76578,     0.76555,     0.76493,     0.76488,     0.76479,     0.76479,     0.76383,        0.76,\n",
              "            0.75811,      0.7568,     0.75401,     0.75328,     0.75163,     0.74946,     0.74946,     0.74893,     0.74468,     0.74118,     0.74035,     0.73968,     0.73593,     0.73164,     0.73164,     0.73132,     0.73074,     0.73074,     0.72949,     0.72819,     0.72697,     0.72296,     0.72285,\n",
              "            0.72196,     0.72108,     0.72003,     0.71419,     0.71391,     0.71235,     0.71134,     0.71053,     0.70727,     0.70469,     0.70328,     0.70296,     0.69894,     0.69689,     0.69487,     0.69269,      0.6886,     0.68708,     0.68622,     0.68491,     0.68364,     0.67794,     0.67771,\n",
              "            0.67371,     0.66226,     0.65905,     0.65645,     0.64821,     0.64608,     0.64488,     0.64227,     0.63985,     0.63351,     0.62935,      0.6274,       0.625,     0.62243,     0.60925,     0.60861,     0.60858,     0.60456,     0.59651,     0.59513,     0.59075,     0.58826,     0.58743,\n",
              "            0.56975,      0.5651,     0.55765,     0.55749,     0.55233,     0.54456,     0.53461,     0.53461,     0.53247,     0.52426,     0.51652,     0.51327,     0.51134,     0.51046,     0.50899,      0.5069,     0.50201,       0.499,     0.49527,     0.48836,     0.48467,     0.48467,     0.48029,\n",
              "            0.47707,     0.46423,     0.46243,     0.46084,     0.45552,     0.45252,     0.44541,     0.44398,     0.44148,     0.43727,     0.43128,     0.43066,     0.42227,     0.41014,     0.40787,     0.40401,     0.40055,     0.40037,     0.39508,     0.39233,     0.38441,     0.38024,     0.37828,\n",
              "            0.37286,     0.37248,     0.36736,     0.36201,     0.35752,      0.3501,     0.34881,     0.34405,     0.33945,     0.33859,     0.32881,     0.32755,     0.32568,     0.31936,     0.31679,     0.31207,     0.30742,     0.30439,         0.3,      0.2963,     0.28337,     0.27382,     0.27379,\n",
              "            0.27004,     0.26773,     0.26474,     0.25879,     0.25773,     0.25672,     0.25388,     0.25369,      0.2521,     0.24829,     0.24764,     0.24232,     0.24045,     0.23757,     0.22979,     0.22842,     0.22644,      0.2257,     0.22173,     0.21851,     0.21693,     0.21574,     0.21022,\n",
              "            0.20924,     0.20648,     0.20245,     0.19885,     0.19537,     0.19478,     0.18824,     0.18597,     0.18447,     0.18033,     0.17851,     0.17586,     0.17125,     0.17081,     0.16657,     0.16368,     0.16308,     0.16027,     0.15837,     0.15803,     0.15591,     0.15188,     0.14931,\n",
              "            0.14931,     0.14874,     0.14549,     0.14371,     0.14341,     0.14072,     0.14062,     0.13922,     0.13501,     0.13245,     0.12928,     0.12627,     0.12474,     0.12285,     0.12143,     0.11977,     0.11708,     0.11586,     0.11335,     0.11102,      0.1107,     0.10745,     0.10067,\n",
              "           0.099342,    0.099019,    0.097392,    0.093167,    0.092553,    0.090097,    0.088427,    0.083076,    0.082645,    0.080739,     0.07915,    0.078573,    0.076421,    0.071835,    0.070418,    0.070121,    0.069939,    0.069757,    0.069576,    0.069394,    0.069212,    0.069031,    0.068849,\n",
              "           0.068667,    0.068486,    0.068304,    0.068122,    0.067941,    0.067759,    0.067577,    0.067396,    0.067214,    0.067032,    0.066851,    0.066669,    0.066487,    0.066306,    0.066124,    0.065942,    0.065761,    0.065579,    0.065398,    0.065216,    0.065034,    0.064853,    0.064671,\n",
              "           0.064489,    0.064308,    0.064126,    0.063944,    0.063763,    0.063581,    0.063399,    0.063218,    0.063036,    0.062854,    0.062673,    0.062491,    0.062309,    0.062128,    0.061946,    0.061764,    0.061583,    0.061401,    0.061219,    0.061038,    0.060856,    0.060674,    0.060493,\n",
              "           0.060311,    0.060129,    0.059948,    0.059766,    0.059584,    0.059403,    0.059221,    0.059039,    0.058858,    0.058676,    0.058494,    0.058313,    0.058131,    0.057949,    0.057768,    0.057586,    0.057404,    0.057223,    0.057041,     0.05686,    0.056678,    0.056496,    0.056315,\n",
              "           0.056133,    0.055951,     0.05577,    0.055588,    0.055406,    0.055225,    0.055043,    0.054861,     0.05468,    0.054498,    0.054316,    0.054135,    0.053953,    0.053771,     0.05359,    0.053408,    0.053226,    0.053045,    0.052863,    0.052681,      0.0525,    0.052318,    0.052136,\n",
              "           0.051955,    0.051773,    0.051591,     0.05141,    0.051228,    0.051046,    0.050865,    0.050683,    0.050501,     0.05032,    0.050138,    0.049956,    0.049775,    0.049593,    0.049411,     0.04923,    0.049048,    0.048866,    0.048685,    0.048503,    0.048321,     0.04814,    0.047958,\n",
              "           0.047777,    0.047595,    0.047413,    0.047232,     0.04705,    0.046868,    0.046687,    0.046505,    0.046323,    0.046142,     0.04596,    0.045778,    0.045597,    0.045415,    0.045233,    0.045052,     0.04487,    0.044688,    0.044507,    0.044325,    0.044143,    0.043962,     0.04378,\n",
              "           0.043598,    0.043417,    0.043235,    0.043053,    0.042872,     0.04269,    0.042508,    0.042327,    0.042145,    0.041963,    0.041782,      0.0416,    0.041418,    0.041237,    0.041055,    0.040873,    0.040692,     0.04051,    0.040328,    0.040147,    0.039965,    0.039783,    0.039602,\n",
              "            0.03942,    0.039239,    0.039057,    0.038875,    0.038694,    0.038512,     0.03833,    0.038149,    0.037967,    0.037785,    0.037604,    0.037422,     0.03724,    0.037059,    0.036877,    0.036695,    0.036514,    0.036332,     0.03615,    0.035969,    0.035787,    0.035605,    0.035424,\n",
              "           0.035242,     0.03506,    0.034879,    0.034697,    0.034515,    0.034334,    0.034152,     0.03397,    0.033789,    0.033607,    0.033425,    0.033244,    0.033062,     0.03288,    0.032699,    0.032517,    0.032335,    0.032154,    0.031972,     0.03179,    0.031609,    0.031427,    0.031245,\n",
              "           0.031064,    0.030882,      0.0307,    0.030519,    0.030337,    0.030156,    0.029974,    0.029792,    0.029611,    0.029429,    0.029247,    0.029066,    0.028884,    0.028702,    0.028521,    0.028339,    0.028157,    0.027976,    0.027794,    0.027612,    0.027431,    0.027249,    0.027067,\n",
              "           0.026886,    0.026704,    0.026522,    0.026341,    0.026159,    0.025977,    0.025796,    0.025614,    0.025432,    0.025251,    0.025069,    0.024887,    0.024706,    0.024524,    0.024342,    0.024161,    0.023979,    0.023797,    0.023616,    0.023434,    0.023252,    0.023071,    0.022889,\n",
              "           0.022707,    0.022526,    0.022344,    0.022162,    0.021981,    0.021799,    0.021618,    0.021436,    0.021254,    0.021073,    0.020891,    0.020709,    0.020528,    0.020346,    0.020164,    0.019983,    0.019801,    0.019619,    0.019438,    0.019256,    0.019074,    0.018893,    0.018711,\n",
              "           0.018529,    0.018348,    0.018166,    0.017984,    0.017803,    0.017621,    0.017439,    0.017258,    0.017076,    0.016894,    0.016713,    0.016531,    0.016349,    0.016168,    0.015986,    0.015804,    0.015623,    0.015441,    0.015259,    0.015078,    0.014896,    0.014714,    0.014533,\n",
              "           0.014351,    0.014169,    0.013988,    0.013806,    0.013624,    0.013443,    0.013261,     0.01308,    0.012898,    0.012716,    0.012535,    0.012353,    0.012171,     0.01199,    0.011808,    0.011626,    0.011445,    0.011263,    0.011081,      0.0109,    0.010718,    0.010536,    0.010355,\n",
              "           0.010173,   0.0099913,   0.0098096,    0.009628,   0.0094463,   0.0092646,    0.009083,   0.0089013,   0.0087197,    0.008538,   0.0083563,   0.0081747,    0.007993,   0.0078114,   0.0076297,   0.0074481,   0.0072664,   0.0070847,   0.0069031,   0.0067214,   0.0065398,   0.0063581,   0.0061764,\n",
              "          0.0059948,   0.0058131,   0.0056315,   0.0054498,   0.0052681,   0.0050865,   0.0049048,   0.0047232,   0.0045415,   0.0043598,   0.0041782,   0.0039965,   0.0038149,   0.0036332,   0.0034515,   0.0032699,   0.0030882,   0.0029066,   0.0027249,   0.0025432,   0.0023616,   0.0021799,   0.0019983,\n",
              "          0.0018166,   0.0016349,   0.0014533,   0.0012716,     0.00109,   0.0009083,  0.00072664,  0.00054498,  0.00036332,  0.00018166,           0]]), 'Recall', 'Precision'], [array([          0,    0.001001,    0.002002,    0.003003,    0.004004,    0.005005,    0.006006,    0.007007,    0.008008,    0.009009,     0.01001,    0.011011,    0.012012,    0.013013,    0.014014,    0.015015,    0.016016,    0.017017,    0.018018,    0.019019,     0.02002,    0.021021,    0.022022,    0.023023,\n",
              "          0.024024,    0.025025,    0.026026,    0.027027,    0.028028,    0.029029,     0.03003,    0.031031,    0.032032,    0.033033,    0.034034,    0.035035,    0.036036,    0.037037,    0.038038,    0.039039,     0.04004,    0.041041,    0.042042,    0.043043,    0.044044,    0.045045,    0.046046,    0.047047,\n",
              "          0.048048,    0.049049,     0.05005,    0.051051,    0.052052,    0.053053,    0.054054,    0.055055,    0.056056,    0.057057,    0.058058,    0.059059,     0.06006,    0.061061,    0.062062,    0.063063,    0.064064,    0.065065,    0.066066,    0.067067,    0.068068,    0.069069,     0.07007,    0.071071,\n",
              "          0.072072,    0.073073,    0.074074,    0.075075,    0.076076,    0.077077,    0.078078,    0.079079,     0.08008,    0.081081,    0.082082,    0.083083,    0.084084,    0.085085,    0.086086,    0.087087,    0.088088,    0.089089,     0.09009,    0.091091,    0.092092,    0.093093,    0.094094,    0.095095,\n",
              "          0.096096,    0.097097,    0.098098,    0.099099,      0.1001,      0.1011,      0.1021,      0.1031,      0.1041,     0.10511,     0.10611,     0.10711,     0.10811,     0.10911,     0.11011,     0.11111,     0.11211,     0.11311,     0.11411,     0.11512,     0.11612,     0.11712,     0.11812,     0.11912,\n",
              "           0.12012,     0.12112,     0.12212,     0.12312,     0.12412,     0.12513,     0.12613,     0.12713,     0.12813,     0.12913,     0.13013,     0.13113,     0.13213,     0.13313,     0.13413,     0.13514,     0.13614,     0.13714,     0.13814,     0.13914,     0.14014,     0.14114,     0.14214,     0.14314,\n",
              "           0.14414,     0.14515,     0.14615,     0.14715,     0.14815,     0.14915,     0.15015,     0.15115,     0.15215,     0.15315,     0.15415,     0.15516,     0.15616,     0.15716,     0.15816,     0.15916,     0.16016,     0.16116,     0.16216,     0.16316,     0.16416,     0.16517,     0.16617,     0.16717,\n",
              "           0.16817,     0.16917,     0.17017,     0.17117,     0.17217,     0.17317,     0.17417,     0.17518,     0.17618,     0.17718,     0.17818,     0.17918,     0.18018,     0.18118,     0.18218,     0.18318,     0.18418,     0.18519,     0.18619,     0.18719,     0.18819,     0.18919,     0.19019,     0.19119,\n",
              "           0.19219,     0.19319,     0.19419,      0.1952,      0.1962,      0.1972,      0.1982,      0.1992,      0.2002,      0.2012,      0.2022,      0.2032,      0.2042,     0.20521,     0.20621,     0.20721,     0.20821,     0.20921,     0.21021,     0.21121,     0.21221,     0.21321,     0.21421,     0.21522,\n",
              "           0.21622,     0.21722,     0.21822,     0.21922,     0.22022,     0.22122,     0.22222,     0.22322,     0.22422,     0.22523,     0.22623,     0.22723,     0.22823,     0.22923,     0.23023,     0.23123,     0.23223,     0.23323,     0.23423,     0.23524,     0.23624,     0.23724,     0.23824,     0.23924,\n",
              "           0.24024,     0.24124,     0.24224,     0.24324,     0.24424,     0.24525,     0.24625,     0.24725,     0.24825,     0.24925,     0.25025,     0.25125,     0.25225,     0.25325,     0.25425,     0.25526,     0.25626,     0.25726,     0.25826,     0.25926,     0.26026,     0.26126,     0.26226,     0.26326,\n",
              "           0.26426,     0.26527,     0.26627,     0.26727,     0.26827,     0.26927,     0.27027,     0.27127,     0.27227,     0.27327,     0.27427,     0.27528,     0.27628,     0.27728,     0.27828,     0.27928,     0.28028,     0.28128,     0.28228,     0.28328,     0.28428,     0.28529,     0.28629,     0.28729,\n",
              "           0.28829,     0.28929,     0.29029,     0.29129,     0.29229,     0.29329,     0.29429,      0.2953,      0.2963,      0.2973,      0.2983,      0.2993,      0.3003,      0.3013,      0.3023,      0.3033,      0.3043,     0.30531,     0.30631,     0.30731,     0.30831,     0.30931,     0.31031,     0.31131,\n",
              "           0.31231,     0.31331,     0.31431,     0.31532,     0.31632,     0.31732,     0.31832,     0.31932,     0.32032,     0.32132,     0.32232,     0.32332,     0.32432,     0.32533,     0.32633,     0.32733,     0.32833,     0.32933,     0.33033,     0.33133,     0.33233,     0.33333,     0.33433,     0.33534,\n",
              "           0.33634,     0.33734,     0.33834,     0.33934,     0.34034,     0.34134,     0.34234,     0.34334,     0.34434,     0.34535,     0.34635,     0.34735,     0.34835,     0.34935,     0.35035,     0.35135,     0.35235,     0.35335,     0.35435,     0.35536,     0.35636,     0.35736,     0.35836,     0.35936,\n",
              "           0.36036,     0.36136,     0.36236,     0.36336,     0.36436,     0.36537,     0.36637,     0.36737,     0.36837,     0.36937,     0.37037,     0.37137,     0.37237,     0.37337,     0.37437,     0.37538,     0.37638,     0.37738,     0.37838,     0.37938,     0.38038,     0.38138,     0.38238,     0.38338,\n",
              "           0.38438,     0.38539,     0.38639,     0.38739,     0.38839,     0.38939,     0.39039,     0.39139,     0.39239,     0.39339,     0.39439,      0.3954,      0.3964,      0.3974,      0.3984,      0.3994,      0.4004,      0.4014,      0.4024,      0.4034,      0.4044,     0.40541,     0.40641,     0.40741,\n",
              "           0.40841,     0.40941,     0.41041,     0.41141,     0.41241,     0.41341,     0.41441,     0.41542,     0.41642,     0.41742,     0.41842,     0.41942,     0.42042,     0.42142,     0.42242,     0.42342,     0.42442,     0.42543,     0.42643,     0.42743,     0.42843,     0.42943,     0.43043,     0.43143,\n",
              "           0.43243,     0.43343,     0.43443,     0.43544,     0.43644,     0.43744,     0.43844,     0.43944,     0.44044,     0.44144,     0.44244,     0.44344,     0.44444,     0.44545,     0.44645,     0.44745,     0.44845,     0.44945,     0.45045,     0.45145,     0.45245,     0.45345,     0.45445,     0.45546,\n",
              "           0.45646,     0.45746,     0.45846,     0.45946,     0.46046,     0.46146,     0.46246,     0.46346,     0.46446,     0.46547,     0.46647,     0.46747,     0.46847,     0.46947,     0.47047,     0.47147,     0.47247,     0.47347,     0.47447,     0.47548,     0.47648,     0.47748,     0.47848,     0.47948,\n",
              "           0.48048,     0.48148,     0.48248,     0.48348,     0.48448,     0.48549,     0.48649,     0.48749,     0.48849,     0.48949,     0.49049,     0.49149,     0.49249,     0.49349,     0.49449,      0.4955,      0.4965,      0.4975,      0.4985,      0.4995,      0.5005,      0.5015,      0.5025,      0.5035,\n",
              "            0.5045,     0.50551,     0.50651,     0.50751,     0.50851,     0.50951,     0.51051,     0.51151,     0.51251,     0.51351,     0.51451,     0.51552,     0.51652,     0.51752,     0.51852,     0.51952,     0.52052,     0.52152,     0.52252,     0.52352,     0.52452,     0.52553,     0.52653,     0.52753,\n",
              "           0.52853,     0.52953,     0.53053,     0.53153,     0.53253,     0.53353,     0.53453,     0.53554,     0.53654,     0.53754,     0.53854,     0.53954,     0.54054,     0.54154,     0.54254,     0.54354,     0.54454,     0.54555,     0.54655,     0.54755,     0.54855,     0.54955,     0.55055,     0.55155,\n",
              "           0.55255,     0.55355,     0.55455,     0.55556,     0.55656,     0.55756,     0.55856,     0.55956,     0.56056,     0.56156,     0.56256,     0.56356,     0.56456,     0.56557,     0.56657,     0.56757,     0.56857,     0.56957,     0.57057,     0.57157,     0.57257,     0.57357,     0.57457,     0.57558,\n",
              "           0.57658,     0.57758,     0.57858,     0.57958,     0.58058,     0.58158,     0.58258,     0.58358,     0.58458,     0.58559,     0.58659,     0.58759,     0.58859,     0.58959,     0.59059,     0.59159,     0.59259,     0.59359,     0.59459,      0.5956,      0.5966,      0.5976,      0.5986,      0.5996,\n",
              "            0.6006,      0.6016,      0.6026,      0.6036,      0.6046,     0.60561,     0.60661,     0.60761,     0.60861,     0.60961,     0.61061,     0.61161,     0.61261,     0.61361,     0.61461,     0.61562,     0.61662,     0.61762,     0.61862,     0.61962,     0.62062,     0.62162,     0.62262,     0.62362,\n",
              "           0.62462,     0.62563,     0.62663,     0.62763,     0.62863,     0.62963,     0.63063,     0.63163,     0.63263,     0.63363,     0.63463,     0.63564,     0.63664,     0.63764,     0.63864,     0.63964,     0.64064,     0.64164,     0.64264,     0.64364,     0.64464,     0.64565,     0.64665,     0.64765,\n",
              "           0.64865,     0.64965,     0.65065,     0.65165,     0.65265,     0.65365,     0.65465,     0.65566,     0.65666,     0.65766,     0.65866,     0.65966,     0.66066,     0.66166,     0.66266,     0.66366,     0.66466,     0.66567,     0.66667,     0.66767,     0.66867,     0.66967,     0.67067,     0.67167,\n",
              "           0.67267,     0.67367,     0.67467,     0.67568,     0.67668,     0.67768,     0.67868,     0.67968,     0.68068,     0.68168,     0.68268,     0.68368,     0.68468,     0.68569,     0.68669,     0.68769,     0.68869,     0.68969,     0.69069,     0.69169,     0.69269,     0.69369,     0.69469,      0.6957,\n",
              "            0.6967,      0.6977,      0.6987,      0.6997,      0.7007,      0.7017,      0.7027,      0.7037,      0.7047,     0.70571,     0.70671,     0.70771,     0.70871,     0.70971,     0.71071,     0.71171,     0.71271,     0.71371,     0.71471,     0.71572,     0.71672,     0.71772,     0.71872,     0.71972,\n",
              "           0.72072,     0.72172,     0.72272,     0.72372,     0.72472,     0.72573,     0.72673,     0.72773,     0.72873,     0.72973,     0.73073,     0.73173,     0.73273,     0.73373,     0.73473,     0.73574,     0.73674,     0.73774,     0.73874,     0.73974,     0.74074,     0.74174,     0.74274,     0.74374,\n",
              "           0.74474,     0.74575,     0.74675,     0.74775,     0.74875,     0.74975,     0.75075,     0.75175,     0.75275,     0.75375,     0.75475,     0.75576,     0.75676,     0.75776,     0.75876,     0.75976,     0.76076,     0.76176,     0.76276,     0.76376,     0.76476,     0.76577,     0.76677,     0.76777,\n",
              "           0.76877,     0.76977,     0.77077,     0.77177,     0.77277,     0.77377,     0.77477,     0.77578,     0.77678,     0.77778,     0.77878,     0.77978,     0.78078,     0.78178,     0.78278,     0.78378,     0.78478,     0.78579,     0.78679,     0.78779,     0.78879,     0.78979,     0.79079,     0.79179,\n",
              "           0.79279,     0.79379,     0.79479,      0.7958,      0.7968,      0.7978,      0.7988,      0.7998,      0.8008,      0.8018,      0.8028,      0.8038,      0.8048,     0.80581,     0.80681,     0.80781,     0.80881,     0.80981,     0.81081,     0.81181,     0.81281,     0.81381,     0.81481,     0.81582,\n",
              "           0.81682,     0.81782,     0.81882,     0.81982,     0.82082,     0.82182,     0.82282,     0.82382,     0.82482,     0.82583,     0.82683,     0.82783,     0.82883,     0.82983,     0.83083,     0.83183,     0.83283,     0.83383,     0.83483,     0.83584,     0.83684,     0.83784,     0.83884,     0.83984,\n",
              "           0.84084,     0.84184,     0.84284,     0.84384,     0.84484,     0.84585,     0.84685,     0.84785,     0.84885,     0.84985,     0.85085,     0.85185,     0.85285,     0.85385,     0.85485,     0.85586,     0.85686,     0.85786,     0.85886,     0.85986,     0.86086,     0.86186,     0.86286,     0.86386,\n",
              "           0.86486,     0.86587,     0.86687,     0.86787,     0.86887,     0.86987,     0.87087,     0.87187,     0.87287,     0.87387,     0.87487,     0.87588,     0.87688,     0.87788,     0.87888,     0.87988,     0.88088,     0.88188,     0.88288,     0.88388,     0.88488,     0.88589,     0.88689,     0.88789,\n",
              "           0.88889,     0.88989,     0.89089,     0.89189,     0.89289,     0.89389,     0.89489,      0.8959,      0.8969,      0.8979,      0.8989,      0.8999,      0.9009,      0.9019,      0.9029,      0.9039,      0.9049,     0.90591,     0.90691,     0.90791,     0.90891,     0.90991,     0.91091,     0.91191,\n",
              "           0.91291,     0.91391,     0.91491,     0.91592,     0.91692,     0.91792,     0.91892,     0.91992,     0.92092,     0.92192,     0.92292,     0.92392,     0.92492,     0.92593,     0.92693,     0.92793,     0.92893,     0.92993,     0.93093,     0.93193,     0.93293,     0.93393,     0.93493,     0.93594,\n",
              "           0.93694,     0.93794,     0.93894,     0.93994,     0.94094,     0.94194,     0.94294,     0.94394,     0.94494,     0.94595,     0.94695,     0.94795,     0.94895,     0.94995,     0.95095,     0.95195,     0.95295,     0.95395,     0.95495,     0.95596,     0.95696,     0.95796,     0.95896,     0.95996,\n",
              "           0.96096,     0.96196,     0.96296,     0.96396,     0.96496,     0.96597,     0.96697,     0.96797,     0.96897,     0.96997,     0.97097,     0.97197,     0.97297,     0.97397,     0.97497,     0.97598,     0.97698,     0.97798,     0.97898,     0.97998,     0.98098,     0.98198,     0.98298,     0.98398,\n",
              "           0.98498,     0.98599,     0.98699,     0.98799,     0.98899,     0.98999,     0.99099,     0.99199,     0.99299,     0.99399,     0.99499,       0.996,       0.997,       0.998,       0.999,           1]), array([[    0.12608,     0.12608,     0.13239,     0.14211,     0.15353,     0.16574,      0.1781,     0.18986,     0.20134,     0.21151,     0.22168,     0.22939,     0.23699,     0.24508,     0.25207,     0.25898,     0.26564,     0.27256,     0.27848,     0.28556,     0.29157,     0.29665,     0.30213,\n",
              "            0.30787,     0.31236,       0.317,     0.32125,     0.32516,     0.33055,     0.33343,     0.33818,     0.34219,     0.34438,     0.34752,     0.35067,     0.35473,     0.35745,     0.36055,      0.3645,      0.3679,      0.3715,      0.3748,     0.37774,     0.38104,     0.38334,     0.38535,\n",
              "            0.38811,     0.39058,     0.39313,     0.39491,     0.39764,     0.39945,     0.40125,     0.40317,     0.40602,     0.40872,     0.40979,     0.41197,     0.41394,     0.41549,     0.41734,     0.41943,     0.42131,     0.42312,      0.4253,     0.42721,     0.42849,     0.42981,     0.43208,\n",
              "            0.43297,      0.4343,     0.43648,     0.43836,     0.43975,     0.44101,     0.44211,     0.44264,      0.4444,     0.44619,     0.44669,     0.44776,      0.4485,     0.44905,     0.45074,     0.45187,     0.45378,     0.45493,     0.45615,     0.45774,     0.45874,      0.4602,     0.46171,\n",
              "             0.4631,     0.46423,     0.46562,     0.46607,     0.46676,     0.46888,     0.46984,      0.4705,     0.47151,     0.47253,     0.47318,     0.47364,     0.47365,     0.47429,     0.47596,     0.47728,     0.47821,     0.47954,     0.48002,     0.48089,     0.48194,     0.48309,     0.48233,\n",
              "            0.48347,     0.48407,     0.48484,     0.48582,     0.48668,     0.48719,     0.48804,      0.4883,     0.48899,      0.4894,     0.49018,     0.49064,     0.49093,     0.49124,     0.49147,     0.49126,     0.49133,     0.49201,     0.49207,     0.49234,     0.49268,     0.49389,     0.49519,\n",
              "            0.49591,     0.49682,     0.49763,     0.49815,     0.49836,     0.49881,     0.49837,     0.49888,     0.50021,     0.50063,     0.50125,     0.50187,     0.50208,     0.50333,     0.50395,     0.50436,       0.505,     0.50573,     0.50604,     0.50553,     0.50562,     0.50636,     0.50688,\n",
              "            0.50814,     0.50826,     0.50791,     0.50834,      0.5095,     0.50928,     0.50969,     0.51097,     0.51203,     0.51321,     0.51375,     0.51375,     0.51426,     0.51523,     0.51537,     0.51557,     0.51556,     0.51566,     0.51653,     0.51621,     0.51673,     0.51662,     0.51748,\n",
              "            0.51834,      0.5188,       0.519,     0.51964,     0.51942,     0.51846,     0.51853,     0.51883,     0.51947,     0.52011,      0.5203,     0.52062,     0.52103,     0.52113,     0.52152,     0.52183,      0.5226,     0.52224,     0.52255,     0.52285,     0.52272,     0.52293,     0.52284,\n",
              "            0.52263,     0.52354,     0.52394,      0.5237,     0.52387,      0.5243,     0.52439,     0.52446,     0.52476,     0.52498,     0.52524,     0.52533,     0.52522,     0.52536,     0.52511,     0.52552,     0.52536,      0.5249,     0.52506,     0.52482,     0.52523,      0.5252,      0.5249,\n",
              "            0.52543,     0.52551,     0.52616,     0.52632,     0.52662,     0.52702,      0.5271,     0.52741,     0.52739,     0.52721,     0.52752,     0.52773,     0.52807,     0.52823,     0.52864,     0.52905,     0.52934,     0.52963,     0.53017,     0.52988,     0.53007,     0.53048,     0.53089,\n",
              "            0.53113,     0.53033,     0.53025,     0.53045,     0.53111,     0.53165,     0.53112,     0.53109,     0.53136,     0.53101,     0.53091,     0.53038,     0.53025,     0.52984,     0.52966,      0.5296,     0.53016,     0.53001,     0.53011,     0.53009,      0.5302,     0.53014,     0.53021,\n",
              "             0.5299,     0.52976,     0.52979,     0.52952,     0.52947,     0.52973,     0.52989,     0.52931,       0.529,     0.52879,     0.52895,       0.529,     0.52928,     0.52876,     0.52906,     0.52883,     0.52812,     0.52839,     0.52772,     0.52765,     0.52745,     0.52762,      0.5274,\n",
              "            0.52686,     0.52753,      0.5277,     0.52784,      0.5275,     0.52731,     0.52713,     0.52692,     0.52674,      0.5257,     0.52597,     0.52519,     0.52544,     0.52566,     0.52579,     0.52542,      0.5249,     0.52471,     0.52487,     0.52466,     0.52363,     0.52268,     0.52257,\n",
              "            0.52239,     0.52176,     0.52062,     0.52069,     0.52072,     0.52109,     0.52112,     0.52118,     0.52133,     0.52101,      0.5206,     0.52022,     0.51998,     0.51979,     0.52031,     0.52014,     0.51988,     0.52016,     0.52017,     0.52047,      0.5201,     0.51967,     0.51901,\n",
              "            0.51871,     0.51829,     0.51815,     0.51809,     0.51771,     0.51743,     0.51775,     0.51749,     0.51719,     0.51695,      0.5171,     0.51705,     0.51677,     0.51642,      0.5162,     0.51653,     0.51624,     0.51631,     0.51562,     0.51566,     0.51569,     0.51573,     0.51587,\n",
              "            0.51565,      0.5156,     0.51464,     0.51453,     0.51443,     0.51433,      0.5143,     0.51411,      0.5139,     0.51368,     0.51261,     0.51242,     0.51129,     0.51057,     0.51064,      0.5107,     0.51077,     0.50835,      0.5085,     0.50791,     0.50772,     0.50687,     0.50691,\n",
              "            0.50671,     0.50603,     0.50609,     0.50541,     0.50537,     0.50478,     0.50484,     0.50517,     0.50524,     0.50518,     0.50526,     0.50473,     0.50454,     0.50408,     0.50389,     0.50328,     0.50259,     0.50266,     0.50241,     0.50221,     0.50183,     0.50189,     0.50161,\n",
              "            0.50138,     0.50117,     0.50097,     0.49987,     0.49967,     0.49984,     0.49997,      0.4979,      0.4977,     0.49682,     0.49531,     0.49538,     0.49531,     0.49538,     0.49526,     0.49505,     0.49432,     0.49412,     0.49286,     0.49266,     0.49257,     0.49245,     0.49186,\n",
              "            0.49166,     0.49063,     0.49076,      0.4907,     0.49077,     0.49003,      0.4901,     0.48927,     0.48906,     0.48802,     0.48808,     0.48708,     0.48714,      0.4872,     0.48658,     0.48637,     0.48617,     0.48593,     0.48526,     0.48533,     0.48391,     0.48397,     0.48364,\n",
              "             0.4837,     0.48213,     0.48193,     0.48063,     0.48042,     0.48008,     0.48015,     0.47812,     0.47791,     0.47854,     0.47861,     0.47503,     0.47482,     0.47378,     0.47357,     0.47319,     0.47325,     0.47291,      0.4727,     0.47021,     0.46781,     0.46759,      0.4674,\n",
              "            0.46746,     0.46592,      0.4657,     0.46277,     0.46234,     0.46046,     0.46052,     0.45902,     0.45909,     0.45814,      0.4582,     0.45754,     0.45761,     0.45756,     0.45734,     0.45597,     0.45576,     0.45396,     0.45374,     0.45347,     0.45325,     0.45243,     0.45221,\n",
              "            0.45009,     0.44987,      0.4477,     0.44776,     0.44669,     0.44647,     0.44381,     0.44388,     0.44202,     0.44179,     0.44094,     0.44072,     0.43945,     0.43952,     0.43867,     0.43649,     0.43626,     0.43177,     0.43183,     0.42991,     0.42998,     0.42922,     0.42899,\n",
              "            0.42704,     0.42711,     0.42509,     0.42486,     0.42287,     0.42264,     0.42039,     0.42016,     0.41972,     0.41978,     0.41768,     0.41745,     0.41551,     0.41528,     0.41288,     0.41265,     0.41116,     0.41093,     0.40851,     0.40828,     0.40505,     0.40481,     0.40272,\n",
              "            0.40278,      0.4019,     0.40166,     0.39889,     0.39895,     0.39739,     0.39673,     0.39649,     0.39437,     0.39413,     0.39346,     0.39352,     0.39115,      0.3909,     0.38698,     0.38673,     0.38326,     0.38302,     0.38097,     0.38072,     0.37611,     0.37586,     0.37318,\n",
              "            0.37324,     0.36875,      0.3685,     0.36689,     0.36664,     0.36344,     0.36291,     0.36258,     0.35855,      0.3583,     0.35685,     0.35691,      0.3548,     0.35485,     0.35112,     0.35117,     0.34858,     0.34832,     0.34402,     0.34377,     0.34182,     0.34021,     0.34027,\n",
              "            0.33875,     0.33849,     0.33582,     0.33588,     0.33226,       0.332,     0.32977,      0.3295,     0.32721,     0.32506,     0.32511,     0.32456,      0.3243,      0.3209,     0.32063,     0.32036,     0.32009,     0.31868,     0.31874,     0.31458,     0.31463,     0.31076,     0.30943,\n",
              "            0.30948,     0.30578,     0.30551,     0.30362,     0.30325,     0.29757,      0.2973,     0.29387,     0.29359,     0.29294,     0.29298,     0.28878,     0.28553,     0.28525,     0.28019,      0.2799,     0.27931,     0.27937,     0.27274,     0.26904,     0.26875,     0.26582,     0.26543,\n",
              "            0.26398,     0.26369,     0.26008,     0.25979,     0.25756,     0.25362,     0.25332,     0.24852,     0.24822,     0.24467,     0.24428,     0.23932,     0.23902,     0.23653,       0.235,      0.2347,     0.23028,     0.22998,     0.22615,     0.21809,     0.21779,     0.21507,     0.21466,\n",
              "             0.2101,      0.2098,      0.2076,     0.20539,     0.20508,     0.20191,     0.20196,     0.19742,     0.19711,     0.19302,     0.19024,     0.18993,     0.18591,     0.18362,      0.1833,     0.18179,     0.18136,     0.17599,     0.17567,      0.1715,     0.16931,     0.16899,     0.16483,\n",
              "             0.1644,     0.16086,     0.16053,     0.15755,     0.15396,     0.15352,     0.15129,     0.15096,     0.14944,     0.14445,     0.13948,     0.13914,     0.13683,     0.13638,     0.13334,     0.13031,     0.12997,       0.125,     0.12455,     0.12276,     0.12037,     0.12002,     0.11498,\n",
              "            0.11452,     0.11245,      0.1089,     0.10844,     0.10608,     0.10573,     0.10257,     0.10005,    0.098933,    0.098464,    0.095309,    0.094956,    0.090414,    0.087195,    0.086719,    0.083454,    0.080879,      0.0804,    0.077816,    0.074521,    0.074039,    0.071541,    0.071178,\n",
              "           0.067898,    0.061713,    0.061224,    0.059304,    0.058098,     0.05689,    0.056399,    0.053749,    0.051843,    0.051596,    0.051349,     0.04961,    0.049115,    0.048989,    0.046693,    0.046197,    0.042988,    0.042739,     0.04249,    0.042024,    0.040795,    0.040296,    0.037601,\n",
              "           0.035633,    0.035131,    0.034629,     0.03193,    0.030722,    0.030584,    0.030447,    0.030309,    0.030172,    0.030034,     0.02889,    0.027711,    0.027458,    0.027205,    0.026782,    0.026297,    0.026301,    0.026304,    0.025344,    0.024836,    0.024526,    0.024221,     0.02232,\n",
              "           0.021825,    0.021519,    0.021214,     0.02078,     0.02027,     0.01976,    0.019393,    0.019087,     0.01723,    0.016719,    0.015252,    0.014906,    0.014649,    0.014393,    0.013339,    0.013031,    0.012763,    0.012543,    0.012323,    0.010583,    0.010068,   0.0094033,   0.0080305,\n",
              "          0.0075653,   0.0074103,   0.0072553,   0.0071003,   0.0069453,   0.0066266,    0.005985,   0.0056745,    0.005364,   0.0051287,   0.0049068,   0.0046848,   0.0045595,   0.0045601,   0.0045606,   0.0045506,   0.0040322,   0.0036785,   0.0034562,   0.0032338,   0.0030114,   0.0027889,   0.0025663,\n",
              "          0.0023438,   0.0015229,   0.0015232,   0.0015102,   0.0014934,   0.0014767,   0.0014599,   0.0014431,   0.0014263,   0.0014095,   0.0013928,    0.001376,   0.0013592,   0.0013424,   0.0013257,   0.0013089,   0.0012921,   0.0012753,   0.0012585,   0.0012418,    0.001225,   0.0012082,   0.0011914,\n",
              "          0.0011746,   0.0011578,   0.0011411,   0.0011243,   0.0011075,   0.0010907,   0.0010739,   0.0010571,   0.0010404,   0.0010236,   0.0010068,  0.00099001,  0.00097322,  0.00095644,  0.00093965,  0.00092287,  0.00090608,   0.0008893,  0.00087251,  0.00085572,  0.00083893,  0.00082215,  0.00080536,\n",
              "         0.00078857,  0.00077178,           0,           0,           0,           0,           0,           0,           0,           0,           0,           0,           0,           0,           0,           0,           0,           0,           0,           0,           0,           0,           0,\n",
              "                  0,           0,           0,           0,           0,           0,           0,           0,           0,           0,           0,           0,           0,           0,           0,           0,           0,           0,           0,           0,           0,           0,           0,\n",
              "                  0,           0,           0,           0,           0,           0,           0,           0,           0,           0,           0,           0,           0,           0,           0,           0,           0,           0,           0,           0,           0,           0,           0,\n",
              "                  0,           0,           0,           0,           0,           0,           0,           0,           0,           0,           0,           0,           0,           0,           0,           0,           0,           0,           0,           0,           0,           0,           0,\n",
              "                  0,           0,           0,           0,           0,           0,           0,           0,           0,           0,           0,           0,           0,           0,           0,           0,           0,           0,           0,           0,           0,           0,           0,\n",
              "                  0,           0,           0,           0,           0,           0,           0,           0,           0,           0,           0]]), 'Confidence', 'F1'], [array([          0,    0.001001,    0.002002,    0.003003,    0.004004,    0.005005,    0.006006,    0.007007,    0.008008,    0.009009,     0.01001,    0.011011,    0.012012,    0.013013,    0.014014,    0.015015,    0.016016,    0.017017,    0.018018,    0.019019,     0.02002,    0.021021,    0.022022,    0.023023,\n",
              "          0.024024,    0.025025,    0.026026,    0.027027,    0.028028,    0.029029,     0.03003,    0.031031,    0.032032,    0.033033,    0.034034,    0.035035,    0.036036,    0.037037,    0.038038,    0.039039,     0.04004,    0.041041,    0.042042,    0.043043,    0.044044,    0.045045,    0.046046,    0.047047,\n",
              "          0.048048,    0.049049,     0.05005,    0.051051,    0.052052,    0.053053,    0.054054,    0.055055,    0.056056,    0.057057,    0.058058,    0.059059,     0.06006,    0.061061,    0.062062,    0.063063,    0.064064,    0.065065,    0.066066,    0.067067,    0.068068,    0.069069,     0.07007,    0.071071,\n",
              "          0.072072,    0.073073,    0.074074,    0.075075,    0.076076,    0.077077,    0.078078,    0.079079,     0.08008,    0.081081,    0.082082,    0.083083,    0.084084,    0.085085,    0.086086,    0.087087,    0.088088,    0.089089,     0.09009,    0.091091,    0.092092,    0.093093,    0.094094,    0.095095,\n",
              "          0.096096,    0.097097,    0.098098,    0.099099,      0.1001,      0.1011,      0.1021,      0.1031,      0.1041,     0.10511,     0.10611,     0.10711,     0.10811,     0.10911,     0.11011,     0.11111,     0.11211,     0.11311,     0.11411,     0.11512,     0.11612,     0.11712,     0.11812,     0.11912,\n",
              "           0.12012,     0.12112,     0.12212,     0.12312,     0.12412,     0.12513,     0.12613,     0.12713,     0.12813,     0.12913,     0.13013,     0.13113,     0.13213,     0.13313,     0.13413,     0.13514,     0.13614,     0.13714,     0.13814,     0.13914,     0.14014,     0.14114,     0.14214,     0.14314,\n",
              "           0.14414,     0.14515,     0.14615,     0.14715,     0.14815,     0.14915,     0.15015,     0.15115,     0.15215,     0.15315,     0.15415,     0.15516,     0.15616,     0.15716,     0.15816,     0.15916,     0.16016,     0.16116,     0.16216,     0.16316,     0.16416,     0.16517,     0.16617,     0.16717,\n",
              "           0.16817,     0.16917,     0.17017,     0.17117,     0.17217,     0.17317,     0.17417,     0.17518,     0.17618,     0.17718,     0.17818,     0.17918,     0.18018,     0.18118,     0.18218,     0.18318,     0.18418,     0.18519,     0.18619,     0.18719,     0.18819,     0.18919,     0.19019,     0.19119,\n",
              "           0.19219,     0.19319,     0.19419,      0.1952,      0.1962,      0.1972,      0.1982,      0.1992,      0.2002,      0.2012,      0.2022,      0.2032,      0.2042,     0.20521,     0.20621,     0.20721,     0.20821,     0.20921,     0.21021,     0.21121,     0.21221,     0.21321,     0.21421,     0.21522,\n",
              "           0.21622,     0.21722,     0.21822,     0.21922,     0.22022,     0.22122,     0.22222,     0.22322,     0.22422,     0.22523,     0.22623,     0.22723,     0.22823,     0.22923,     0.23023,     0.23123,     0.23223,     0.23323,     0.23423,     0.23524,     0.23624,     0.23724,     0.23824,     0.23924,\n",
              "           0.24024,     0.24124,     0.24224,     0.24324,     0.24424,     0.24525,     0.24625,     0.24725,     0.24825,     0.24925,     0.25025,     0.25125,     0.25225,     0.25325,     0.25425,     0.25526,     0.25626,     0.25726,     0.25826,     0.25926,     0.26026,     0.26126,     0.26226,     0.26326,\n",
              "           0.26426,     0.26527,     0.26627,     0.26727,     0.26827,     0.26927,     0.27027,     0.27127,     0.27227,     0.27327,     0.27427,     0.27528,     0.27628,     0.27728,     0.27828,     0.27928,     0.28028,     0.28128,     0.28228,     0.28328,     0.28428,     0.28529,     0.28629,     0.28729,\n",
              "           0.28829,     0.28929,     0.29029,     0.29129,     0.29229,     0.29329,     0.29429,      0.2953,      0.2963,      0.2973,      0.2983,      0.2993,      0.3003,      0.3013,      0.3023,      0.3033,      0.3043,     0.30531,     0.30631,     0.30731,     0.30831,     0.30931,     0.31031,     0.31131,\n",
              "           0.31231,     0.31331,     0.31431,     0.31532,     0.31632,     0.31732,     0.31832,     0.31932,     0.32032,     0.32132,     0.32232,     0.32332,     0.32432,     0.32533,     0.32633,     0.32733,     0.32833,     0.32933,     0.33033,     0.33133,     0.33233,     0.33333,     0.33433,     0.33534,\n",
              "           0.33634,     0.33734,     0.33834,     0.33934,     0.34034,     0.34134,     0.34234,     0.34334,     0.34434,     0.34535,     0.34635,     0.34735,     0.34835,     0.34935,     0.35035,     0.35135,     0.35235,     0.35335,     0.35435,     0.35536,     0.35636,     0.35736,     0.35836,     0.35936,\n",
              "           0.36036,     0.36136,     0.36236,     0.36336,     0.36436,     0.36537,     0.36637,     0.36737,     0.36837,     0.36937,     0.37037,     0.37137,     0.37237,     0.37337,     0.37437,     0.37538,     0.37638,     0.37738,     0.37838,     0.37938,     0.38038,     0.38138,     0.38238,     0.38338,\n",
              "           0.38438,     0.38539,     0.38639,     0.38739,     0.38839,     0.38939,     0.39039,     0.39139,     0.39239,     0.39339,     0.39439,      0.3954,      0.3964,      0.3974,      0.3984,      0.3994,      0.4004,      0.4014,      0.4024,      0.4034,      0.4044,     0.40541,     0.40641,     0.40741,\n",
              "           0.40841,     0.40941,     0.41041,     0.41141,     0.41241,     0.41341,     0.41441,     0.41542,     0.41642,     0.41742,     0.41842,     0.41942,     0.42042,     0.42142,     0.42242,     0.42342,     0.42442,     0.42543,     0.42643,     0.42743,     0.42843,     0.42943,     0.43043,     0.43143,\n",
              "           0.43243,     0.43343,     0.43443,     0.43544,     0.43644,     0.43744,     0.43844,     0.43944,     0.44044,     0.44144,     0.44244,     0.44344,     0.44444,     0.44545,     0.44645,     0.44745,     0.44845,     0.44945,     0.45045,     0.45145,     0.45245,     0.45345,     0.45445,     0.45546,\n",
              "           0.45646,     0.45746,     0.45846,     0.45946,     0.46046,     0.46146,     0.46246,     0.46346,     0.46446,     0.46547,     0.46647,     0.46747,     0.46847,     0.46947,     0.47047,     0.47147,     0.47247,     0.47347,     0.47447,     0.47548,     0.47648,     0.47748,     0.47848,     0.47948,\n",
              "           0.48048,     0.48148,     0.48248,     0.48348,     0.48448,     0.48549,     0.48649,     0.48749,     0.48849,     0.48949,     0.49049,     0.49149,     0.49249,     0.49349,     0.49449,      0.4955,      0.4965,      0.4975,      0.4985,      0.4995,      0.5005,      0.5015,      0.5025,      0.5035,\n",
              "            0.5045,     0.50551,     0.50651,     0.50751,     0.50851,     0.50951,     0.51051,     0.51151,     0.51251,     0.51351,     0.51451,     0.51552,     0.51652,     0.51752,     0.51852,     0.51952,     0.52052,     0.52152,     0.52252,     0.52352,     0.52452,     0.52553,     0.52653,     0.52753,\n",
              "           0.52853,     0.52953,     0.53053,     0.53153,     0.53253,     0.53353,     0.53453,     0.53554,     0.53654,     0.53754,     0.53854,     0.53954,     0.54054,     0.54154,     0.54254,     0.54354,     0.54454,     0.54555,     0.54655,     0.54755,     0.54855,     0.54955,     0.55055,     0.55155,\n",
              "           0.55255,     0.55355,     0.55455,     0.55556,     0.55656,     0.55756,     0.55856,     0.55956,     0.56056,     0.56156,     0.56256,     0.56356,     0.56456,     0.56557,     0.56657,     0.56757,     0.56857,     0.56957,     0.57057,     0.57157,     0.57257,     0.57357,     0.57457,     0.57558,\n",
              "           0.57658,     0.57758,     0.57858,     0.57958,     0.58058,     0.58158,     0.58258,     0.58358,     0.58458,     0.58559,     0.58659,     0.58759,     0.58859,     0.58959,     0.59059,     0.59159,     0.59259,     0.59359,     0.59459,      0.5956,      0.5966,      0.5976,      0.5986,      0.5996,\n",
              "            0.6006,      0.6016,      0.6026,      0.6036,      0.6046,     0.60561,     0.60661,     0.60761,     0.60861,     0.60961,     0.61061,     0.61161,     0.61261,     0.61361,     0.61461,     0.61562,     0.61662,     0.61762,     0.61862,     0.61962,     0.62062,     0.62162,     0.62262,     0.62362,\n",
              "           0.62462,     0.62563,     0.62663,     0.62763,     0.62863,     0.62963,     0.63063,     0.63163,     0.63263,     0.63363,     0.63463,     0.63564,     0.63664,     0.63764,     0.63864,     0.63964,     0.64064,     0.64164,     0.64264,     0.64364,     0.64464,     0.64565,     0.64665,     0.64765,\n",
              "           0.64865,     0.64965,     0.65065,     0.65165,     0.65265,     0.65365,     0.65465,     0.65566,     0.65666,     0.65766,     0.65866,     0.65966,     0.66066,     0.66166,     0.66266,     0.66366,     0.66466,     0.66567,     0.66667,     0.66767,     0.66867,     0.66967,     0.67067,     0.67167,\n",
              "           0.67267,     0.67367,     0.67467,     0.67568,     0.67668,     0.67768,     0.67868,     0.67968,     0.68068,     0.68168,     0.68268,     0.68368,     0.68468,     0.68569,     0.68669,     0.68769,     0.68869,     0.68969,     0.69069,     0.69169,     0.69269,     0.69369,     0.69469,      0.6957,\n",
              "            0.6967,      0.6977,      0.6987,      0.6997,      0.7007,      0.7017,      0.7027,      0.7037,      0.7047,     0.70571,     0.70671,     0.70771,     0.70871,     0.70971,     0.71071,     0.71171,     0.71271,     0.71371,     0.71471,     0.71572,     0.71672,     0.71772,     0.71872,     0.71972,\n",
              "           0.72072,     0.72172,     0.72272,     0.72372,     0.72472,     0.72573,     0.72673,     0.72773,     0.72873,     0.72973,     0.73073,     0.73173,     0.73273,     0.73373,     0.73473,     0.73574,     0.73674,     0.73774,     0.73874,     0.73974,     0.74074,     0.74174,     0.74274,     0.74374,\n",
              "           0.74474,     0.74575,     0.74675,     0.74775,     0.74875,     0.74975,     0.75075,     0.75175,     0.75275,     0.75375,     0.75475,     0.75576,     0.75676,     0.75776,     0.75876,     0.75976,     0.76076,     0.76176,     0.76276,     0.76376,     0.76476,     0.76577,     0.76677,     0.76777,\n",
              "           0.76877,     0.76977,     0.77077,     0.77177,     0.77277,     0.77377,     0.77477,     0.77578,     0.77678,     0.77778,     0.77878,     0.77978,     0.78078,     0.78178,     0.78278,     0.78378,     0.78478,     0.78579,     0.78679,     0.78779,     0.78879,     0.78979,     0.79079,     0.79179,\n",
              "           0.79279,     0.79379,     0.79479,      0.7958,      0.7968,      0.7978,      0.7988,      0.7998,      0.8008,      0.8018,      0.8028,      0.8038,      0.8048,     0.80581,     0.80681,     0.80781,     0.80881,     0.80981,     0.81081,     0.81181,     0.81281,     0.81381,     0.81481,     0.81582,\n",
              "           0.81682,     0.81782,     0.81882,     0.81982,     0.82082,     0.82182,     0.82282,     0.82382,     0.82482,     0.82583,     0.82683,     0.82783,     0.82883,     0.82983,     0.83083,     0.83183,     0.83283,     0.83383,     0.83483,     0.83584,     0.83684,     0.83784,     0.83884,     0.83984,\n",
              "           0.84084,     0.84184,     0.84284,     0.84384,     0.84484,     0.84585,     0.84685,     0.84785,     0.84885,     0.84985,     0.85085,     0.85185,     0.85285,     0.85385,     0.85485,     0.85586,     0.85686,     0.85786,     0.85886,     0.85986,     0.86086,     0.86186,     0.86286,     0.86386,\n",
              "           0.86486,     0.86587,     0.86687,     0.86787,     0.86887,     0.86987,     0.87087,     0.87187,     0.87287,     0.87387,     0.87487,     0.87588,     0.87688,     0.87788,     0.87888,     0.87988,     0.88088,     0.88188,     0.88288,     0.88388,     0.88488,     0.88589,     0.88689,     0.88789,\n",
              "           0.88889,     0.88989,     0.89089,     0.89189,     0.89289,     0.89389,     0.89489,      0.8959,      0.8969,      0.8979,      0.8989,      0.8999,      0.9009,      0.9019,      0.9029,      0.9039,      0.9049,     0.90591,     0.90691,     0.90791,     0.90891,     0.90991,     0.91091,     0.91191,\n",
              "           0.91291,     0.91391,     0.91491,     0.91592,     0.91692,     0.91792,     0.91892,     0.91992,     0.92092,     0.92192,     0.92292,     0.92392,     0.92492,     0.92593,     0.92693,     0.92793,     0.92893,     0.92993,     0.93093,     0.93193,     0.93293,     0.93393,     0.93493,     0.93594,\n",
              "           0.93694,     0.93794,     0.93894,     0.93994,     0.94094,     0.94194,     0.94294,     0.94394,     0.94494,     0.94595,     0.94695,     0.94795,     0.94895,     0.94995,     0.95095,     0.95195,     0.95295,     0.95395,     0.95495,     0.95596,     0.95696,     0.95796,     0.95896,     0.95996,\n",
              "           0.96096,     0.96196,     0.96296,     0.96396,     0.96496,     0.96597,     0.96697,     0.96797,     0.96897,     0.96997,     0.97097,     0.97197,     0.97297,     0.97397,     0.97497,     0.97598,     0.97698,     0.97798,     0.97898,     0.97998,     0.98098,     0.98198,     0.98298,     0.98398,\n",
              "           0.98498,     0.98599,     0.98699,     0.98799,     0.98899,     0.98999,     0.99099,     0.99199,     0.99299,     0.99399,     0.99499,       0.996,       0.997,       0.998,       0.999,           1]), array([[   0.070267,    0.070267,     0.07424,    0.080458,    0.087922,    0.096134,     0.10466,       0.113,     0.12138,     0.12906,     0.13683,     0.14299,      0.1493,     0.15589,      0.1619,     0.16787,     0.17373,     0.17989,     0.18534,     0.19189,     0.19764,     0.20254,     0.20784,\n",
              "            0.21355,     0.21831,     0.22318,     0.22782,     0.23212,     0.23773,     0.24102,     0.24617,     0.25094,     0.25381,      0.2577,     0.26153,     0.26626,      0.2698,     0.27367,     0.27848,     0.28258,     0.28718,     0.29126,     0.29483,     0.29898,     0.30221,      0.3051,\n",
              "            0.30885,     0.31199,     0.31581,      0.3184,     0.32225,     0.32479,     0.32779,     0.33099,     0.33484,     0.33853,     0.34067,     0.34369,     0.34696,     0.34951,      0.3525,     0.35585,     0.35876,     0.36197,     0.36517,     0.36838,     0.37071,     0.37331,     0.37696,\n",
              "            0.37898,     0.38164,     0.38525,     0.38818,     0.39061,      0.3933,     0.39551,      0.3966,     0.40004,     0.40333,     0.40464,     0.40666,     0.40891,     0.41034,     0.41318,     0.41509,     0.41833,     0.42028,     0.42321,     0.42594,     0.42767,     0.43109,     0.43434,\n",
              "             0.4371,     0.43973,     0.44254,     0.44398,     0.44618,     0.45007,     0.45282,     0.45437,      0.4566,     0.45852,     0.46042,     0.46199,     0.46304,     0.46498,     0.46819,     0.47074,     0.47293,     0.47554,     0.47721,     0.47895,     0.48142,     0.48409,      0.4845,\n",
              "             0.4872,     0.48881,     0.49079,     0.49319,     0.49498,     0.49697,     0.49946,         0.5,      0.5023,     0.50359,     0.50567,     0.50682,      0.5077,     0.50924,     0.51037,     0.51105,     0.51255,     0.51454,     0.51553,      0.5164,      0.5178,     0.52094,     0.52383,\n",
              "            0.52594,     0.52798,     0.52981,     0.53149,     0.53295,     0.53443,     0.53496,     0.53664,     0.53973,     0.54121,     0.54267,     0.54413,     0.54515,      0.5481,     0.55012,     0.55162,     0.55369,     0.55546,     0.55674,     0.55716,     0.55793,     0.55975,     0.56157,\n",
              "            0.56468,     0.56498,     0.56526,     0.56631,      0.5692,     0.56983,     0.57086,     0.57407,     0.57677,     0.57977,     0.58128,     0.58235,     0.58366,     0.58617,     0.58904,     0.59019,     0.59081,     0.59171,     0.59465,     0.59509,     0.59646,     0.59748,      0.5998,\n",
              "            0.60211,      0.6047,     0.60594,     0.60768,     0.60824,     0.60813,     0.60943,     0.61026,     0.61204,     0.61383,     0.61435,     0.61596,     0.61712,     0.61738,     0.61921,     0.62007,     0.62239,     0.62271,     0.62358,     0.62518,     0.62552,     0.62687,     0.62736,\n",
              "             0.6275,     0.63088,     0.63206,     0.63289,     0.63339,     0.63542,     0.63568,     0.63667,     0.63754,     0.63818,     0.63896,     0.63924,     0.63953,     0.64168,     0.64253,     0.64375,     0.64408,     0.64511,      0.6456,     0.64648,     0.64774,      0.6481,     0.64839,\n",
              "               0.65,     0.65107,     0.65307,     0.65358,      0.6545,     0.65573,     0.65599,     0.65777,     0.65897,     0.65972,     0.66157,     0.66309,     0.66592,     0.66645,     0.66776,     0.66907,     0.66999,     0.67092,     0.67265,     0.67336,     0.67412,     0.67546,      0.6768,\n",
              "            0.67768,     0.67723,     0.67786,     0.67904,     0.68121,     0.68299,     0.68339,     0.68395,      0.6849,      0.6847,     0.68568,     0.68636,     0.68705,     0.68841,      0.6888,     0.68957,     0.69158,     0.69149,     0.69228,     0.69261,      0.6936,     0.69436,     0.69562,\n",
              "            0.69612,     0.69677,     0.69823,     0.69932,     0.70017,      0.7011,     0.70276,      0.7032,     0.70303,     0.70292,      0.7046,     0.70585,     0.70683,     0.70709,     0.71034,       0.711,     0.71131,     0.71227,     0.71204,     0.71289,     0.71324,     0.71387,     0.71417,\n",
              "            0.71443,     0.71747,     0.71865,     0.71917,      0.7203,     0.72102,     0.72134,     0.72123,     0.72192,     0.72151,     0.72252,     0.72365,     0.72519,     0.72602,     0.72653,     0.72672,      0.7273,     0.72834,     0.72895,     0.72932,     0.73052,     0.73018,     0.73041,\n",
              "            0.73119,      0.7313,     0.73075,     0.73104,     0.73165,     0.73386,     0.73527,     0.73676,     0.73865,      0.7403,     0.74009,     0.74063,      0.7407,     0.74146,     0.74358,     0.74447,     0.74447,     0.74563,     0.74635,     0.74824,     0.74866,     0.74897,     0.74908,\n",
              "            0.74902,     0.74921,     0.74941,      0.7515,     0.75167,     0.75187,     0.75327,     0.75363,     0.75365,     0.75403,     0.75467,     0.75537,     0.75607,     0.75655,     0.75644,     0.75788,     0.75952,     0.75981,     0.75969,     0.75985,        0.76,     0.76016,     0.76279,\n",
              "            0.76269,     0.76397,     0.76425,      0.7642,     0.76416,     0.76411,     0.76461,     0.76452,     0.76442,     0.76431,     0.76484,     0.76475,     0.76578,     0.76708,     0.76738,     0.76768,     0.76798,     0.76782,      0.7685,     0.76947,     0.76938,     0.77113,     0.77223,\n",
              "            0.77214,     0.77292,     0.77323,     0.77324,     0.77369,     0.77353,     0.77384,     0.77538,     0.77569,     0.77708,     0.77744,     0.77727,     0.77718,     0.77753,     0.77743,     0.77716,     0.77801,     0.77833,       0.779,     0.77891,     0.77938,      0.7797,     0.78034,\n",
              "            0.78023,     0.78185,     0.78176,     0.78241,     0.78232,      0.7834,     0.78405,     0.78325,     0.78316,     0.78334,     0.78386,      0.7842,     0.78565,     0.78598,     0.78736,     0.78727,     0.78813,     0.78804,     0.78989,      0.7898,     0.78998,     0.79031,     0.79066,\n",
              "            0.79057,     0.79115,     0.79184,     0.79345,     0.79379,     0.79565,       0.796,     0.79632,     0.79623,     0.79858,     0.79894,     0.79946,     0.79982,      0.8021,      0.8028,     0.80271,     0.80262,     0.80252,     0.80366,     0.80402,     0.80441,     0.80477,     0.80497,\n",
              "            0.80533,     0.80548,      0.8054,      0.8055,     0.80542,     0.80817,     0.80854,     0.80847,     0.80838,     0.81232,      0.8127,     0.81266,     0.81257,     0.81214,     0.81205,      0.8122,     0.81258,     0.81387,     0.81378,     0.81274,     0.81457,     0.81448,     0.81442,\n",
              "            0.81481,     0.81739,      0.8173,     0.81754,     0.81736,     0.81738,     0.81779,     0.81829,      0.8187,     0.82019,      0.8206,     0.82147,     0.82189,      0.8221,     0.82201,      0.8222,     0.82211,     0.82213,     0.82204,     0.82425,     0.82416,     0.82537,     0.82528,\n",
              "            0.82598,     0.82589,     0.82528,     0.82571,     0.82777,     0.82768,     0.82934,     0.82978,     0.83238,     0.83229,     0.83361,     0.83352,     0.83341,     0.83386,      0.8352,     0.83603,     0.83594,     0.83501,     0.83548,     0.83689,     0.83736,      0.8383,     0.83821,\n",
              "            0.83753,     0.83801,      0.8393,     0.83921,     0.84202,     0.84192,     0.84285,     0.84276,     0.84371,     0.84421,     0.84548,     0.84539,     0.84557,     0.84547,     0.84547,     0.84537,     0.84573,     0.84564,     0.84563,     0.84554,     0.84618,     0.84608,      0.8476,\n",
              "            0.84813,     0.84986,     0.84977,      0.8491,     0.84964,     0.85173,     0.85494,     0.85484,     0.85401,     0.85392,     0.85709,     0.85765,     0.85801,     0.85791,     0.85745,     0.85736,     0.85708,     0.85698,     0.85726,     0.85716,     0.85979,     0.85969,     0.86139,\n",
              "              0.862,     0.86145,     0.86135,     0.86188,     0.86178,      0.8605,     0.86266,     0.86252,     0.86331,     0.86321,     0.86424,     0.86489,      0.8684,     0.86906,     0.87077,     0.87145,     0.87187,     0.87177,     0.87009,     0.86998,     0.87449,     0.87548,     0.87619,\n",
              "            0.87734,     0.87724,     0.87657,     0.87729,     0.87759,     0.87749,     0.87803,     0.87792,     0.87845,     0.88061,     0.88137,     0.88173,     0.88163,     0.88031,     0.88021,      0.8801,        0.88,     0.88428,     0.88533,     0.88454,     0.88533,     0.88541,      0.8849,\n",
              "            0.88572,     0.88503,     0.88492,     0.88417,     0.88403,     0.88173,     0.88161,     0.88182,     0.88171,     0.89041,     0.89129,     0.89248,     0.89375,     0.89364,     0.89524,     0.89512,     0.89724,     0.89851,     0.89691,     0.90022,      0.9001,     0.90286,     0.90271,\n",
              "            0.90216,     0.90204,     0.90264,     0.90253,     0.90466,      0.9063,     0.90618,     0.90644,     0.90633,      0.9115,     0.91135,     0.90945,     0.90933,     0.91525,     0.91468,     0.91456,     0.91287,     0.91275,     0.91366,     0.91291,     0.91278,     0.91166,     0.91148,\n",
              "            0.90953,     0.90939,     0.90842,     0.90743,     0.90728,     0.90912,     0.91102,     0.90925,     0.90911,     0.90717,     0.90873,     0.90858,      0.9096,     0.90847,     0.90831,     0.91064,     0.91043,      0.9077,     0.90753,      0.9053,     0.91075,     0.91058,     0.90834,\n",
              "             0.9081,      0.9061,     0.90592,     0.90417,     0.90564,     0.90538,     0.90777,     0.90757,      0.9222,     0.91952,     0.92093,     0.92074,     0.91941,     0.91915,     0.92179,      0.9246,      0.9244,     0.92627,       0.926,     0.92493,     0.92852,     0.92832,     0.93055,\n",
              "            0.93027,     0.93219,     0.93241,     0.93212,     0.93652,     0.93631,     0.94053,     0.93905,     0.94482,     0.94455,     0.94274,     0.94252,      0.9468,     0.95234,     0.95208,     0.95022,     0.94865,     0.94834,     0.94665,     0.94433,     0.94398,     0.94206,     0.94178,\n",
              "            0.94866,     0.94363,      0.9432,     0.94141,     0.94023,       0.939,     0.93849,     0.93557,      0.9333,     0.93299,     0.93268,     0.93043,     0.92976,     0.93616,     0.94014,     0.93952,      0.9352,     0.93483,     0.93447,     0.93377,     0.93188,     0.93108,      0.9264,\n",
              "            0.92258,     0.92155,     0.92048,     0.93423,     0.93179,      0.9315,      0.9312,      0.9309,     0.93061,     0.93031,     0.92771,     0.92483,     0.92417,     0.92351,     0.92238,     0.92412,     0.93262,     0.94113,     0.94397,     0.94289,     0.94219,      0.9415,     0.93677,\n",
              "            0.93542,     0.93454,     0.93366,     0.93235,     0.93076,     0.92907,     0.92781,     0.92673,      0.9194,     0.91712,      0.9098,     0.90787,     0.90639,     0.90491,     0.89806,     0.89591,     0.89395,     0.89224,     0.89053,     0.87475,     0.86906,       0.861,     0.84085,\n",
              "            0.83289,     0.82979,     0.82668,     0.82358,     0.82047,     0.81327,     0.79738,     0.78826,     0.77915,     0.77087,     0.76273,      0.7546,     0.76364,     0.79501,     0.82639,     0.85682,     0.84055,      0.8279,     0.81814,     0.80838,     0.79792,     0.78328,     0.76863,\n",
              "            0.75399,     0.79096,      0.9618,           1,           1,           1,           1,           1,           1,           1,           1,           1,           1,           1,           1,           1,           1,           1,           1,           1,           1,           1,           1,\n",
              "                  1,           1,           1,           1,           1,           1,           1,           1,           1,           1,           1,           1,           1,           1,           1,           1,           1,           1,           1,           1,           1,           1,           1,\n",
              "                  1,           1,           1,           1,           1,           1,           1,           1,           1,           1,           1,           1,           1,           1,           1,           1,           1,           1,           1,           1,           1,           1,           1,\n",
              "                  1,           1,           1,           1,           1,           1,           1,           1,           1,           1,           1,           1,           1,           1,           1,           1,           1,           1,           1,           1,           1,           1,           1,\n",
              "                  1,           1,           1,           1,           1,           1,           1,           1,           1,           1,           1,           1,           1,           1,           1,           1,           1,           1,           1,           1,           1,           1,           1,\n",
              "                  1,           1,           1,           1,           1,           1,           1,           1,           1,           1,           1,           1,           1,           1,           1,           1,           1,           1,           1,           1,           1,           1,           1,\n",
              "                  1,           1,           1,           1,           1,           1,           1,           1,           1,           1,           1,           1,           1,           1,           1,           1,           1,           1,           1,           1,           1,           1,           1,\n",
              "                  1,           1,           1,           1,           1,           1,           1,           1,           1,           1,           1]]), 'Confidence', 'Precision'], [array([          0,    0.001001,    0.002002,    0.003003,    0.004004,    0.005005,    0.006006,    0.007007,    0.008008,    0.009009,     0.01001,    0.011011,    0.012012,    0.013013,    0.014014,    0.015015,    0.016016,    0.017017,    0.018018,    0.019019,     0.02002,    0.021021,    0.022022,    0.023023,\n",
              "          0.024024,    0.025025,    0.026026,    0.027027,    0.028028,    0.029029,     0.03003,    0.031031,    0.032032,    0.033033,    0.034034,    0.035035,    0.036036,    0.037037,    0.038038,    0.039039,     0.04004,    0.041041,    0.042042,    0.043043,    0.044044,    0.045045,    0.046046,    0.047047,\n",
              "          0.048048,    0.049049,     0.05005,    0.051051,    0.052052,    0.053053,    0.054054,    0.055055,    0.056056,    0.057057,    0.058058,    0.059059,     0.06006,    0.061061,    0.062062,    0.063063,    0.064064,    0.065065,    0.066066,    0.067067,    0.068068,    0.069069,     0.07007,    0.071071,\n",
              "          0.072072,    0.073073,    0.074074,    0.075075,    0.076076,    0.077077,    0.078078,    0.079079,     0.08008,    0.081081,    0.082082,    0.083083,    0.084084,    0.085085,    0.086086,    0.087087,    0.088088,    0.089089,     0.09009,    0.091091,    0.092092,    0.093093,    0.094094,    0.095095,\n",
              "          0.096096,    0.097097,    0.098098,    0.099099,      0.1001,      0.1011,      0.1021,      0.1031,      0.1041,     0.10511,     0.10611,     0.10711,     0.10811,     0.10911,     0.11011,     0.11111,     0.11211,     0.11311,     0.11411,     0.11512,     0.11612,     0.11712,     0.11812,     0.11912,\n",
              "           0.12012,     0.12112,     0.12212,     0.12312,     0.12412,     0.12513,     0.12613,     0.12713,     0.12813,     0.12913,     0.13013,     0.13113,     0.13213,     0.13313,     0.13413,     0.13514,     0.13614,     0.13714,     0.13814,     0.13914,     0.14014,     0.14114,     0.14214,     0.14314,\n",
              "           0.14414,     0.14515,     0.14615,     0.14715,     0.14815,     0.14915,     0.15015,     0.15115,     0.15215,     0.15315,     0.15415,     0.15516,     0.15616,     0.15716,     0.15816,     0.15916,     0.16016,     0.16116,     0.16216,     0.16316,     0.16416,     0.16517,     0.16617,     0.16717,\n",
              "           0.16817,     0.16917,     0.17017,     0.17117,     0.17217,     0.17317,     0.17417,     0.17518,     0.17618,     0.17718,     0.17818,     0.17918,     0.18018,     0.18118,     0.18218,     0.18318,     0.18418,     0.18519,     0.18619,     0.18719,     0.18819,     0.18919,     0.19019,     0.19119,\n",
              "           0.19219,     0.19319,     0.19419,      0.1952,      0.1962,      0.1972,      0.1982,      0.1992,      0.2002,      0.2012,      0.2022,      0.2032,      0.2042,     0.20521,     0.20621,     0.20721,     0.20821,     0.20921,     0.21021,     0.21121,     0.21221,     0.21321,     0.21421,     0.21522,\n",
              "           0.21622,     0.21722,     0.21822,     0.21922,     0.22022,     0.22122,     0.22222,     0.22322,     0.22422,     0.22523,     0.22623,     0.22723,     0.22823,     0.22923,     0.23023,     0.23123,     0.23223,     0.23323,     0.23423,     0.23524,     0.23624,     0.23724,     0.23824,     0.23924,\n",
              "           0.24024,     0.24124,     0.24224,     0.24324,     0.24424,     0.24525,     0.24625,     0.24725,     0.24825,     0.24925,     0.25025,     0.25125,     0.25225,     0.25325,     0.25425,     0.25526,     0.25626,     0.25726,     0.25826,     0.25926,     0.26026,     0.26126,     0.26226,     0.26326,\n",
              "           0.26426,     0.26527,     0.26627,     0.26727,     0.26827,     0.26927,     0.27027,     0.27127,     0.27227,     0.27327,     0.27427,     0.27528,     0.27628,     0.27728,     0.27828,     0.27928,     0.28028,     0.28128,     0.28228,     0.28328,     0.28428,     0.28529,     0.28629,     0.28729,\n",
              "           0.28829,     0.28929,     0.29029,     0.29129,     0.29229,     0.29329,     0.29429,      0.2953,      0.2963,      0.2973,      0.2983,      0.2993,      0.3003,      0.3013,      0.3023,      0.3033,      0.3043,     0.30531,     0.30631,     0.30731,     0.30831,     0.30931,     0.31031,     0.31131,\n",
              "           0.31231,     0.31331,     0.31431,     0.31532,     0.31632,     0.31732,     0.31832,     0.31932,     0.32032,     0.32132,     0.32232,     0.32332,     0.32432,     0.32533,     0.32633,     0.32733,     0.32833,     0.32933,     0.33033,     0.33133,     0.33233,     0.33333,     0.33433,     0.33534,\n",
              "           0.33634,     0.33734,     0.33834,     0.33934,     0.34034,     0.34134,     0.34234,     0.34334,     0.34434,     0.34535,     0.34635,     0.34735,     0.34835,     0.34935,     0.35035,     0.35135,     0.35235,     0.35335,     0.35435,     0.35536,     0.35636,     0.35736,     0.35836,     0.35936,\n",
              "           0.36036,     0.36136,     0.36236,     0.36336,     0.36436,     0.36537,     0.36637,     0.36737,     0.36837,     0.36937,     0.37037,     0.37137,     0.37237,     0.37337,     0.37437,     0.37538,     0.37638,     0.37738,     0.37838,     0.37938,     0.38038,     0.38138,     0.38238,     0.38338,\n",
              "           0.38438,     0.38539,     0.38639,     0.38739,     0.38839,     0.38939,     0.39039,     0.39139,     0.39239,     0.39339,     0.39439,      0.3954,      0.3964,      0.3974,      0.3984,      0.3994,      0.4004,      0.4014,      0.4024,      0.4034,      0.4044,     0.40541,     0.40641,     0.40741,\n",
              "           0.40841,     0.40941,     0.41041,     0.41141,     0.41241,     0.41341,     0.41441,     0.41542,     0.41642,     0.41742,     0.41842,     0.41942,     0.42042,     0.42142,     0.42242,     0.42342,     0.42442,     0.42543,     0.42643,     0.42743,     0.42843,     0.42943,     0.43043,     0.43143,\n",
              "           0.43243,     0.43343,     0.43443,     0.43544,     0.43644,     0.43744,     0.43844,     0.43944,     0.44044,     0.44144,     0.44244,     0.44344,     0.44444,     0.44545,     0.44645,     0.44745,     0.44845,     0.44945,     0.45045,     0.45145,     0.45245,     0.45345,     0.45445,     0.45546,\n",
              "           0.45646,     0.45746,     0.45846,     0.45946,     0.46046,     0.46146,     0.46246,     0.46346,     0.46446,     0.46547,     0.46647,     0.46747,     0.46847,     0.46947,     0.47047,     0.47147,     0.47247,     0.47347,     0.47447,     0.47548,     0.47648,     0.47748,     0.47848,     0.47948,\n",
              "           0.48048,     0.48148,     0.48248,     0.48348,     0.48448,     0.48549,     0.48649,     0.48749,     0.48849,     0.48949,     0.49049,     0.49149,     0.49249,     0.49349,     0.49449,      0.4955,      0.4965,      0.4975,      0.4985,      0.4995,      0.5005,      0.5015,      0.5025,      0.5035,\n",
              "            0.5045,     0.50551,     0.50651,     0.50751,     0.50851,     0.50951,     0.51051,     0.51151,     0.51251,     0.51351,     0.51451,     0.51552,     0.51652,     0.51752,     0.51852,     0.51952,     0.52052,     0.52152,     0.52252,     0.52352,     0.52452,     0.52553,     0.52653,     0.52753,\n",
              "           0.52853,     0.52953,     0.53053,     0.53153,     0.53253,     0.53353,     0.53453,     0.53554,     0.53654,     0.53754,     0.53854,     0.53954,     0.54054,     0.54154,     0.54254,     0.54354,     0.54454,     0.54555,     0.54655,     0.54755,     0.54855,     0.54955,     0.55055,     0.55155,\n",
              "           0.55255,     0.55355,     0.55455,     0.55556,     0.55656,     0.55756,     0.55856,     0.55956,     0.56056,     0.56156,     0.56256,     0.56356,     0.56456,     0.56557,     0.56657,     0.56757,     0.56857,     0.56957,     0.57057,     0.57157,     0.57257,     0.57357,     0.57457,     0.57558,\n",
              "           0.57658,     0.57758,     0.57858,     0.57958,     0.58058,     0.58158,     0.58258,     0.58358,     0.58458,     0.58559,     0.58659,     0.58759,     0.58859,     0.58959,     0.59059,     0.59159,     0.59259,     0.59359,     0.59459,      0.5956,      0.5966,      0.5976,      0.5986,      0.5996,\n",
              "            0.6006,      0.6016,      0.6026,      0.6036,      0.6046,     0.60561,     0.60661,     0.60761,     0.60861,     0.60961,     0.61061,     0.61161,     0.61261,     0.61361,     0.61461,     0.61562,     0.61662,     0.61762,     0.61862,     0.61962,     0.62062,     0.62162,     0.62262,     0.62362,\n",
              "           0.62462,     0.62563,     0.62663,     0.62763,     0.62863,     0.62963,     0.63063,     0.63163,     0.63263,     0.63363,     0.63463,     0.63564,     0.63664,     0.63764,     0.63864,     0.63964,     0.64064,     0.64164,     0.64264,     0.64364,     0.64464,     0.64565,     0.64665,     0.64765,\n",
              "           0.64865,     0.64965,     0.65065,     0.65165,     0.65265,     0.65365,     0.65465,     0.65566,     0.65666,     0.65766,     0.65866,     0.65966,     0.66066,     0.66166,     0.66266,     0.66366,     0.66466,     0.66567,     0.66667,     0.66767,     0.66867,     0.66967,     0.67067,     0.67167,\n",
              "           0.67267,     0.67367,     0.67467,     0.67568,     0.67668,     0.67768,     0.67868,     0.67968,     0.68068,     0.68168,     0.68268,     0.68368,     0.68468,     0.68569,     0.68669,     0.68769,     0.68869,     0.68969,     0.69069,     0.69169,     0.69269,     0.69369,     0.69469,      0.6957,\n",
              "            0.6967,      0.6977,      0.6987,      0.6997,      0.7007,      0.7017,      0.7027,      0.7037,      0.7047,     0.70571,     0.70671,     0.70771,     0.70871,     0.70971,     0.71071,     0.71171,     0.71271,     0.71371,     0.71471,     0.71572,     0.71672,     0.71772,     0.71872,     0.71972,\n",
              "           0.72072,     0.72172,     0.72272,     0.72372,     0.72472,     0.72573,     0.72673,     0.72773,     0.72873,     0.72973,     0.73073,     0.73173,     0.73273,     0.73373,     0.73473,     0.73574,     0.73674,     0.73774,     0.73874,     0.73974,     0.74074,     0.74174,     0.74274,     0.74374,\n",
              "           0.74474,     0.74575,     0.74675,     0.74775,     0.74875,     0.74975,     0.75075,     0.75175,     0.75275,     0.75375,     0.75475,     0.75576,     0.75676,     0.75776,     0.75876,     0.75976,     0.76076,     0.76176,     0.76276,     0.76376,     0.76476,     0.76577,     0.76677,     0.76777,\n",
              "           0.76877,     0.76977,     0.77077,     0.77177,     0.77277,     0.77377,     0.77477,     0.77578,     0.77678,     0.77778,     0.77878,     0.77978,     0.78078,     0.78178,     0.78278,     0.78378,     0.78478,     0.78579,     0.78679,     0.78779,     0.78879,     0.78979,     0.79079,     0.79179,\n",
              "           0.79279,     0.79379,     0.79479,      0.7958,      0.7968,      0.7978,      0.7988,      0.7998,      0.8008,      0.8018,      0.8028,      0.8038,      0.8048,     0.80581,     0.80681,     0.80781,     0.80881,     0.80981,     0.81081,     0.81181,     0.81281,     0.81381,     0.81481,     0.81582,\n",
              "           0.81682,     0.81782,     0.81882,     0.81982,     0.82082,     0.82182,     0.82282,     0.82382,     0.82482,     0.82583,     0.82683,     0.82783,     0.82883,     0.82983,     0.83083,     0.83183,     0.83283,     0.83383,     0.83483,     0.83584,     0.83684,     0.83784,     0.83884,     0.83984,\n",
              "           0.84084,     0.84184,     0.84284,     0.84384,     0.84484,     0.84585,     0.84685,     0.84785,     0.84885,     0.84985,     0.85085,     0.85185,     0.85285,     0.85385,     0.85485,     0.85586,     0.85686,     0.85786,     0.85886,     0.85986,     0.86086,     0.86186,     0.86286,     0.86386,\n",
              "           0.86486,     0.86587,     0.86687,     0.86787,     0.86887,     0.86987,     0.87087,     0.87187,     0.87287,     0.87387,     0.87487,     0.87588,     0.87688,     0.87788,     0.87888,     0.87988,     0.88088,     0.88188,     0.88288,     0.88388,     0.88488,     0.88589,     0.88689,     0.88789,\n",
              "           0.88889,     0.88989,     0.89089,     0.89189,     0.89289,     0.89389,     0.89489,      0.8959,      0.8969,      0.8979,      0.8989,      0.8999,      0.9009,      0.9019,      0.9029,      0.9039,      0.9049,     0.90591,     0.90691,     0.90791,     0.90891,     0.90991,     0.91091,     0.91191,\n",
              "           0.91291,     0.91391,     0.91491,     0.91592,     0.91692,     0.91792,     0.91892,     0.91992,     0.92092,     0.92192,     0.92292,     0.92392,     0.92492,     0.92593,     0.92693,     0.92793,     0.92893,     0.92993,     0.93093,     0.93193,     0.93293,     0.93393,     0.93493,     0.93594,\n",
              "           0.93694,     0.93794,     0.93894,     0.93994,     0.94094,     0.94194,     0.94294,     0.94394,     0.94494,     0.94595,     0.94695,     0.94795,     0.94895,     0.94995,     0.95095,     0.95195,     0.95295,     0.95395,     0.95495,     0.95596,     0.95696,     0.95796,     0.95896,     0.95996,\n",
              "           0.96096,     0.96196,     0.96296,     0.96396,     0.96496,     0.96597,     0.96697,     0.96797,     0.96897,     0.96997,     0.97097,     0.97197,     0.97297,     0.97397,     0.97497,     0.97598,     0.97698,     0.97798,     0.97898,     0.97998,     0.98098,     0.98198,     0.98298,     0.98398,\n",
              "           0.98498,     0.98599,     0.98699,     0.98799,     0.98899,     0.98999,     0.99099,     0.99199,     0.99299,     0.99399,     0.99499,       0.996,       0.997,       0.998,       0.999,           1]), array([[     0.6128,      0.6128,      0.6109,     0.60785,      0.6048,     0.60061,     0.59718,     0.59375,     0.58994,     0.58575,     0.58346,     0.57965,     0.57431,     0.57279,     0.56898,     0.56631,     0.56402,     0.56212,     0.55983,     0.55793,     0.55564,     0.55412,     0.55297,\n",
              "            0.55145,     0.54878,     0.54688,     0.54459,     0.54268,      0.5423,     0.54078,     0.54002,     0.53773,     0.53544,     0.53346,     0.53201,     0.53125,     0.52946,     0.52827,     0.52744,     0.52706,     0.52591,     0.52553,     0.52553,     0.52515,     0.52401,     0.52287,\n",
              "             0.5221,      0.5221,     0.52058,     0.51982,     0.51905,     0.51867,     0.51715,     0.51562,     0.51562,     0.51562,      0.5141,      0.5141,     0.51296,      0.5122,     0.51143,     0.51067,     0.51029,     0.50915,     0.50915,     0.50838,     0.50762,     0.50648,      0.5061,\n",
              "            0.50489,     0.50381,     0.50343,     0.50343,     0.50305,     0.50191,     0.50114,     0.50076,     0.49983,     0.49924,     0.49848,     0.49809,     0.49657,     0.49581,     0.49581,     0.49581,     0.49581,     0.49581,     0.49466,     0.49466,     0.49466,     0.49352,     0.49276,\n",
              "            0.49238,     0.49162,     0.49123,     0.49047,     0.48933,     0.48933,     0.48819,      0.4878,     0.48742,     0.48742,     0.48666,      0.4859,     0.48476,     0.48399,     0.48399,     0.48399,     0.48361,     0.48361,     0.48285,     0.48285,     0.48247,     0.48209,     0.48018,\n",
              "             0.4798,     0.47942,     0.47904,     0.47866,     0.47866,     0.47778,     0.47713,     0.47713,     0.47637,     0.47599,     0.47561,     0.47545,     0.47523,     0.47447,     0.47391,     0.47294,      0.4718,     0.47138,     0.47066,     0.47042,     0.46989,     0.46951,     0.46951,\n",
              "            0.46913,     0.46913,     0.46913,     0.46875,     0.46799,     0.46764,     0.46646,     0.46608,     0.46608,      0.4657,      0.4657,      0.4657,     0.46532,     0.46532,     0.46494,     0.46456,     0.46418,     0.46418,      0.4638,     0.46265,     0.46227,     0.46227,     0.46189,\n",
              "            0.46189,     0.46189,     0.46113,     0.46113,     0.46113,     0.46037,     0.46037,     0.46037,     0.46037,     0.46037,     0.46027,      0.4596,      0.4596,      0.4596,     0.45808,      0.4577,     0.45732,     0.45694,     0.45655,     0.45579,     0.45579,     0.45503,     0.45503,\n",
              "            0.45503,     0.45427,     0.45389,     0.45389,     0.45323,     0.45184,     0.45122,     0.45122,     0.45122,     0.45122,     0.45122,     0.45084,     0.45084,     0.45084,     0.45046,     0.45046,     0.45038,      0.4497,      0.4497,     0.44931,     0.44893,     0.44855,     0.44817,\n",
              "            0.44779,     0.44741,     0.44741,     0.44665,     0.44665,     0.44627,     0.44627,     0.44588,     0.44588,     0.44588,     0.44588,     0.44588,     0.44558,     0.44474,     0.44398,     0.44398,      0.4436,     0.44245,     0.44245,     0.44169,     0.44169,     0.44148,     0.44093,\n",
              "            0.44093,     0.44055,     0.44055,     0.44055,     0.44055,     0.44055,     0.44055,     0.44017,     0.43962,     0.43902,     0.43864,     0.43826,      0.4375,      0.4375,      0.4375,      0.4375,      0.4375,      0.4375,      0.4375,     0.43681,     0.43674,     0.43674,     0.43674,\n",
              "             0.4367,     0.43579,     0.43543,     0.43521,     0.43521,     0.43521,     0.43433,     0.43407,     0.43406,     0.43366,     0.43314,     0.43216,     0.43172,     0.43064,     0.43026,     0.42988,     0.42984,     0.42967,      0.4295,     0.42934,     0.42912,     0.42873,     0.42835,\n",
              "            0.42777,     0.42733,     0.42683,     0.42607,     0.42569,     0.42569,     0.42528,     0.42437,     0.42403,     0.42381,      0.4234,     0.42302,     0.42302,     0.42227,     0.42149,     0.42097,     0.41997,     0.41997,     0.41921,     0.41883,     0.41845,     0.41845,     0.41806,\n",
              "             0.4173,     0.41711,     0.41692,     0.41692,     0.41612,     0.41564,     0.41531,     0.41509,     0.41463,     0.41349,     0.41349,     0.41215,     0.41197,     0.41197,     0.41197,     0.41145,     0.41063,     0.41006,     0.41006,      0.4097,     0.40807,     0.40701,     0.40681,\n",
              "            0.40635,     0.40555,     0.40434,     0.40434,     0.40419,     0.40396,     0.40358,      0.4032,     0.40282,     0.40195,     0.40152,     0.40091,     0.40061,     0.40015,     0.40015,      0.3997,     0.39939,     0.39939,      0.3992,     0.39901,     0.39845,     0.39787,     0.39706,\n",
              "            0.39672,     0.39619,     0.39596,     0.39531,     0.39482,     0.39444,     0.39442,     0.39402,     0.39367,     0.39329,     0.39329,     0.39304,     0.39253,       0.392,     0.39177,     0.39177,     0.39101,     0.39101,     0.39024,     0.39024,     0.39024,     0.39024,     0.38971,\n",
              "            0.38949,      0.3891,     0.38793,     0.38783,     0.38772,     0.38762,     0.38746,     0.38726,     0.38705,     0.38683,     0.38549,     0.38529,     0.38376,     0.38262,     0.38262,     0.38262,     0.38262,     0.37995,     0.37995,     0.37906,     0.37887,     0.37751,     0.37728,\n",
              "            0.37709,     0.37614,     0.37614,     0.37538,     0.37523,     0.37462,     0.37462,     0.37462,     0.37462,     0.37424,     0.37424,      0.3737,     0.37351,     0.37293,     0.37274,     0.37213,     0.37119,     0.37119,     0.37076,     0.37057,     0.37005,     0.37005,     0.36959,\n",
              "            0.36937,     0.36878,     0.36859,     0.36725,     0.36705,       0.367,       0.367,     0.36494,     0.36475,     0.36377,     0.36204,     0.36204,     0.36166,     0.36166,     0.36124,     0.36105,     0.36009,     0.35989,     0.35817,     0.35798,     0.35785,     0.35765,     0.35696,\n",
              "            0.35677,     0.35556,     0.35556,     0.35518,     0.35518,     0.35404,     0.35404,     0.35311,     0.35292,     0.35137,     0.35137,     0.35023,     0.35023,     0.34985,     0.34908,     0.34888,     0.34869,     0.34846,     0.34756,     0.34756,     0.34604,     0.34604,     0.34566,\n",
              "            0.34566,     0.34403,     0.34383,     0.34249,      0.3423,     0.34146,     0.34146,     0.33943,     0.33923,     0.33918,     0.33918,      0.3356,      0.3354,     0.33444,     0.33425,     0.33384,     0.33384,     0.33328,     0.33309,      0.3308,     0.32812,     0.32793,     0.32774,\n",
              "            0.32774,     0.32582,     0.32562,     0.32273,     0.32234,      0.3205,      0.3205,     0.31898,     0.31898,     0.31784,     0.31784,     0.31707,     0.31707,     0.31699,      0.3168,     0.31546,     0.31527,     0.31355,     0.31335,     0.31277,     0.31258,     0.31162,     0.31143,\n",
              "            0.30932,     0.30913,     0.30716,     0.30716,     0.30588,     0.30568,     0.30297,     0.30297,      0.3009,     0.30071,     0.29975,     0.29955,      0.2984,      0.2984,     0.29744,     0.29534,     0.29515,     0.29116,     0.29116,     0.28925,     0.28925,     0.28845,     0.28826,\n",
              "            0.28659,     0.28659,     0.28462,     0.28443,     0.28233,     0.28213,     0.28003,     0.27984,     0.27934,     0.27934,     0.27735,     0.27715,     0.27543,     0.27524,     0.27313,     0.27294,      0.2716,     0.27141,      0.2693,     0.26911,     0.26625,     0.26605,      0.2641,\n",
              "             0.2641,     0.26318,     0.26298,     0.26067,     0.26067,     0.25915,      0.2583,      0.2581,     0.25638,     0.25619,     0.25534,     0.25534,     0.25331,     0.25312,     0.24987,     0.24968,     0.24682,     0.24662,      0.2449,      0.2447,      0.2407,      0.2405,     0.23819,\n",
              "            0.23819,     0.23458,     0.23439,     0.23305,     0.23285,     0.23037,     0.22979,     0.22953,     0.22626,     0.22606,     0.22485,     0.22485,     0.22294,     0.22294,     0.21989,     0.21989,     0.21784,     0.21764,      0.2144,      0.2142,     0.21243,     0.21113,     0.21113,\n",
              "             0.2099,      0.2097,      0.2077,      0.2077,     0.20492,     0.20473,     0.20301,     0.20281,     0.20105,     0.19931,     0.19931,     0.19889,     0.19869,     0.19621,     0.19601,     0.19582,     0.19562,     0.19436,     0.19436,     0.19131,     0.19131,     0.18845,      0.1875,\n",
              "             0.1875,     0.18482,     0.18462,     0.18328,     0.18302,     0.17899,     0.17879,     0.17631,     0.17612,      0.1753,      0.1753,     0.17226,      0.1699,     0.16971,     0.16608,     0.16589,      0.1654,      0.1654,     0.16082,     0.15815,     0.15796,     0.15585,     0.15559,\n",
              "            0.15461,     0.15441,     0.15193,     0.15174,     0.15015,     0.14744,     0.14724,       0.144,      0.1438,      0.1413,     0.14104,     0.13779,     0.13759,     0.13581,     0.13482,     0.13462,     0.13176,     0.13157,     0.12905,     0.12384,     0.12364,     0.12192,     0.12165,\n",
              "            0.11877,     0.11858,     0.11719,      0.1158,     0.11561,     0.11357,     0.11357,     0.11073,     0.11054,       0.108,     0.10624,     0.10605,     0.10353,     0.10213,     0.10194,     0.10097,     0.10071,    0.097443,    0.097248,    0.094724,    0.093332,    0.093137,     0.09064,\n",
              "           0.090379,    0.088264,    0.088068,    0.086295,    0.084129,    0.083869,    0.082523,    0.082328,    0.081309,    0.078381,    0.075454,    0.075259,    0.073916,    0.073655,    0.071871,    0.070095,    0.069899,    0.067024,    0.066764,    0.065741,    0.064354,    0.064159,    0.061276,\n",
              "           0.061016,    0.059832,    0.057827,    0.057567,    0.056223,    0.056027,    0.054245,    0.052841,    0.052199,    0.051939,    0.050192,    0.049997,    0.047474,    0.045689,    0.045429,    0.043644,     0.04224,     0.04198,    0.040576,    0.038791,    0.038531,    0.037182,    0.036987,\n",
              "           0.035209,      0.0319,    0.031639,    0.030616,    0.029975,    0.029333,    0.029073,    0.027669,    0.026662,    0.026532,    0.026401,    0.025484,    0.025224,    0.025152,    0.023941,     0.02368,       0.022,    0.021869,    0.021739,    0.021495,    0.020854,    0.020594,     0.01919,\n",
              "           0.018167,    0.017907,    0.017646,    0.016243,    0.015618,    0.015547,    0.015476,    0.015405,    0.015334,    0.015263,    0.014674,    0.014066,    0.013936,    0.013806,    0.013588,    0.013338,    0.013338,    0.013338,    0.012844,    0.012584,    0.012425,    0.012268,    0.011295,\n",
              "           0.011041,    0.010885,    0.010729,    0.010507,    0.010247,   0.0099861,   0.0097988,   0.0096426,   0.0086967,   0.0084363,   0.0076906,   0.0075146,   0.0073844,   0.0072542,   0.0067195,   0.0065633,   0.0064275,   0.0063159,   0.0062043,   0.0053239,   0.0050635,   0.0047275,   0.0040345,\n",
              "          0.0037999,   0.0037218,   0.0036437,   0.0035655,   0.0034874,   0.0033269,   0.0030038,   0.0028475,   0.0026913,   0.0025729,   0.0024613,   0.0023497,   0.0022866,   0.0022866,   0.0022866,   0.0022814,   0.0020209,   0.0018434,   0.0017318,   0.0016201,   0.0015085,   0.0013969,   0.0012853,\n",
              "          0.0011737,   0.0007622,   0.0007622,  0.00075567,  0.00074727,  0.00073887,  0.00073047,  0.00072207,  0.00071367,  0.00070527,  0.00069687,  0.00068847,  0.00068007,  0.00067167,  0.00066326,  0.00065486,  0.00064646,  0.00063806,  0.00062966,  0.00062126,  0.00061286,  0.00060446,  0.00059606,\n",
              "         0.00058766,  0.00057926,  0.00057086,  0.00056246,  0.00055406,  0.00054565,  0.00053725,  0.00052885,  0.00052045,  0.00051205,  0.00050365,  0.00049525,  0.00048685,  0.00047845,  0.00047005,  0.00046165,  0.00045325,  0.00044485,  0.00043644,  0.00042804,  0.00041964,  0.00041124,  0.00040284,\n",
              "         0.00039444,  0.00038604,           0,           0,           0,           0,           0,           0,           0,           0,           0,           0,           0,           0,           0,           0,           0,           0,           0,           0,           0,           0,           0,\n",
              "                  0,           0,           0,           0,           0,           0,           0,           0,           0,           0,           0,           0,           0,           0,           0,           0,           0,           0,           0,           0,           0,           0,           0,\n",
              "                  0,           0,           0,           0,           0,           0,           0,           0,           0,           0,           0,           0,           0,           0,           0,           0,           0,           0,           0,           0,           0,           0,           0,\n",
              "                  0,           0,           0,           0,           0,           0,           0,           0,           0,           0,           0,           0,           0,           0,           0,           0,           0,           0,           0,           0,           0,           0,           0,\n",
              "                  0,           0,           0,           0,           0,           0,           0,           0,           0,           0,           0,           0,           0,           0,           0,           0,           0,           0,           0,           0,           0,           0,           0,\n",
              "                  0,           0,           0,           0,           0,           0,           0,           0,           0,           0,           0]]), 'Confidence', 'Recall']]\n",
              "fitness: 0.1848976201426538\n",
              "keys: ['metrics/precision(B)', 'metrics/recall(B)', 'metrics/mAP50(B)', 'metrics/mAP50-95(B)']\n",
              "maps: array([    0.15576])\n",
              "names: {0: 'injera_mold'}\n",
              "plot: True\n",
              "results_dict: {'metrics/precision(B)': 0.6870497556026297, 'metrics/recall(B)': 0.4317166505936831, 'metrics/mAP50(B)': 0.4471400038380293, 'metrics/mAP50-95(B)': 0.15575957750983427, 'fitness': 0.1848976201426538}\n",
              "save_dir: PosixPath('runs/detect/train3')\n",
              "speed: {'preprocess': 0.2584983776142071, 'inference': 19.251086495139383, 'loss': 0.0007555082246854709, 'postprocess': 2.9828022052715353}\n",
              "task: 'detect'"
            ]
          },
          "execution_count": 11,
          "metadata": {},
          "output_type": "execute_result"
        }
      ],
      "source": [
        "model.train(data='/content/mold-4/data.yaml', epochs=500, imgsz=640, device=0)"
      ]
    },
    {
      "cell_type": "code",
      "execution_count": null,
      "metadata": {
        "id": "W9ZUAbDqAZ6H"
      },
      "outputs": [],
      "source": [
        "import torch\n",
        "torch.cuda.empty_cache()"
      ]
    },
    {
      "cell_type": "code",
      "execution_count": null,
      "metadata": {
        "id": "33rNvgpZBKVF"
      },
      "outputs": [],
      "source": [
        "model = YOLO('yolov8m-p2.yaml')\n",
        "val_model = YOLO('/content/runs/detect/train3/weights/best.pt')"
      ]
    },
    {
      "cell_type": "code",
      "execution_count": null,
      "metadata": {
        "colab": {
          "base_uri": "https://localhost:8080/"
        },
        "id": "wUuG4fiHBwZj",
        "outputId": "3d74552f-c93e-4d02-aad2-f6d59e26413f"
      },
      "outputs": [
        {
          "name": "stdout",
          "output_type": "stream",
          "text": [
            "Ultralytics YOLOv8.1.8 🚀 Python-3.10.12 torch-2.1.0+cu121 CUDA:0 (Tesla T4, 15102MiB)\n",
            "YOLOv8m-p2 summary (fused): 267 layers, 25034292 parameters, 0 gradients, 97.9 GFLOPs\n"
          ]
        },
        {
          "name": "stderr",
          "output_type": "stream",
          "text": [
            "\u001b[34m\u001b[1mval: \u001b[0mScanning /content/mold-4/valid/labels.cache... 77 images, 1 backgrounds, 0 corrupt: 100%|██████████| 77/77 [00:00<?, ?it/s]\n",
            "                 Class     Images  Instances      Box(P          R      mAP50  mAP50-95): 100%|██████████| 5/5 [00:20<00:00,  4.00s/it]\n"
          ]
        },
        {
          "name": "stdout",
          "output_type": "stream",
          "text": [
            "                   all         77       2624      0.699      0.418      0.455      0.162\n",
            "Speed: 1.8ms preprocess, 51.2ms inference, 0.0ms loss, 8.5ms postprocess per image\n",
            "Results saved to \u001b[1mruns/detect/val\u001b[0m\n"
          ]
        }
      ],
      "source": [
        "metrics = val_model.val()"
      ]
    },
    {
      "cell_type": "markdown",
      "metadata": {
        "id": "grx_uZkrHJHD"
      },
      "source": [
        "#**Testing on images**"
      ]
    },
    {
      "cell_type": "code",
      "execution_count": null,
      "metadata": {
        "colab": {
          "base_uri": "https://localhost:8080/"
        },
        "id": "LhMtt0EeHNhO",
        "outputId": "fa66b667-2650-4fda-ae2c-be931e8fe17f"
      },
      "outputs": [
        {
          "name": "stdout",
          "output_type": "stream",
          "text": [
            "WARNING ⚠️ Environment does not support cv2.imshow() or PIL Image.show()\n",
            "\n",
            "\n",
            "WARNING ⚠️ NMS time limit 0.550s exceeded\n",
            "image 1/77 /content/mold-4/test/images/20231217_160819_jpg.rf.7bb8183d3394e2338fa13d1c396f47fb.jpg: 640x640 17 injera_molds, 79.1ms\n",
            "image 2/77 /content/mold-4/test/images/20231217_160903_jpg.rf.4b1da4194c6aa63687108e3c46490c54.jpg: 640x640 21 injera_molds, 46.8ms\n",
            "image 3/77 /content/mold-4/test/images/20231217_160913_jpg.rf.e2437340a22c2f19f0c6c80daed89ffe.jpg: 640x640 24 injera_molds, 46.6ms\n",
            "image 4/77 /content/mold-4/test/images/20231217_160940_jpg.rf.6dc8807921b42463ab6612a285d9a704.jpg: 640x640 31 injera_molds, 49.8ms\n",
            "image 5/77 /content/mold-4/test/images/20231217_161221_jpg.rf.b04956f891d5c766fc806ee8a85187f2.jpg: 640x640 34 injera_molds, 47.1ms\n",
            "image 6/77 /content/mold-4/test/images/20231217_161623_jpg.rf.681f48cca0bd75b048f5b3e7b23feae8.jpg: 640x640 11 injera_molds, 35.6ms\n",
            "image 7/77 /content/mold-4/test/images/20231217_161630_jpg.rf.82050efc69137a44df351ffd671bc75f.jpg: 640x640 13 injera_molds, 35.3ms\n",
            "image 8/77 /content/mold-4/test/images/20231217_161634_jpg.rf.e0c3b5f106e6798eef0de8b486aa98e5.jpg: 640x640 14 injera_molds, 35.3ms\n",
            "image 9/77 /content/mold-4/test/images/20231217_161711_jpg.rf.68fb23fc45362503cdcfe0957339806d.jpg: 640x640 17 injera_molds, 32.7ms\n",
            "image 10/77 /content/mold-4/test/images/20231217_161719_jpg.rf.d231027718e895759962e870f0366932.jpg: 640x640 17 injera_molds, 24.9ms\n",
            "image 11/77 /content/mold-4/test/images/20231217_161837_jpg.rf.046d606f39a2a642bce86ed868d20461.jpg: 640x640 17 injera_molds, 24.8ms\n",
            "image 12/77 /content/mold-4/test/images/20231217_161854_jpg.rf.fb38506d98064140a0c7d61e64873738.jpg: 640x640 16 injera_molds, 24.7ms\n",
            "image 13/77 /content/mold-4/test/images/20231217_161944_jpg.rf.331ead9db993224711eacea0d0bd67d9.jpg: 640x640 17 injera_molds, 24.6ms\n",
            "image 14/77 /content/mold-4/test/images/20231217_162105_jpg.rf.5dacd512534597ced50f9bf76a46564b.jpg: 640x640 22 injera_molds, 22.7ms\n",
            "image 15/77 /content/mold-4/test/images/20231217_162611_jpg.rf.58057ee9e57302c3723e204af2d1bce1.jpg: 640x640 19 injera_molds, 23.7ms\n",
            "image 16/77 /content/mold-4/test/images/20231217_162641_jpg.rf.484f71eddcaf2a50d3904537a681e2a1.jpg: 640x640 23 injera_molds, 22.9ms\n",
            "image 17/77 /content/mold-4/test/images/20231217_162645_jpg.rf.eacd373864aaafa17d872ebae7db6296.jpg: 640x640 8 injera_molds, 24.0ms\n",
            "image 18/77 /content/mold-4/test/images/20231217_162815_jpg.rf.80a49f3fc2d7e38bc1321652ac4397d4.jpg: 640x640 18 injera_molds, 23.4ms\n",
            "image 19/77 /content/mold-4/test/images/20231217_163021_jpg.rf.11c4d6341d6c0bcc1d0b7d0218a92192.jpg: 640x640 18 injera_molds, 23.2ms\n",
            "image 20/77 /content/mold-4/test/images/20231217_163302_jpg.rf.b7491aaafa81f2b16db8cd68f53f3020.jpg: 640x640 27 injera_molds, 23.9ms\n",
            "image 21/77 /content/mold-4/test/images/20231217_163305_jpg.rf.7f8bf7238f43e2f738352dead43cfcc1.jpg: 640x640 33 injera_molds, 22.8ms\n",
            "image 22/77 /content/mold-4/test/images/20231217_163314_jpg.rf.e18fa833b1bfa3421960177b85c95d31.jpg: 640x640 23 injera_molds, 23.3ms\n",
            "image 23/77 /content/mold-4/test/images/20231217_163844_jpg.rf.3ad592bb2454291a51e8325a1cf81864.jpg: 640x640 24 injera_molds, 22.9ms\n",
            "image 24/77 /content/mold-4/test/images/20231217_163918_jpg.rf.5aecfab53dfbf0b910549aa29a09e471.jpg: 640x640 27 injera_molds, 23.8ms\n",
            "image 25/77 /content/mold-4/test/images/20231217_163927_jpg.rf.98a820e53f1a943405413031b4a75fb9.jpg: 640x640 25 injera_molds, 22.6ms\n",
            "image 26/77 /content/mold-4/test/images/20231217_164000_jpg.rf.fd4eb1b53c20afc3e6b971474805c157.jpg: 640x640 20 injera_molds, 23.4ms\n",
            "image 27/77 /content/mold-4/test/images/20231217_164151_jpg.rf.eac415fca4e6b65fa0830bde2fd81c88.jpg: 640x640 37 injera_molds, 23.1ms\n",
            "image 28/77 /content/mold-4/test/images/20231217_164217_jpg.rf.6c6e55b3a67ebd676bb6f8d3bef2defe.jpg: 640x640 29 injera_molds, 22.9ms\n",
            "image 29/77 /content/mold-4/test/images/20231217_164912_jpg.rf.fbcc170d8c61debf38b1e96ec1491a99.jpg: 640x640 22 injera_molds, 23.9ms\n",
            "image 30/77 /content/mold-4/test/images/20231217_165351_jpg.rf.2d1c3a38598936cfd2eac26a6a7928ff.jpg: 640x640 26 injera_molds, 23.1ms\n",
            "image 31/77 /content/mold-4/test/images/20231217_165511_jpg.rf.9ccb04adc793915edca90f38cfbbebee.jpg: 640x640 15 injera_molds, 23.7ms\n",
            "image 32/77 /content/mold-4/test/images/20231217_165514_jpg.rf.251161dd4524005a6e0377e44f60bbe3.jpg: 640x640 23 injera_molds, 23.1ms\n",
            "image 33/77 /content/mold-4/test/images/20231217_165531_jpg.rf.524a40d7d15550c6958e7cd5e12a8d33.jpg: 640x640 14 injera_molds, 23.2ms\n",
            "image 34/77 /content/mold-4/test/images/20231217_165543_jpg.rf.42e331e3d1a9008402eff92cdaa58c76.jpg: 640x640 11 injera_molds, 23.6ms\n",
            "image 35/77 /content/mold-4/test/images/20231217_165617_jpg.rf.d7b77d31d4d170740ec72420579828d7.jpg: 640x640 16 injera_molds, 23.0ms\n",
            "image 36/77 /content/mold-4/test/images/20231217_165623_jpg.rf.21a667689cffb21840bf4bb55dc6066d.jpg: 640x640 20 injera_molds, 23.4ms\n",
            "image 37/77 /content/mold-4/test/images/20231217_165632_jpg.rf.1bc5687b090d5e91002f133ad37fc2d2.jpg: 640x640 17 injera_molds, 23.7ms\n",
            "image 38/77 /content/mold-4/test/images/20231217_165636_jpg.rf.4a871d36a124ea3b69d7336c0d3f5289.jpg: 640x640 13 injera_molds, 23.0ms\n",
            "image 39/77 /content/mold-4/test/images/20231217_165641_jpg.rf.dd6b2edef68694605551cf557cdc059c.jpg: 640x640 13 injera_molds, 23.5ms\n",
            "image 40/77 /content/mold-4/test/images/20231217_165648_jpg.rf.77fb1f02fbda447ea6b9932d07b8d60f.jpg: 640x640 15 injera_molds, 23.7ms\n",
            "image 41/77 /content/mold-4/test/images/20231217_165652_jpg.rf.d6b7b0308f21e266ad14e26f03e31690.jpg: 640x640 19 injera_molds, 23.7ms\n",
            "image 42/77 /content/mold-4/test/images/20231217_165705_jpg.rf.60c0c0b52ca49a3d0949b20da36e4722.jpg: 640x640 19 injera_molds, 23.2ms\n",
            "image 43/77 /content/mold-4/test/images/20231217_165708_jpg.rf.81371784f3c89412f69cd9c9d6b6e77c.jpg: 640x640 23 injera_molds, 24.1ms\n",
            "image 44/77 /content/mold-4/test/images/20231217_165713_jpg.rf.7ed03d67d3be0e0eb636b546c9436cdc.jpg: 640x640 22 injera_molds, 23.3ms\n",
            "image 45/77 /content/mold-4/test/images/20231217_165718_jpg.rf.a7642d52bd58b54a17be0c80eb60b811.jpg: 640x640 12 injera_molds, 23.4ms\n",
            "image 46/77 /content/mold-4/test/images/20231217_165734_jpg.rf.6a3631021a7a31c4cb703372869a7c46.jpg: 640x640 15 injera_molds, 24.3ms\n",
            "image 47/77 /content/mold-4/test/images/20231217_165750_jpg.rf.7ec29ac3b2e17d467e4171aaf432792e.jpg: 640x640 22 injera_molds, 23.2ms\n",
            "image 48/77 /content/mold-4/test/images/20231217_165752_jpg.rf.70db18495ecd0821d76e325ba1021918.jpg: 640x640 21 injera_molds, 24.1ms\n",
            "image 49/77 /content/mold-4/test/images/20231217_165813_jpg.rf.17be9febd3445eb05f1d5e4aee4673bd.jpg: 640x640 21 injera_molds, 23.5ms\n",
            "image 50/77 /content/mold-4/test/images/20231217_165818_jpg.rf.e32a247ced44cbde1e1eaac9515777e5.jpg: 640x640 17 injera_molds, 23.0ms\n",
            "image 51/77 /content/mold-4/test/images/20231217_165823_jpg.rf.327367df55a9d2dfad0886fbb71debf4.jpg: 640x640 15 injera_molds, 24.1ms\n",
            "image 52/77 /content/mold-4/test/images/20231217_165902_jpg.rf.4d98cdcbd0e47d47039c962fd573d310.jpg: 640x640 14 injera_molds, 23.6ms\n",
            "image 53/77 /content/mold-4/test/images/20231217_165911_jpg.rf.152c0d04f7a7f5fca20947103d96deab.jpg: 640x640 18 injera_molds, 23.3ms\n",
            "image 54/77 /content/mold-4/test/images/20231217_170038_jpg.rf.c2f93e08db6f49f148a76cbecae5c99a.jpg: 640x640 24 injera_molds, 23.3ms\n",
            "image 55/77 /content/mold-4/test/images/20231217_170041_jpg.rf.a4086774a128740b9527c26ba8189821.jpg: 640x640 20 injera_molds, 23.8ms\n",
            "image 56/77 /content/mold-4/test/images/20231217_170047_jpg.rf.bfdbd588181d5e43c7c423845ff92b3e.jpg: 640x640 20 injera_molds, 23.1ms\n",
            "image 57/77 /content/mold-4/test/images/20231217_170057_jpg.rf.5fb34085cfe0b95c8f5e237706b2b2d3.jpg: 640x640 12 injera_molds, 23.3ms\n",
            "image 58/77 /content/mold-4/test/images/20231217_170113_jpg.rf.db73bf746346719a6dfaca7b9e1e1de0.jpg: 640x640 12 injera_molds, 23.9ms\n",
            "image 59/77 /content/mold-4/test/images/20231217_170114_jpg.rf.f7d6a4e6de05bab7cf6a243915b893f3.jpg: 640x640 13 injera_molds, 23.3ms\n",
            "image 60/77 /content/mold-4/test/images/20231217_170116_jpg.rf.ff1686c9070872253db7ca313c582ad4.jpg: 640x640 11 injera_molds, 23.0ms\n",
            "image 61/77 /content/mold-4/test/images/20231217_170124_jpg.rf.aa6ddde1092809afe7a932f88be30811.jpg: 640x640 10 injera_molds, 24.1ms\n",
            "image 62/77 /content/mold-4/test/images/20231217_170126_jpg.rf.d4ba584bdd6ea2d9d39a20f1799745d3.jpg: 640x640 10 injera_molds, 23.7ms\n",
            "image 63/77 /content/mold-4/test/images/20231217_170130_jpg.rf.602aa855ce5cb45de309b41b575e15d0.jpg: 640x640 8 injera_molds, 23.0ms\n",
            "image 64/77 /content/mold-4/test/images/20231217_170137_jpg.rf.59d2b5485119dc4b90ccad88cda8860a.jpg: 640x640 11 injera_molds, 23.7ms\n",
            "image 65/77 /content/mold-4/test/images/20231217_170144_jpg.rf.6b21a69d653da4a1219ff31c79e72921.jpg: 640x640 8 injera_molds, 23.7ms\n",
            "image 66/77 /content/mold-4/test/images/20231217_170217_jpg.rf.4b09aad0c418e99014e591feb9cf1a24.jpg: 640x640 8 injera_molds, 23.1ms\n",
            "image 67/77 /content/mold-4/test/images/20231217_170331_jpg.rf.b5d9ca1adba3c242da153b054e091fa9.jpg: 640x640 14 injera_molds, 23.6ms\n",
            "image 68/77 /content/mold-4/test/images/20231217_170344_jpg.rf.932e71ff01ecaa0f60bc5767bfa9aec2.jpg: 640x640 10 injera_molds, 22.9ms\n",
            "image 69/77 /content/mold-4/test/images/20231217_170350_jpg.rf.26e317ee68323aed0a5ffe9fe14a6655.jpg: 640x640 18 injera_molds, 23.9ms\n",
            "image 70/77 /content/mold-4/test/images/20231217_170352_jpg.rf.6162c154d97dc00bf9f8666cd4beadc2.jpg: 640x640 20 injera_molds, 24.1ms\n",
            "image 71/77 /content/mold-4/test/images/20231217_170356_jpg.rf.db4dbd1d85ad9ca0d180201e2beffe48.jpg: 640x640 10 injera_molds, 23.1ms\n",
            "image 72/77 /content/mold-4/test/images/20231217_170401_jpg.rf.159bf2d5e07a4748729c2bcb1d08579c.jpg: 640x640 19 injera_molds, 24.1ms\n",
            "image 73/77 /content/mold-4/test/images/20231217_170407_jpg.rf.14de668fe049f6247f598e6e2e46eb56.jpg: 640x640 40 injera_molds, 24.1ms\n",
            "image 74/77 /content/mold-4/test/images/20231217_170409_jpg.rf.77c05af9ac42e0a38f4ed9557498ac0a.jpg: 640x640 34 injera_molds, 23.0ms\n",
            "image 75/77 /content/mold-4/test/images/20231217_170414_jpg.rf.2184d11eb7ac0de73cfde78e577b63fa.jpg: 640x640 14 injera_molds, 23.9ms\n",
            "image 76/77 /content/mold-4/test/images/20231217_170423_jpg.rf.ae6d6d7b40c9bcd654ce2cf2996ac482.jpg: 640x640 19 injera_molds, 23.9ms\n",
            "image 77/77 /content/mold-4/test/images/20231217_170433_jpg.rf.e5c113ee83f3438dc416d47d53805e64.jpg: 640x640 29 injera_molds, 23.2ms\n",
            "Speed: 2.2ms preprocess, 26.1ms inference, 13.4ms postprocess per image at shape (1, 3, 640, 640)\n",
            "Results saved to \u001b[1mruns/detect/predict3\u001b[0m\n"
          ]
        }
      ],
      "source": [
        "result = val_model.predict('/content/mold-4/test/images/',save=True,show=True)"
      ]
    },
    {
      "cell_type": "code",
      "execution_count": null,
      "metadata": {
        "id": "WEcUgaV3SCTf"
      },
      "outputs": [],
      "source": []
    }
  ],
  "metadata": {
    "accelerator": "GPU",
    "colab": {
      "provenance": []
    },
    "kernelspec": {
      "display_name": "Python 3",
      "name": "python3"
    },
    "language_info": {
      "name": "python"
    }
  },
  "nbformat": 4,
  "nbformat_minor": 0
}
